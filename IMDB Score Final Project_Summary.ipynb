{
 "cells": [
  {
   "cell_type": "markdown",
   "metadata": {},
   "source": [
    "# IMDB Score Final Project Summary\n",
    "\n",
    "\"On my honor, as a student, I have neither given nor received unauthorized aid on this academic work.\"\n",
    "Jessica Davis"
   ]
  },
  {
   "cell_type": "markdown",
   "metadata": {},
   "source": [
    "## Project Overview"
   ]
  },
  {
   "cell_type": "markdown",
   "metadata": {},
   "source": [
    "During this projects we used three methods to assist stakeholders in predicting movie success using IMDB score predictors.\n",
    "* Regression: Using variables to predict IMDB score\n",
    "* Classification: Using variables to classify movies into IMDB score categories\n",
    "* Clustering: Grouping movies together using variables to determine what are the characteristics of good and bad movies"
   ]
  },
  {
   "cell_type": "markdown",
   "metadata": {},
   "source": [
    "### Data Transformation"
   ]
  },
  {
   "cell_type": "markdown",
   "metadata": {},
   "source": [
    "During this phase we did the following steps to simplify models for movie stakeholds\n",
    "* Removed any variables that are directly used to formulate IMDB score\n",
    "* Removed any variables that cannot be determined prior to movie release\n",
    "* Removed variables that did not have a high correlation with IMDB scores\n",
    "* Actor Facebook Likes were combined and put into categories\n",
    "* Director Facebook Likes were combined and put into categories\n",
    "\n",
    "The result was 6 categories of variables\n",
    "* Budget\n",
    "* Duration\n",
    "* Actor Popularity\n",
    "* Director Popularity\n",
    "* Genres: Comedy, Drama, Thriller/Horror, Biography/Documentary/History/War\n",
    "* Ratings: G, PG, PG-13, R"
   ]
  },
  {
   "cell_type": "markdown",
   "metadata": {},
   "source": [
    "### Regression Analysis"
   ]
  },
  {
   "cell_type": "markdown",
   "metadata": {},
   "source": [
    "The following regression models were used during this project:\n",
    "* Basic Scikit Regression\n",
    "* Ridge\n",
    "* Lasso\n",
    "* f_Regression\n",
    "* Recursive Feature Selection\n",
    "* Random Forest Feature Selection"
   ]
  },
  {
   "cell_type": "markdown",
   "metadata": {},
   "source": [
    "Out of these models, Random Forest produced the best model.\n",
    "\n",
    "* The model used duration, budget, Drama, actor popularity, and director popularity\n",
    "* The mean square error was .21\n",
    "* The r-squared was 83%\n",
    "\n",
    "This model is roughly 83% accurate in predicting IMDB score.\n",
    "\n",
    "The model requires stakeholders to have the following information\n",
    "* What is the duration of the movie?\n",
    "* What is the budget of the movie?\n",
    "* Is the movie a Drama (Y/N)?\n",
    "* What is the popularity of the top three actors in the move (see below for rating)\n",
    "* What is the popularity of the director of the movie (see below for rating)\n",
    "\n",
    "Actor popularity (in facebook likes)\n",
    "* 6=extrmely popular (over 50000)\n",
    "* 5=very popular (20000-50000)\n",
    "* 4=popular (4000-20000)\n",
    "* 3=somewhat popular (1500-4000)\n",
    "* 2=unpopular (500-1500)\n",
    "* 1=unknown (less than 500)\n",
    "\n",
    "Director Popularity (in facebook likes)\n",
    "* 4=very popular (over 500 likes)\n",
    "* 3=popular (100-500)\n",
    "* 2=unpopular (1-100)\n",
    "* 1=unknown (0)"
   ]
  },
  {
   "cell_type": "markdown",
   "metadata": {},
   "source": [
    "### If the stakeholder has this information they can predict the IMDB score 83% of the time."
   ]
  },
  {
   "cell_type": "markdown",
   "metadata": {},
   "source": [
    "This is particularly significant infromation for movie stakeholders that are further down the movie chain such as movie distributors and theatres. They can use this information to determine which movies they will invest time and money into."
   ]
  },
  {
   "cell_type": "markdown",
   "metadata": {},
   "source": [
    "### Classification Analysis"
   ]
  },
  {
   "cell_type": "markdown",
   "metadata": {},
   "source": [
    "The following regression models were used during this project:\n",
    "* KNN\n",
    "* Decision Tree\n",
    "* Logistic"
   ]
  },
  {
   "cell_type": "markdown",
   "metadata": {},
   "source": [
    "Out of these models, the Random Forest model had the best classification accuracy\n",
    "* The model had a 62.6% accuracy\n",
    "* The model had 17% accurate in predicting category 1\n",
    "* The model had 45% accurate in predicting category 2\n",
    "* The model had 69% accurate in predicting category 3\n",
    "* The model had 52% accurate in predicting category 4"
   ]
  },
  {
   "cell_type": "markdown",
   "metadata": {},
   "source": [
    "All of the models were significantly better at predicting category 3, perhaps because this is where most of the movies fall."
   ]
  },
  {
   "cell_type": "markdown",
   "metadata": {},
   "source": [
    "This classification analysis can be helpful for movie stakeholders\n",
    "* It is often more practical to know an IMDB score category than to predict the exact score\n",
    "* The models are not extrmely accurate, but can guide stakeholders in their ROI anlysis\n",
    "* However these models did have a very low prediction rate for movies in category 1. This means that it often predicted low scoring movies as higher scoring movies"
   ]
  },
  {
   "cell_type": "markdown",
   "metadata": {},
   "source": [
    "#### If stakeholders want a general idea of how well a movie would score, classification is the best option. For example, if a theatre is making a decision that can be changed in the future such as number of theatres allocated during the first week of showing.\n",
    "\n",
    "#### However, if stakeholders  are investing a lot of money but do not want a risky investment, they should not use this model."
   ]
  },
  {
   "cell_type": "markdown",
   "metadata": {},
   "source": [
    "### Data Transformation"
   ]
  },
  {
   "cell_type": "markdown",
   "metadata": {},
   "source": [
    "Two clustering methods were used during this project:\n",
    "* K-Means\n",
    "* Hierarchical Clustering"
   ]
  },
  {
   "cell_type": "markdown",
   "metadata": {},
   "source": [
    "Both models had generally the same conclusions:\n",
    "* Most movies could be categorized into four categories using actor popularity and director popularity\n",
    "* Budget and duration were not as important when creating distinct clusters of movies\n",
    "\n",
    "Below were the general profiles of the clusters created\n",
    "* Cluster 0 had high actor popularity and high director popularity. Their IMDB score average was between 6-8\n",
    "* Cluster 1 had low actor popularity and low director popularity. Their IMDB score was between a 4-6. Their budgets were very high and their movies were longer.\n",
    "* Cluster 2 had low actor popularity and high director popularity. Their IMDB score was around 4. Their budgets were very low and their movies were shorter.\n",
    "* Cluster 3 had high actor popularity and low director popularity. Their IMDB score was between 6-8. Their budgets were also high."
   ]
  },
  {
   "cell_type": "markdown",
   "metadata": {},
   "source": [
    "Stakeholders can use this infrormation in the following ways\n",
    "* Generally, movies that have popular actors are scored better\n",
    "* Movies that have high director popularity also may play a role as well\n",
    "* Movies are not easily categorized by category and budget\n",
    "* Movies differentiate themselves between other movies by actors and directors\n",
    "\n",
    "This means that movies that have higher budgets or longer durations do not always stick out. This is a particularly important consideration if a stakeholder is considering between multiple different choices that are predicted to have similar scores.\n",
    "\n",
    "#### If stakeholders are looking for movies that are unique or will stick out during busy opening weekends, they should focus on the actor and director popularity. This is what people use to differentiate one movie versus another.\n"
   ]
  },
  {
   "cell_type": "markdown",
   "metadata": {},
   "source": [
    "## Project Overview"
   ]
  },
  {
   "cell_type": "markdown",
   "metadata": {},
   "source": [
    "IMDB scores can be predicted with multiple different models. Each model has a different application.\n",
    "\n",
    "* Regression: Can predict scores accurately, and can be a good indication of the ROI of a movie before it is produced. This is best for stakeholders to use early in the process when investment stakes are higher because it is more accurate. More detailed information is necessary to make this model accurate\n",
    "* Classification: This model is less accurate at predicting scores but can be used further down the movie chain to determine the relative success for a movie. This movie may be important for movie exhibitors or distributors that are deciding how to allocate resources in the short-term.\n",
    "* Clustering: This model is best to determine whether or not a movie will stick out amongst many different movies. It is best for predicting movie sucess in the short-term compared to other available movies. It could be helpful in situations like picking an opening weekend where a movie may have to compete with many others."
   ]
  },
  {
   "cell_type": "markdown",
   "metadata": {},
   "source": [
    "### IMDB score is a good predictor of movie success, but it is not the only variable that should be considered. Stakeholders can use these tools to guide their decisions in combination with other variables such as market trends."
   ]
  },
  {
   "cell_type": "code",
   "execution_count": null,
   "metadata": {},
   "outputs": [],
   "source": []
  }
 ],
 "metadata": {
  "kernelspec": {
   "display_name": "Python 2",
   "language": "python",
   "name": "python2"
  },
  "language_info": {
   "codemirror_mode": {
    "name": "ipython",
    "version": 2
   },
   "file_extension": ".py",
   "mimetype": "text/x-python",
   "name": "python",
   "nbconvert_exporter": "python",
   "pygments_lexer": "ipython2",
   "version": "2.7.15"
  }
 },
 "nbformat": 4,
 "nbformat_minor": 2
}
