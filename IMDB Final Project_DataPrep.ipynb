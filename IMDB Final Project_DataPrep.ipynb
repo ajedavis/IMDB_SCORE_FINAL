{
 "cells": [
  {
   "cell_type": "markdown",
   "metadata": {},
   "source": [
    "# IMDB Score Final Project-Data Preperation\n",
    "\n",
    "\"On my honor, as a student, I have neither given nor received unauthorized aid on this academic work.\"\n",
    "Jessica Davis"
   ]
  },
  {
   "cell_type": "markdown",
   "metadata": {
    "tags": [
     "Business",
     "Understanding"
    ]
   },
   "source": [
    "# Business Understanding"
   ]
  },
  {
   "cell_type": "markdown",
   "metadata": {},
   "source": [
    "## Background\n",
    "The IMDB movie score uses the following weighted average formula to determine it's movie scores: \n",
    " (WR) = (v ÷ (v+m)) × R + (m ÷ (v+m)) × C\n",
    "Where:\n",
    "   - R = average for the movie (mean) = (Rating)\n",
    "   - v = number of votes for the movie = (votes)\n",
    "   - m = minimum votes required to be listed in the Top 250 (currently 25000)\n",
    "   - C = the mean vote across the whole report (currently 7.0)\n",
    "   \n",
    "IMDB also puts more weights on different rater's votes, depending on how often they rate and how much their rating effects other IMDB users.\n",
    "\n",
    "IMDB Scores and Movie Success \n",
    "* Customers heavily weigh movie scores from sources such as IMDB to determine whether they should watch a movie.\n",
    "* Google has determined that movies with high search rates have higher box office scores. It is likely these searches are for review scores such as IMDB.\n",
    "* Movie's production, advertising, and distribution costs are increasing over time, therefore it is crucial to predict a movie's sucess in order to predict return on investment.\n",
    "* As the international market comes into play, movie trends need to change with different culture's preferences.\n",
    "\n",
    "Past research has shown that the following variables have the strongest correlation with IMDB score:\n",
    "* Duration\n",
    "* Budget (not strong but important)\n",
    "* Director facebook popularity\n",
    "* Facebook popuarity of the top 3 actors/actresses\n",
    "* Title year\n",
    "\n",
    "This data is from 2016, therefore it may not reflect variables that are becoming more important, such as international appeal in developing Countries like China"
   ]
  },
  {
   "cell_type": "markdown",
   "metadata": {},
   "source": [
    "## Objectives\n",
    "\n",
    "The project goal is to determine which variables (that can be controlled before movie release) determine IMBD score. A model will be developed to assist various stakeholders in the movie industry in determining whether there will be a return on production, marketing, distribution, and screening budgets.This model use practical movie variables to predict future IMDB score."
   ]
  },
  {
   "cell_type": "markdown",
   "metadata": {},
   "source": [
    "## Success Criteria"
   ]
  },
  {
   "cell_type": "markdown",
   "metadata": {},
   "source": [
    "* Determine variables that correlate to a higher IMDB score\n",
    "* Describe the relationship between important movie variables and IMDB scores\n",
    "* Create a model that accurately predict movie IMDB score\n",
    "* Explain how stakeholders can use this model to determine whether movies are likely to yield a return on investment"
   ]
  },
  {
   "cell_type": "markdown",
   "metadata": {},
   "source": [
    "## Project Plan\n",
    "* Data Understanding\n",
    "* Data Preparation\n",
    "* Data Transformation\n",
    "* Regression Analysis\n",
    "* Classification Analysis\n",
    "* Clustering Analysis\n",
    "* Model Selection and Implementation"
   ]
  },
  {
   "cell_type": "markdown",
   "metadata": {},
   "source": [
    "## Data Understanding"
   ]
  },
  {
   "cell_type": "markdown",
   "metadata": {},
   "source": [
    "### Introduce the Data Set"
   ]
  },
  {
   "cell_type": "code",
   "execution_count": 403,
   "metadata": {},
   "outputs": [],
   "source": [
    "#Import necessary packages\n",
    "import pandas as pd\n",
    "import numpy as np\n",
    "from pandas.tools import plotting\n",
    "import matplotlib.pyplot as plt\n",
    "%matplotlib inline\n",
    "import seaborn as sns\n",
    "import matplotlib.pyplot as plt\n",
    "import plotly as py\n",
    "import plotly.graph_objs as go"
   ]
  },
  {
   "cell_type": "code",
   "execution_count": 404,
   "metadata": {},
   "outputs": [],
   "source": [
    "#remove warnings to keep dataset clean\n",
    "import warnings\n",
    "warnings.filterwarnings('ignore')"
   ]
  },
  {
   "cell_type": "code",
   "execution_count": 405,
   "metadata": {},
   "outputs": [],
   "source": [
    "#Set Display Format\n",
    "pd.set_option('display.max_colwidth', -1)\n",
    "pd.set_option('display.max_columns', None)"
   ]
  },
  {
   "cell_type": "markdown",
   "metadata": {},
   "source": [
    "#### A Preview of the Data Set is Displayed Below"
   ]
  },
  {
   "cell_type": "code",
   "execution_count": 406,
   "metadata": {},
   "outputs": [
    {
     "data": {
      "text/html": [
       "<div>\n",
       "<style scoped>\n",
       "    .dataframe tbody tr th:only-of-type {\n",
       "        vertical-align: middle;\n",
       "    }\n",
       "\n",
       "    .dataframe tbody tr th {\n",
       "        vertical-align: top;\n",
       "    }\n",
       "\n",
       "    .dataframe thead th {\n",
       "        text-align: right;\n",
       "    }\n",
       "</style>\n",
       "<table border=\"1\" class=\"dataframe\">\n",
       "  <thead>\n",
       "    <tr style=\"text-align: right;\">\n",
       "      <th></th>\n",
       "      <th>color</th>\n",
       "      <th>director_name</th>\n",
       "      <th>num_critic_for_reviews</th>\n",
       "      <th>duration</th>\n",
       "      <th>director_facebook_likes</th>\n",
       "      <th>actor_3_facebook_likes</th>\n",
       "      <th>actor_2_name</th>\n",
       "      <th>actor_1_facebook_likes</th>\n",
       "      <th>gross</th>\n",
       "      <th>genres</th>\n",
       "      <th>actor_1_name</th>\n",
       "      <th>movie_title</th>\n",
       "      <th>num_voted_users</th>\n",
       "      <th>cast_total_facebook_likes</th>\n",
       "      <th>actor_3_name</th>\n",
       "      <th>facenumber_in_poster</th>\n",
       "      <th>plot_keywords</th>\n",
       "      <th>movie_imdb_link</th>\n",
       "      <th>num_user_for_reviews</th>\n",
       "      <th>language</th>\n",
       "      <th>country</th>\n",
       "      <th>content_rating</th>\n",
       "      <th>budget</th>\n",
       "      <th>title_year</th>\n",
       "      <th>actor_2_facebook_likes</th>\n",
       "      <th>imdb_score</th>\n",
       "      <th>aspect_ratio</th>\n",
       "      <th>movie_facebook_likes</th>\n",
       "    </tr>\n",
       "  </thead>\n",
       "  <tbody>\n",
       "    <tr>\n",
       "      <th>0</th>\n",
       "      <td>Color</td>\n",
       "      <td>James Cameron</td>\n",
       "      <td>723.0</td>\n",
       "      <td>178.0</td>\n",
       "      <td>0.0</td>\n",
       "      <td>855.0</td>\n",
       "      <td>Joel David Moore</td>\n",
       "      <td>1000.0</td>\n",
       "      <td>760505847.0</td>\n",
       "      <td>Action|Adventure|Fantasy|Sci-Fi</td>\n",
       "      <td>CCH Pounder</td>\n",
       "      <td>Avatar</td>\n",
       "      <td>886204</td>\n",
       "      <td>4834</td>\n",
       "      <td>Wes Studi</td>\n",
       "      <td>0.0</td>\n",
       "      <td>avatar|future|marine|native|paraplegic</td>\n",
       "      <td>http://www.imdb.com/title/tt0499549/?ref_=fn_tt_tt_1</td>\n",
       "      <td>3054.0</td>\n",
       "      <td>English</td>\n",
       "      <td>USA</td>\n",
       "      <td>PG-13</td>\n",
       "      <td>237000000.0</td>\n",
       "      <td>2009.0</td>\n",
       "      <td>936.0</td>\n",
       "      <td>7.9</td>\n",
       "      <td>1.78</td>\n",
       "      <td>33000</td>\n",
       "    </tr>\n",
       "    <tr>\n",
       "      <th>1</th>\n",
       "      <td>Color</td>\n",
       "      <td>Gore Verbinski</td>\n",
       "      <td>302.0</td>\n",
       "      <td>169.0</td>\n",
       "      <td>563.0</td>\n",
       "      <td>1000.0</td>\n",
       "      <td>Orlando Bloom</td>\n",
       "      <td>40000.0</td>\n",
       "      <td>309404152.0</td>\n",
       "      <td>Action|Adventure|Fantasy</td>\n",
       "      <td>Johnny Depp</td>\n",
       "      <td>Pirates of the Caribbean: At World's End</td>\n",
       "      <td>471220</td>\n",
       "      <td>48350</td>\n",
       "      <td>Jack Davenport</td>\n",
       "      <td>0.0</td>\n",
       "      <td>goddess|marriage ceremony|marriage proposal|pirate|singapore</td>\n",
       "      <td>http://www.imdb.com/title/tt0449088/?ref_=fn_tt_tt_1</td>\n",
       "      <td>1238.0</td>\n",
       "      <td>English</td>\n",
       "      <td>USA</td>\n",
       "      <td>PG-13</td>\n",
       "      <td>300000000.0</td>\n",
       "      <td>2007.0</td>\n",
       "      <td>5000.0</td>\n",
       "      <td>7.1</td>\n",
       "      <td>2.35</td>\n",
       "      <td>0</td>\n",
       "    </tr>\n",
       "    <tr>\n",
       "      <th>2</th>\n",
       "      <td>Color</td>\n",
       "      <td>Sam Mendes</td>\n",
       "      <td>602.0</td>\n",
       "      <td>148.0</td>\n",
       "      <td>0.0</td>\n",
       "      <td>161.0</td>\n",
       "      <td>Rory Kinnear</td>\n",
       "      <td>11000.0</td>\n",
       "      <td>200074175.0</td>\n",
       "      <td>Action|Adventure|Thriller</td>\n",
       "      <td>Christoph Waltz</td>\n",
       "      <td>Spectre</td>\n",
       "      <td>275868</td>\n",
       "      <td>11700</td>\n",
       "      <td>Stephanie Sigman</td>\n",
       "      <td>1.0</td>\n",
       "      <td>bomb|espionage|sequel|spy|terrorist</td>\n",
       "      <td>http://www.imdb.com/title/tt2379713/?ref_=fn_tt_tt_1</td>\n",
       "      <td>994.0</td>\n",
       "      <td>English</td>\n",
       "      <td>UK</td>\n",
       "      <td>PG-13</td>\n",
       "      <td>245000000.0</td>\n",
       "      <td>2015.0</td>\n",
       "      <td>393.0</td>\n",
       "      <td>6.8</td>\n",
       "      <td>2.35</td>\n",
       "      <td>85000</td>\n",
       "    </tr>\n",
       "    <tr>\n",
       "      <th>3</th>\n",
       "      <td>Color</td>\n",
       "      <td>Christopher Nolan</td>\n",
       "      <td>813.0</td>\n",
       "      <td>164.0</td>\n",
       "      <td>22000.0</td>\n",
       "      <td>23000.0</td>\n",
       "      <td>Christian Bale</td>\n",
       "      <td>27000.0</td>\n",
       "      <td>448130642.0</td>\n",
       "      <td>Action|Thriller</td>\n",
       "      <td>Tom Hardy</td>\n",
       "      <td>The Dark Knight Rises</td>\n",
       "      <td>1144337</td>\n",
       "      <td>106759</td>\n",
       "      <td>Joseph Gordon-Levitt</td>\n",
       "      <td>0.0</td>\n",
       "      <td>deception|imprisonment|lawlessness|police officer|terrorist plot</td>\n",
       "      <td>http://www.imdb.com/title/tt1345836/?ref_=fn_tt_tt_1</td>\n",
       "      <td>2701.0</td>\n",
       "      <td>English</td>\n",
       "      <td>USA</td>\n",
       "      <td>PG-13</td>\n",
       "      <td>250000000.0</td>\n",
       "      <td>2012.0</td>\n",
       "      <td>23000.0</td>\n",
       "      <td>8.5</td>\n",
       "      <td>2.35</td>\n",
       "      <td>164000</td>\n",
       "    </tr>\n",
       "    <tr>\n",
       "      <th>4</th>\n",
       "      <td>NaN</td>\n",
       "      <td>Doug Walker</td>\n",
       "      <td>NaN</td>\n",
       "      <td>NaN</td>\n",
       "      <td>131.0</td>\n",
       "      <td>NaN</td>\n",
       "      <td>Rob Walker</td>\n",
       "      <td>131.0</td>\n",
       "      <td>NaN</td>\n",
       "      <td>Documentary</td>\n",
       "      <td>Doug Walker</td>\n",
       "      <td>Star Wars: Episode VII - The Force Awakens</td>\n",
       "      <td>8</td>\n",
       "      <td>143</td>\n",
       "      <td>NaN</td>\n",
       "      <td>0.0</td>\n",
       "      <td>NaN</td>\n",
       "      <td>http://www.imdb.com/title/tt5289954/?ref_=fn_tt_tt_1</td>\n",
       "      <td>NaN</td>\n",
       "      <td>NaN</td>\n",
       "      <td>NaN</td>\n",
       "      <td>NaN</td>\n",
       "      <td>NaN</td>\n",
       "      <td>NaN</td>\n",
       "      <td>12.0</td>\n",
       "      <td>7.1</td>\n",
       "      <td>NaN</td>\n",
       "      <td>0</td>\n",
       "    </tr>\n",
       "  </tbody>\n",
       "</table>\n",
       "</div>"
      ],
      "text/plain": [
       "   color      director_name  num_critic_for_reviews  duration  \\\n",
       "0  Color  James Cameron      723.0                   178.0      \n",
       "1  Color  Gore Verbinski     302.0                   169.0      \n",
       "2  Color  Sam Mendes         602.0                   148.0      \n",
       "3  Color  Christopher Nolan  813.0                   164.0      \n",
       "4  NaN    Doug Walker       NaN                     NaN         \n",
       "\n",
       "   director_facebook_likes  actor_3_facebook_likes      actor_2_name  \\\n",
       "0  0.0                      855.0                   Joel David Moore   \n",
       "1  563.0                    1000.0                  Orlando Bloom      \n",
       "2  0.0                      161.0                   Rory Kinnear       \n",
       "3  22000.0                  23000.0                 Christian Bale     \n",
       "4  131.0                   NaN                      Rob Walker         \n",
       "\n",
       "   actor_1_facebook_likes        gross                           genres  \\\n",
       "0  1000.0                  760505847.0  Action|Adventure|Fantasy|Sci-Fi   \n",
       "1  40000.0                 309404152.0  Action|Adventure|Fantasy          \n",
       "2  11000.0                 200074175.0  Action|Adventure|Thriller         \n",
       "3  27000.0                 448130642.0  Action|Thriller                   \n",
       "4  131.0                  NaN           Documentary                       \n",
       "\n",
       "      actor_1_name                                              movie_title  \\\n",
       "0  CCH Pounder      Avatar                                                    \n",
       "1  Johnny Depp      Pirates of the Caribbean: At World's End                  \n",
       "2  Christoph Waltz  Spectre                                                   \n",
       "3  Tom Hardy        The Dark Knight Rises                                     \n",
       "4  Doug Walker      Star Wars: Episode VII - The Force Awakens                \n",
       "\n",
       "   num_voted_users  cast_total_facebook_likes          actor_3_name  \\\n",
       "0  886204           4834                       Wes Studi              \n",
       "1  471220           48350                      Jack Davenport         \n",
       "2  275868           11700                      Stephanie Sigman       \n",
       "3  1144337          106759                     Joseph Gordon-Levitt   \n",
       "4  8                143                        NaN                    \n",
       "\n",
       "   facenumber_in_poster  \\\n",
       "0  0.0                    \n",
       "1  0.0                    \n",
       "2  1.0                    \n",
       "3  0.0                    \n",
       "4  0.0                    \n",
       "\n",
       "                                                      plot_keywords  \\\n",
       "0  avatar|future|marine|native|paraplegic                             \n",
       "1  goddess|marriage ceremony|marriage proposal|pirate|singapore       \n",
       "2  bomb|espionage|sequel|spy|terrorist                                \n",
       "3  deception|imprisonment|lawlessness|police officer|terrorist plot   \n",
       "4  NaN                                                                \n",
       "\n",
       "                                        movie_imdb_link  num_user_for_reviews  \\\n",
       "0  http://www.imdb.com/title/tt0499549/?ref_=fn_tt_tt_1  3054.0                 \n",
       "1  http://www.imdb.com/title/tt0449088/?ref_=fn_tt_tt_1  1238.0                 \n",
       "2  http://www.imdb.com/title/tt2379713/?ref_=fn_tt_tt_1  994.0                  \n",
       "3  http://www.imdb.com/title/tt1345836/?ref_=fn_tt_tt_1  2701.0                 \n",
       "4  http://www.imdb.com/title/tt5289954/?ref_=fn_tt_tt_1 NaN                     \n",
       "\n",
       "  language country content_rating       budget  title_year  \\\n",
       "0  English  USA     PG-13          237000000.0  2009.0       \n",
       "1  English  USA     PG-13          300000000.0  2007.0       \n",
       "2  English  UK      PG-13          245000000.0  2015.0       \n",
       "3  English  USA     PG-13          250000000.0  2012.0       \n",
       "4  NaN      NaN     NaN           NaN          NaN           \n",
       "\n",
       "   actor_2_facebook_likes  imdb_score  aspect_ratio  movie_facebook_likes  \n",
       "0  936.0                   7.9         1.78          33000                 \n",
       "1  5000.0                  7.1         2.35          0                     \n",
       "2  393.0                   6.8         2.35          85000                 \n",
       "3  23000.0                 8.5         2.35          164000                \n",
       "4  12.0                    7.1        NaN            0                     "
      ]
     },
     "execution_count": 406,
     "metadata": {},
     "output_type": "execute_result"
    }
   ],
   "source": [
    "# Import Data\n",
    "df = pd.read_csv('data/movie_metadata.csv')\n",
    "df.head()"
   ]
  },
  {
   "cell_type": "code",
   "execution_count": 407,
   "metadata": {},
   "outputs": [
    {
     "data": {
      "text/plain": [
       "(5043, 28)"
      ]
     },
     "execution_count": 407,
     "metadata": {},
     "output_type": "execute_result"
    }
   ],
   "source": [
    "#Determine Data Shape\n",
    "df.shape"
   ]
  },
  {
   "cell_type": "markdown",
   "metadata": {},
   "source": [
    "There are 5 rows and 28 columns in this data set."
   ]
  },
  {
   "cell_type": "markdown",
   "metadata": {},
   "source": [
    "#### Explaination of Data Columns"
   ]
  },
  {
   "cell_type": "code",
   "execution_count": 408,
   "metadata": {},
   "outputs": [
    {
     "data": {
      "text/html": [
       "<div>\n",
       "<style scoped>\n",
       "    .dataframe tbody tr th:only-of-type {\n",
       "        vertical-align: middle;\n",
       "    }\n",
       "\n",
       "    .dataframe tbody tr th {\n",
       "        vertical-align: top;\n",
       "    }\n",
       "\n",
       "    .dataframe thead th {\n",
       "        text-align: right;\n",
       "    }\n",
       "</style>\n",
       "<table border=\"1\" class=\"dataframe\">\n",
       "  <thead>\n",
       "    <tr style=\"text-align: right;\">\n",
       "      <th></th>\n",
       "      <th>Variable Name</th>\n",
       "      <th>Description</th>\n",
       "    </tr>\n",
       "  </thead>\n",
       "  <tbody>\n",
       "    <tr>\n",
       "      <th>0</th>\n",
       "      <td>movie_title</td>\n",
       "      <td>Title of the Movie</td>\n",
       "    </tr>\n",
       "    <tr>\n",
       "      <th>1</th>\n",
       "      <td>duration</td>\n",
       "      <td>Duration in minutes</td>\n",
       "    </tr>\n",
       "    <tr>\n",
       "      <th>2</th>\n",
       "      <td>director_name</td>\n",
       "      <td>Name of the Director of the Movie</td>\n",
       "    </tr>\n",
       "    <tr>\n",
       "      <th>3</th>\n",
       "      <td>director_facebook_likes</td>\n",
       "      <td>Number of likes of the Director on his Facebook Page</td>\n",
       "    </tr>\n",
       "    <tr>\n",
       "      <th>4</th>\n",
       "      <td>actor_1_name</td>\n",
       "      <td>Primary actor starring in the movie</td>\n",
       "    </tr>\n",
       "    <tr>\n",
       "      <th>5</th>\n",
       "      <td>actor_1_facebook_likes</td>\n",
       "      <td>Number of likes of the Actor_1 on his/her Facebook Page</td>\n",
       "    </tr>\n",
       "    <tr>\n",
       "      <th>6</th>\n",
       "      <td>actor_2_name</td>\n",
       "      <td>Other actor starring in the movie</td>\n",
       "    </tr>\n",
       "    <tr>\n",
       "      <th>7</th>\n",
       "      <td>actor_2_facebook_likes</td>\n",
       "      <td>Number of likes of the Actor_2 on his/her Facebook Page</td>\n",
       "    </tr>\n",
       "    <tr>\n",
       "      <th>8</th>\n",
       "      <td>actor_3_name</td>\n",
       "      <td>Other actor starring in the movie</td>\n",
       "    </tr>\n",
       "    <tr>\n",
       "      <th>9</th>\n",
       "      <td>actor_3_facebook_likes</td>\n",
       "      <td>Number of likes of the Actor_3 on his/her Facebook Page</td>\n",
       "    </tr>\n",
       "    <tr>\n",
       "      <th>10</th>\n",
       "      <td>num_user_for_reviews</td>\n",
       "      <td>Number of users who gave a review</td>\n",
       "    </tr>\n",
       "    <tr>\n",
       "      <th>11</th>\n",
       "      <td>num_critic_for_reviews</td>\n",
       "      <td>Number of critical reviews on imdb</td>\n",
       "    </tr>\n",
       "    <tr>\n",
       "      <th>12</th>\n",
       "      <td>num_voted_users</td>\n",
       "      <td>Number of people who voted for the movie</td>\n",
       "    </tr>\n",
       "    <tr>\n",
       "      <th>13</th>\n",
       "      <td>cast_total_facebook_likes</td>\n",
       "      <td>Total number of facebook likes of the entire cast of the movie</td>\n",
       "    </tr>\n",
       "    <tr>\n",
       "      <th>14</th>\n",
       "      <td>movie_facebook_likes</td>\n",
       "      <td>Number of Facebook likes in the movie page</td>\n",
       "    </tr>\n",
       "    <tr>\n",
       "      <th>15</th>\n",
       "      <td>plot_keywords</td>\n",
       "      <td>Keywords describing the movie plot</td>\n",
       "    </tr>\n",
       "    <tr>\n",
       "      <th>16</th>\n",
       "      <td>facenumber_in_poster</td>\n",
       "      <td>Number of the actor who featured in the movie poster</td>\n",
       "    </tr>\n",
       "    <tr>\n",
       "      <th>17</th>\n",
       "      <td>color</td>\n",
       "      <td>Film colorization. ‘Black and White’ or ‘Color’</td>\n",
       "    </tr>\n",
       "    <tr>\n",
       "      <th>18</th>\n",
       "      <td>genres</td>\n",
       "      <td>Film categorization like ‘Animation’, ‘Comedy’, ‘Romance’, ‘Horror’, ‘Sci-Fi’, ‘Action’, ‘Family’</td>\n",
       "    </tr>\n",
       "    <tr>\n",
       "      <th>19</th>\n",
       "      <td>title_year</td>\n",
       "      <td>The year in which the movie is released (1916:2016)</td>\n",
       "    </tr>\n",
       "    <tr>\n",
       "      <th>20</th>\n",
       "      <td>language</td>\n",
       "      <td>English, Arabic, Chinese, French, German, Danish, Italian, Japanese etc</td>\n",
       "    </tr>\n",
       "    <tr>\n",
       "      <th>21</th>\n",
       "      <td>country</td>\n",
       "      <td>Country where the movie is produced</td>\n",
       "    </tr>\n",
       "    <tr>\n",
       "      <th>22</th>\n",
       "      <td>content_rating</td>\n",
       "      <td>Content rating of the movie</td>\n",
       "    </tr>\n",
       "    <tr>\n",
       "      <th>23</th>\n",
       "      <td>aspect_ratio</td>\n",
       "      <td>Aspect ratio the movie was made in</td>\n",
       "    </tr>\n",
       "    <tr>\n",
       "      <th>24</th>\n",
       "      <td>movie_imdb_link</td>\n",
       "      <td>IMDB link of the movie</td>\n",
       "    </tr>\n",
       "    <tr>\n",
       "      <th>25</th>\n",
       "      <td>gross</td>\n",
       "      <td>Gross earnings of the movie in Dollars</td>\n",
       "    </tr>\n",
       "    <tr>\n",
       "      <th>26</th>\n",
       "      <td>budget</td>\n",
       "      <td>Budget of the movie in Dollars</td>\n",
       "    </tr>\n",
       "    <tr>\n",
       "      <th>27</th>\n",
       "      <td>imdb_score</td>\n",
       "      <td>IMDB Score of the movie on IMDB</td>\n",
       "    </tr>\n",
       "  </tbody>\n",
       "</table>\n",
       "</div>"
      ],
      "text/plain": [
       "                Variable Name  \\\n",
       "0   movie_title                 \n",
       "1   duration                    \n",
       "2   director_name               \n",
       "3   director_facebook_likes     \n",
       "4   actor_1_name                \n",
       "5   actor_1_facebook_likes      \n",
       "6   actor_2_name                \n",
       "7   actor_2_facebook_likes      \n",
       "8   actor_3_name                \n",
       "9   actor_3_facebook_likes      \n",
       "10  num_user_for_reviews        \n",
       "11  num_critic_for_reviews      \n",
       "12  num_voted_users             \n",
       "13  cast_total_facebook_likes   \n",
       "14  movie_facebook_likes        \n",
       "15  plot_keywords               \n",
       "16  facenumber_in_poster        \n",
       "17  color                       \n",
       "18  genres                      \n",
       "19  title_year                  \n",
       "20  language                    \n",
       "21  country                     \n",
       "22  content_rating              \n",
       "23  aspect_ratio                \n",
       "24  movie_imdb_link             \n",
       "25  gross                       \n",
       "26  budget                      \n",
       "27  imdb_score                  \n",
       "\n",
       "                                                                                          Description  \n",
       "0   Title of the Movie                                                                                 \n",
       "1   Duration in minutes                                                                                \n",
       "2   Name of the Director of the Movie                                                                  \n",
       "3   Number of likes of the Director on his Facebook Page                                               \n",
       "4   Primary actor starring in the movie                                                                \n",
       "5   Number of likes of the Actor_1 on his/her Facebook Page                                            \n",
       "6   Other actor starring in the movie                                                                  \n",
       "7   Number of likes of the Actor_2 on his/her Facebook Page                                            \n",
       "8   Other actor starring in the movie                                                                  \n",
       "9   Number of likes of the Actor_3 on his/her Facebook Page                                            \n",
       "10  Number of users who gave a review                                                                  \n",
       "11  Number of critical reviews on imdb                                                                 \n",
       "12  Number of people who voted for the movie                                                           \n",
       "13  Total number of facebook likes of the entire cast of the movie                                     \n",
       "14  Number of Facebook likes in the movie page                                                         \n",
       "15  Keywords describing the movie plot                                                                 \n",
       "16  Number of the actor who featured in the movie poster                                               \n",
       "17  Film colorization. ‘Black and White’ or ‘Color’                                                    \n",
       "18  Film categorization like ‘Animation’, ‘Comedy’, ‘Romance’, ‘Horror’, ‘Sci-Fi’, ‘Action’, ‘Family’  \n",
       "19  The year in which the movie is released (1916:2016)                                                \n",
       "20  English, Arabic, Chinese, French, German, Danish, Italian, Japanese etc                            \n",
       "21  Country where the movie is produced                                                                \n",
       "22  Content rating of the movie                                                                        \n",
       "23  Aspect ratio the movie was made in                                                                 \n",
       "24  IMDB link of the movie                                                                             \n",
       "25  Gross earnings of the movie in Dollars                                                             \n",
       "26  Budget of the movie in Dollars                                                                     \n",
       "27  IMDB Score of the movie on IMDB                                                                    "
      ]
     },
     "execution_count": 408,
     "metadata": {},
     "output_type": "execute_result"
    }
   ],
   "source": [
    "#The data columns are explained below\n",
    "dt = pd.read_excel('data/imdb_description.xlsx')\n",
    "dt"
   ]
  },
  {
   "cell_type": "markdown",
   "metadata": {},
   "source": [
    "### Describe the data"
   ]
  },
  {
   "cell_type": "markdown",
   "metadata": {},
   "source": [
    "#### Basic Statistics"
   ]
  },
  {
   "cell_type": "code",
   "execution_count": 409,
   "metadata": {},
   "outputs": [
    {
     "data": {
      "text/html": [
       "<div>\n",
       "<style scoped>\n",
       "    .dataframe tbody tr th:only-of-type {\n",
       "        vertical-align: middle;\n",
       "    }\n",
       "\n",
       "    .dataframe tbody tr th {\n",
       "        vertical-align: top;\n",
       "    }\n",
       "\n",
       "    .dataframe thead th {\n",
       "        text-align: right;\n",
       "    }\n",
       "</style>\n",
       "<table border=\"1\" class=\"dataframe\">\n",
       "  <thead>\n",
       "    <tr style=\"text-align: right;\">\n",
       "      <th></th>\n",
       "      <th>num_critic_for_reviews</th>\n",
       "      <th>duration</th>\n",
       "      <th>director_facebook_likes</th>\n",
       "      <th>actor_3_facebook_likes</th>\n",
       "      <th>actor_1_facebook_likes</th>\n",
       "      <th>gross</th>\n",
       "      <th>num_voted_users</th>\n",
       "      <th>cast_total_facebook_likes</th>\n",
       "      <th>facenumber_in_poster</th>\n",
       "      <th>num_user_for_reviews</th>\n",
       "      <th>budget</th>\n",
       "      <th>title_year</th>\n",
       "      <th>actor_2_facebook_likes</th>\n",
       "      <th>imdb_score</th>\n",
       "      <th>aspect_ratio</th>\n",
       "      <th>movie_facebook_likes</th>\n",
       "    </tr>\n",
       "  </thead>\n",
       "  <tbody>\n",
       "    <tr>\n",
       "      <th>count</th>\n",
       "      <td>4993.000000</td>\n",
       "      <td>5028.000000</td>\n",
       "      <td>4939.000000</td>\n",
       "      <td>5020.000000</td>\n",
       "      <td>5036.000000</td>\n",
       "      <td>4.159000e+03</td>\n",
       "      <td>5.043000e+03</td>\n",
       "      <td>5043.000000</td>\n",
       "      <td>5030.000000</td>\n",
       "      <td>5022.000000</td>\n",
       "      <td>4.551000e+03</td>\n",
       "      <td>4935.000000</td>\n",
       "      <td>5030.000000</td>\n",
       "      <td>5043.000000</td>\n",
       "      <td>4714.000000</td>\n",
       "      <td>5043.000000</td>\n",
       "    </tr>\n",
       "    <tr>\n",
       "      <th>mean</th>\n",
       "      <td>140.194272</td>\n",
       "      <td>107.201074</td>\n",
       "      <td>686.509212</td>\n",
       "      <td>645.009761</td>\n",
       "      <td>6560.047061</td>\n",
       "      <td>4.846841e+07</td>\n",
       "      <td>8.366816e+04</td>\n",
       "      <td>9699.063851</td>\n",
       "      <td>1.371173</td>\n",
       "      <td>272.770808</td>\n",
       "      <td>3.975262e+07</td>\n",
       "      <td>2002.470517</td>\n",
       "      <td>1651.754473</td>\n",
       "      <td>6.442138</td>\n",
       "      <td>2.220403</td>\n",
       "      <td>7525.964505</td>\n",
       "    </tr>\n",
       "    <tr>\n",
       "      <th>std</th>\n",
       "      <td>121.601675</td>\n",
       "      <td>25.197441</td>\n",
       "      <td>2813.328607</td>\n",
       "      <td>1665.041728</td>\n",
       "      <td>15020.759120</td>\n",
       "      <td>6.845299e+07</td>\n",
       "      <td>1.384853e+05</td>\n",
       "      <td>18163.799124</td>\n",
       "      <td>2.013576</td>\n",
       "      <td>377.982886</td>\n",
       "      <td>2.061149e+08</td>\n",
       "      <td>12.474599</td>\n",
       "      <td>4042.438863</td>\n",
       "      <td>1.125116</td>\n",
       "      <td>1.385113</td>\n",
       "      <td>19320.445110</td>\n",
       "    </tr>\n",
       "    <tr>\n",
       "      <th>min</th>\n",
       "      <td>1.000000</td>\n",
       "      <td>7.000000</td>\n",
       "      <td>0.000000</td>\n",
       "      <td>0.000000</td>\n",
       "      <td>0.000000</td>\n",
       "      <td>1.620000e+02</td>\n",
       "      <td>5.000000e+00</td>\n",
       "      <td>0.000000</td>\n",
       "      <td>0.000000</td>\n",
       "      <td>1.000000</td>\n",
       "      <td>2.180000e+02</td>\n",
       "      <td>1916.000000</td>\n",
       "      <td>0.000000</td>\n",
       "      <td>1.600000</td>\n",
       "      <td>1.180000</td>\n",
       "      <td>0.000000</td>\n",
       "    </tr>\n",
       "    <tr>\n",
       "      <th>25%</th>\n",
       "      <td>50.000000</td>\n",
       "      <td>93.000000</td>\n",
       "      <td>7.000000</td>\n",
       "      <td>133.000000</td>\n",
       "      <td>614.000000</td>\n",
       "      <td>5.340988e+06</td>\n",
       "      <td>8.593500e+03</td>\n",
       "      <td>1411.000000</td>\n",
       "      <td>0.000000</td>\n",
       "      <td>65.000000</td>\n",
       "      <td>6.000000e+06</td>\n",
       "      <td>1999.000000</td>\n",
       "      <td>281.000000</td>\n",
       "      <td>5.800000</td>\n",
       "      <td>1.850000</td>\n",
       "      <td>0.000000</td>\n",
       "    </tr>\n",
       "    <tr>\n",
       "      <th>50%</th>\n",
       "      <td>110.000000</td>\n",
       "      <td>103.000000</td>\n",
       "      <td>49.000000</td>\n",
       "      <td>371.500000</td>\n",
       "      <td>988.000000</td>\n",
       "      <td>2.551750e+07</td>\n",
       "      <td>3.435900e+04</td>\n",
       "      <td>3090.000000</td>\n",
       "      <td>1.000000</td>\n",
       "      <td>156.000000</td>\n",
       "      <td>2.000000e+07</td>\n",
       "      <td>2005.000000</td>\n",
       "      <td>595.000000</td>\n",
       "      <td>6.600000</td>\n",
       "      <td>2.350000</td>\n",
       "      <td>166.000000</td>\n",
       "    </tr>\n",
       "    <tr>\n",
       "      <th>75%</th>\n",
       "      <td>195.000000</td>\n",
       "      <td>118.000000</td>\n",
       "      <td>194.500000</td>\n",
       "      <td>636.000000</td>\n",
       "      <td>11000.000000</td>\n",
       "      <td>6.230944e+07</td>\n",
       "      <td>9.630900e+04</td>\n",
       "      <td>13756.500000</td>\n",
       "      <td>2.000000</td>\n",
       "      <td>326.000000</td>\n",
       "      <td>4.500000e+07</td>\n",
       "      <td>2011.000000</td>\n",
       "      <td>918.000000</td>\n",
       "      <td>7.200000</td>\n",
       "      <td>2.350000</td>\n",
       "      <td>3000.000000</td>\n",
       "    </tr>\n",
       "    <tr>\n",
       "      <th>max</th>\n",
       "      <td>813.000000</td>\n",
       "      <td>511.000000</td>\n",
       "      <td>23000.000000</td>\n",
       "      <td>23000.000000</td>\n",
       "      <td>640000.000000</td>\n",
       "      <td>7.605058e+08</td>\n",
       "      <td>1.689764e+06</td>\n",
       "      <td>656730.000000</td>\n",
       "      <td>43.000000</td>\n",
       "      <td>5060.000000</td>\n",
       "      <td>1.221550e+10</td>\n",
       "      <td>2016.000000</td>\n",
       "      <td>137000.000000</td>\n",
       "      <td>9.500000</td>\n",
       "      <td>16.000000</td>\n",
       "      <td>349000.000000</td>\n",
       "    </tr>\n",
       "  </tbody>\n",
       "</table>\n",
       "</div>"
      ],
      "text/plain": [
       "       num_critic_for_reviews     duration  director_facebook_likes  \\\n",
       "count  4993.000000             5028.000000  4939.000000               \n",
       "mean   140.194272              107.201074   686.509212                \n",
       "std    121.601675              25.197441    2813.328607               \n",
       "min    1.000000                7.000000     0.000000                  \n",
       "25%    50.000000               93.000000    7.000000                  \n",
       "50%    110.000000              103.000000   49.000000                 \n",
       "75%    195.000000              118.000000   194.500000                \n",
       "max    813.000000              511.000000   23000.000000              \n",
       "\n",
       "       actor_3_facebook_likes  actor_1_facebook_likes         gross  \\\n",
       "count  5020.000000             5036.000000             4.159000e+03   \n",
       "mean   645.009761              6560.047061             4.846841e+07   \n",
       "std    1665.041728             15020.759120            6.845299e+07   \n",
       "min    0.000000                0.000000                1.620000e+02   \n",
       "25%    133.000000              614.000000              5.340988e+06   \n",
       "50%    371.500000              988.000000              2.551750e+07   \n",
       "75%    636.000000              11000.000000            6.230944e+07   \n",
       "max    23000.000000            640000.000000           7.605058e+08   \n",
       "\n",
       "       num_voted_users  cast_total_facebook_likes  facenumber_in_poster  \\\n",
       "count  5.043000e+03     5043.000000                5030.000000            \n",
       "mean   8.366816e+04     9699.063851                1.371173               \n",
       "std    1.384853e+05     18163.799124               2.013576               \n",
       "min    5.000000e+00     0.000000                   0.000000               \n",
       "25%    8.593500e+03     1411.000000                0.000000               \n",
       "50%    3.435900e+04     3090.000000                1.000000               \n",
       "75%    9.630900e+04     13756.500000               2.000000               \n",
       "max    1.689764e+06     656730.000000              43.000000              \n",
       "\n",
       "       num_user_for_reviews        budget   title_year  \\\n",
       "count  5022.000000           4.551000e+03  4935.000000   \n",
       "mean   272.770808            3.975262e+07  2002.470517   \n",
       "std    377.982886            2.061149e+08  12.474599     \n",
       "min    1.000000              2.180000e+02  1916.000000   \n",
       "25%    65.000000             6.000000e+06  1999.000000   \n",
       "50%    156.000000            2.000000e+07  2005.000000   \n",
       "75%    326.000000            4.500000e+07  2011.000000   \n",
       "max    5060.000000           1.221550e+10  2016.000000   \n",
       "\n",
       "       actor_2_facebook_likes   imdb_score  aspect_ratio  movie_facebook_likes  \n",
       "count  5030.000000             5043.000000  4714.000000   5043.000000           \n",
       "mean   1651.754473             6.442138     2.220403      7525.964505           \n",
       "std    4042.438863             1.125116     1.385113      19320.445110          \n",
       "min    0.000000                1.600000     1.180000      0.000000              \n",
       "25%    281.000000              5.800000     1.850000      0.000000              \n",
       "50%    595.000000              6.600000     2.350000      166.000000            \n",
       "75%    918.000000              7.200000     2.350000      3000.000000           \n",
       "max    137000.000000           9.500000     16.000000     349000.000000         "
      ]
     },
     "execution_count": 409,
     "metadata": {},
     "output_type": "execute_result"
    }
   ],
   "source": [
    "#basic statistics that describe the data set are listed below\n",
    "df.describe()"
   ]
  },
  {
   "cell_type": "markdown",
   "metadata": {},
   "source": [
    "Basic Statistics for IMDB scores included in this data set are listed below:"
   ]
  },
  {
   "cell_type": "code",
   "execution_count": 410,
   "metadata": {},
   "outputs": [
    {
     "data": {
      "text/plain": [
       "count    5043.000000\n",
       "mean     6.442138   \n",
       "std      1.125116   \n",
       "min      1.600000   \n",
       "25%      5.800000   \n",
       "50%      6.600000   \n",
       "75%      7.200000   \n",
       "max      9.500000   \n",
       "Name: imdb_score, dtype: float64"
      ]
     },
     "execution_count": 410,
     "metadata": {},
     "output_type": "execute_result"
    }
   ],
   "source": [
    "#imdb score statistics\n",
    "df['imdb_score'].describe()"
   ]
  },
  {
   "cell_type": "markdown",
   "metadata": {},
   "source": [
    "IMDB scores range from 0-10, however the highest score in this data set is 9.5. The lowest score in this data set is 1.6. The mean score is 6.4. The disribution of IMDB scores is visualized in the histogram below."
   ]
  },
  {
   "cell_type": "code",
   "execution_count": 411,
   "metadata": {},
   "outputs": [
    {
     "data": {
      "text/plain": [
       "<matplotlib.axes._subplots.AxesSubplot at 0x1aec8fd0>"
      ]
     },
     "execution_count": 411,
     "metadata": {},
     "output_type": "execute_result"
    },
    {
     "data": {
      "image/png": "[encoded data removed]",
      "text/plain": [
       "<Figure size 360x360 with 1 Axes>"
      ]
     },
     "metadata": {},
     "output_type": "display_data"
    }
   ],
   "source": [
    "#Histogram of IMDB Scores\n",
    "df['imdb_score'].hist(figsize=(5,5))"
   ]
  },
  {
   "cell_type": "markdown",
   "metadata": {},
   "source": [
    "#### Post and Pre-Movie Variables"
   ]
  },
  {
   "cell_type": "markdown",
   "metadata": {},
   "source": [
    "This data includes many variables that occur after movie premiere such as:\n",
    "* Number of Critics for Reviews\n",
    "* Movie facebook likes\n",
    "* Gross\n",
    "* Number of voted users\n",
    "* Number of users for review\n",
    "* Movie_imbd_link\n",
    "\n",
    "Some of this data may be helpful in describing variables that relate to IMDB score calculation.\n",
    "\n",
    "For example, IMDB movie score caluclation uses variables that are included in this dataset:\n",
    "* Number of votes from users\n",
    "* Number of user reviews\n",
    "* Number of reviews from critics"
   ]
  },
  {
   "cell_type": "markdown",
   "metadata": {},
   "source": [
    "The relationship between Number of votes from users and IMDB score is below. The relationship is positive, which makes sense because this factors into IMDB score formula."
   ]
  },
  {
   "cell_type": "code",
   "execution_count": 412,
   "metadata": {},
   "outputs": [
    {
     "data": {
      "text/plain": [
       "<seaborn.axisgrid.FacetGrid at 0x26124630>"
      ]
     },
     "execution_count": 412,
     "metadata": {},
     "output_type": "execute_result"
    },
    {
     "data": {
      "image/png": "[encoded data removed]",
      "text/plain": [
       "<Figure size 360x360 with 1 Axes>"
      ]
     },
     "metadata": {},
     "output_type": "display_data"
    }
   ],
   "source": [
    "#Correlation between Number of Votes from Users and IMDB Score\n",
    "sns.lmplot(\"num_voted_users\", \"imdb_score\", df)"
   ]
  },
  {
   "cell_type": "markdown",
   "metadata": {},
   "source": [
    "The number of User Reviews and IMDB score is also positively correlated."
   ]
  },
  {
   "cell_type": "code",
   "execution_count": 413,
   "metadata": {},
   "outputs": [
    {
     "data": {
      "text/plain": [
       "<seaborn.axisgrid.FacetGrid at 0x1aec87b8>"
      ]
     },
     "execution_count": 413,
     "metadata": {},
     "output_type": "execute_result"
    },
    {
     "data": {
      "image/png": "[encoded data removed]",
      "text/plain": [
       "<Figure size 360x360 with 1 Axes>"
      ]
     },
     "metadata": {},
     "output_type": "display_data"
    }
   ],
   "source": [
    "#Correlation between User Reviews and IMDB Score\n",
    "sns.lmplot(\"num_user_for_reviews\", \"imdb_score\", df)"
   ]
  },
  {
   "cell_type": "markdown",
   "metadata": {},
   "source": [
    "There is also a positive relationship between IMDB score and number of critic reviews. The higher the IMDB score, the more critics that are compelled to review the movie."
   ]
  },
  {
   "cell_type": "code",
   "execution_count": 414,
   "metadata": {},
   "outputs": [
    {
     "data": {
      "text/plain": [
       "<seaborn.axisgrid.FacetGrid at 0x26a2ecf8>"
      ]
     },
     "execution_count": 414,
     "metadata": {},
     "output_type": "execute_result"
    },
    {
     "data": {
      "image/png": "[encoded data removed]",
      "text/plain": [
       "<Figure size 360x360 with 1 Axes>"
      ]
     },
     "metadata": {},
     "output_type": "display_data"
    }
   ],
   "source": [
    "#Correlation between Number of Critic Reviews and IMDB Score\n",
    "sns.lmplot(\"imdb_score\", \"num_critic_for_reviews\", df)"
   ]
  },
  {
   "cell_type": "markdown",
   "metadata": {},
   "source": [
    "There is a positive correlation between the number of critic reviews and gross earnings."
   ]
  },
  {
   "cell_type": "code",
   "execution_count": 415,
   "metadata": {},
   "outputs": [
    {
     "data": {
      "text/plain": [
       "<seaborn.axisgrid.FacetGrid at 0x26d76518>"
      ]
     },
     "execution_count": 415,
     "metadata": {},
     "output_type": "execute_result"
    },
    {
     "data": {
      "image/png": "[encoded data removed]",
      "text/plain": [
       "<Figure size 360x360 with 1 Axes>"
      ]
     },
     "metadata": {},
     "output_type": "display_data"
    }
   ],
   "source": [
    "# Correlation between Number of Critic Reviews and Gross\n",
    "sns.lmplot(\"num_critic_for_reviews\", \"gross\", df)"
   ]
  },
  {
   "cell_type": "markdown",
   "metadata": {},
   "source": [
    "The relationship between IMDB score and Gross profit is positive as well, but not as strong. It is more likely that the relationship between IMDB and Gross profits has mediating variables such as number of user reviews and number of critic reviews."
   ]
  },
  {
   "cell_type": "code",
   "execution_count": 416,
   "metadata": {},
   "outputs": [
    {
     "data": {
      "text/plain": [
       "<seaborn.axisgrid.FacetGrid at 0x25ff42e8>"
      ]
     },
     "execution_count": 416,
     "metadata": {},
     "output_type": "execute_result"
    },
    {
     "data": {
      "image/png": "[encoded data removed]",
      "text/plain": [
       "<Figure size 360x360 with 1 Axes>"
      ]
     },
     "metadata": {},
     "output_type": "display_data"
    }
   ],
   "source": [
    "#Correlation between IMDB score and Gross Earnings\n",
    "sns.lmplot(\"imdb_score\", \"gross\", df)"
   ]
  },
  {
   "cell_type": "markdown",
   "metadata": {},
   "source": [
    "The following variables can be determined prior to release and could be helpful in predicting IMDB scores:\n",
    "* Duration\n",
    "* Director Facebook Likes\n",
    "* Actor 1,2, and 3 Facebook Likes\n",
    "* Cast Total Facebook Likes\n",
    "* Face Number in Poster\n",
    "* Budget\n",
    "* Title Year\n",
    "* Aspect Ratio\n",
    "* Genres\n",
    "* Keywords\n",
    "* Country\n",
    "* Language\n",
    "* Content Rating\n",
    "* Color\n",
    "\n",
    "The relationship between these variables and IMDB score will be explored throughout Part 1 of this Project"
   ]
  },
  {
   "cell_type": "markdown",
   "metadata": {},
   "source": [
    "### Explore the Data"
   ]
  },
  {
   "cell_type": "markdown",
   "metadata": {},
   "source": [
    "#### Data Categories"
   ]
  },
  {
   "cell_type": "markdown",
   "metadata": {},
   "source": [
    "The types of data in this data set can be split into two categories: objects (categorical) and float/int (Numerical)"
   ]
  },
  {
   "cell_type": "code",
   "execution_count": 417,
   "metadata": {},
   "outputs": [
    {
     "name": "stdout",
     "output_type": "stream",
     "text": [
      "<class 'pandas.core.frame.DataFrame'>\n",
      "RangeIndex: 5043 entries, 0 to 5042\n",
      "Data columns (total 28 columns):\n",
      "color                        5024 non-null object\n",
      "director_name                4939 non-null object\n",
      "num_critic_for_reviews       4993 non-null float64\n",
      "duration                     5028 non-null float64\n",
      "director_facebook_likes      4939 non-null float64\n",
      "actor_3_facebook_likes       5020 non-null float64\n",
      "actor_2_name                 5030 non-null object\n",
      "actor_1_facebook_likes       5036 non-null float64\n",
      "gross                        4159 non-null float64\n",
      "genres                       5043 non-null object\n",
      "actor_1_name                 5036 non-null object\n",
      "movie_title                  5043 non-null object\n",
      "num_voted_users              5043 non-null int64\n",
      "cast_total_facebook_likes    5043 non-null int64\n",
      "actor_3_name                 5020 non-null object\n",
      "facenumber_in_poster         5030 non-null float64\n",
      "plot_keywords                4890 non-null object\n",
      "movie_imdb_link              5043 non-null object\n",
      "num_user_for_reviews         5022 non-null float64\n",
      "language                     5031 non-null object\n",
      "country                      5038 non-null object\n",
      "content_rating               4740 non-null object\n",
      "budget                       4551 non-null float64\n",
      "title_year                   4935 non-null float64\n",
      "actor_2_facebook_likes       5030 non-null float64\n",
      "imdb_score                   5043 non-null float64\n",
      "aspect_ratio                 4714 non-null float64\n",
      "movie_facebook_likes         5043 non-null int64\n",
      "dtypes: float64(13), int64(3), object(12)\n",
      "memory usage: 1.1+ MB\n"
     ]
    }
   ],
   "source": [
    "#describe variable types\n",
    "df.info()"
   ]
  },
  {
   "cell_type": "markdown",
   "metadata": {},
   "source": [
    "Categorical Columns (12):\n",
    "* color\n",
    "* director_name\n",
    "* actor_1_name\n",
    "* actor_2_name\n",
    "* actor_3_name\n",
    "* genres\n",
    "* movie_title\n",
    "* plot_keywords\n",
    "* movie_imdb_link\n",
    "* language, country\n",
    "* content_rating"
   ]
  },
  {
   "cell_type": "markdown",
   "metadata": {},
   "source": [
    "Numerical Columns (16): \n",
    "* num_critic_for_reviews\n",
    "* duration\n",
    "* director_facebook_likes\n",
    "* actor_3_facebook_likes\n",
    "* actor_1_facebook_likes\n",
    "* gross\n",
    "* num_voted_users\n",
    "* cast_total_facebook_likes\n",
    "* actor_1_facebook_likes\n",
    "* facenumber_in_poster\n",
    "* num_user_for_reviews\n",
    "* budget\n",
    "* title_year\n",
    "* imdb_score\n",
    "* aspect_ratio\n",
    "* movie_facebook_likes"
   ]
  },
  {
   "cell_type": "markdown",
   "metadata": {},
   "source": [
    "#### Explore Properties of Key Variables"
   ]
  },
  {
   "cell_type": "markdown",
   "metadata": {},
   "source": [
    "The following variables are important correlations with IMDB score, and therefore a movie's success:\n",
    "* Duration\n",
    "* Director Facebook Likes\n",
    "* Budget\n",
    "* Actor 1 Facebook Likes\n",
    "* Actor 2 Facebook Likes\n",
    "* Actor 3 Facebook Likes\n",
    "* Content Rating\n",
    "* Genre\n",
    "* Total Cast Facebook Likes"
   ]
  },
  {
   "cell_type": "markdown",
   "metadata": {},
   "source": [
    "These variables will be explored after that data has been cleaned and tranformed."
   ]
  },
  {
   "cell_type": "markdown",
   "metadata": {},
   "source": [
    "### Evaluate Data Quality"
   ]
  },
  {
   "cell_type": "markdown",
   "metadata": {},
   "source": [
    "#### Check for Missing Data:"
   ]
  },
  {
   "cell_type": "code",
   "execution_count": 418,
   "metadata": {},
   "outputs": [
    {
     "data": {
      "text/plain": [
       "color                        19 \n",
       "director_name                104\n",
       "num_critic_for_reviews       50 \n",
       "duration                     15 \n",
       "director_facebook_likes      104\n",
       "actor_3_facebook_likes       23 \n",
       "actor_2_name                 13 \n",
       "actor_1_facebook_likes       7  \n",
       "gross                        884\n",
       "genres                       0  \n",
       "actor_1_name                 7  \n",
       "movie_title                  0  \n",
       "num_voted_users              0  \n",
       "cast_total_facebook_likes    0  \n",
       "actor_3_name                 23 \n",
       "facenumber_in_poster         13 \n",
       "plot_keywords                153\n",
       "movie_imdb_link              0  \n",
       "num_user_for_reviews         21 \n",
       "language                     12 \n",
       "country                      5  \n",
       "content_rating               303\n",
       "budget                       492\n",
       "title_year                   108\n",
       "actor_2_facebook_likes       13 \n",
       "imdb_score                   0  \n",
       "aspect_ratio                 329\n",
       "movie_facebook_likes         0  \n",
       "dtype: int64"
      ]
     },
     "execution_count": 418,
     "metadata": {},
     "output_type": "execute_result"
    }
   ],
   "source": [
    "#number of missing data values by column\n",
    "df.isnull().sum()"
   ]
  },
  {
   "cell_type": "markdown",
   "metadata": {},
   "source": [
    "* There are multiple instances of missing data that will need to be clearned during the data preparation stage"
   ]
  },
  {
   "cell_type": "markdown",
   "metadata": {},
   "source": [
    "#### Check Categorical Data for Inconsistent Values:"
   ]
  },
  {
   "cell_type": "markdown",
   "metadata": {},
   "source": [
    "Content Rating"
   ]
  },
  {
   "cell_type": "code",
   "execution_count": 419,
   "metadata": {},
   "outputs": [
    {
     "data": {
      "text/plain": [
       "R            2118\n",
       "PG-13        1461\n",
       "PG           701 \n",
       "Not Rated    116 \n",
       "G            112 \n",
       "Unrated      62  \n",
       "Approved     55  \n",
       "TV-14        30  \n",
       "TV-MA        20  \n",
       "X            13  \n",
       "TV-PG        13  \n",
       "TV-G         10  \n",
       "Passed       9   \n",
       "NC-17        7   \n",
       "GP           6   \n",
       "M            5   \n",
       "TV-Y7        1   \n",
       "TV-Y         1   \n",
       "Name: content_rating, dtype: int64"
      ]
     },
     "execution_count": 419,
     "metadata": {},
     "output_type": "execute_result"
    }
   ],
   "source": [
    "#values in the content rating\n",
    "df['content_rating'].value_counts()"
   ]
  },
  {
   "cell_type": "markdown",
   "metadata": {},
   "source": [
    "Content Rating Data Issues:\n",
    "* GP is a dated version of PG, so it can be replaced with PG\n",
    "* M is a dated version of PG, so it can be replaced with PG\n",
    "* TV-14 is equivalent to PG-13, so it can be replaced with PG-13\n",
    "* TV-G is equivalent to G, so it can replaced with G\n",
    "* TV-Y and TV-7 are equivalents to G, so they can replaced with G\n",
    "* TV-PG is equivalent to PG, so it can be replaced wtih PG\n",
    "* TV-MA is equivalent to R, so it can replaced with R\n",
    "* X is a dated version of NC-17, so it can be replaced by NC-17"
   ]
  },
  {
   "cell_type": "markdown",
   "metadata": {},
   "source": [
    "#### Address Numerical Outliers"
   ]
  },
  {
   "cell_type": "markdown",
   "metadata": {},
   "source": [
    "Almost every numerical variables in this data set has a significant outlier\n",
    "* These outliers may effect correlation results\n",
    "* However, these outliers were included in this analysis because they have practical implications for stakeholders\n",
    "\n",
    "Examples:\n",
    "* How strong is the draw extremely popular actors and directors? (number of actor 1 and director facebook likes)\n",
    "* Is there such a thing as a movie that is too long, or is the novelty of an extremely long movie attractive?(duratopm)\n",
    "* Do extremely large budgets lead to a significant amount of success compared to moderately large budgets? (budget)"
   ]
  },
  {
   "cell_type": "markdown",
   "metadata": {},
   "source": [
    "## Data Preparation"
   ]
  },
  {
   "cell_type": "markdown",
   "metadata": {},
   "source": [
    "### Select Important Data Variables"
   ]
  },
  {
   "cell_type": "markdown",
   "metadata": {},
   "source": [
    "Variables that occur post-movie release are not able to help movie companies predict outcome, which is the core business problem. Although these variables may affect IMDB scores, they will not be of use to movie stakeholders for this problem. Therefore, they will be removed.\n",
    "\n",
    "* num_user_for_reviews\n",
    "* num_critic_for_reviews\n",
    "* num_voted_users\n",
    "* movie_imdb_link\n",
    "* gross\n",
    "* movie_facebook_likes\n",
    "\n",
    "The following columns can also be removed, any actor or director popularity can be tracked with the number of facebook likes:\n",
    "\n",
    "* director_name\n",
    "* actor_1_name\n",
    "* actor_2_name\n",
    "* actor_3_name"
   ]
  },
  {
   "cell_type": "code",
   "execution_count": 420,
   "metadata": {},
   "outputs": [
    {
     "data": {
      "text/html": [
       "<div>\n",
       "<style scoped>\n",
       "    .dataframe tbody tr th:only-of-type {\n",
       "        vertical-align: middle;\n",
       "    }\n",
       "\n",
       "    .dataframe tbody tr th {\n",
       "        vertical-align: top;\n",
       "    }\n",
       "\n",
       "    .dataframe thead th {\n",
       "        text-align: right;\n",
       "    }\n",
       "</style>\n",
       "<table border=\"1\" class=\"dataframe\">\n",
       "  <thead>\n",
       "    <tr style=\"text-align: right;\">\n",
       "      <th></th>\n",
       "      <th>color</th>\n",
       "      <th>duration</th>\n",
       "      <th>director_facebook_likes</th>\n",
       "      <th>actor_3_facebook_likes</th>\n",
       "      <th>actor_1_facebook_likes</th>\n",
       "      <th>genres</th>\n",
       "      <th>movie_title</th>\n",
       "      <th>cast_total_facebook_likes</th>\n",
       "      <th>facenumber_in_poster</th>\n",
       "      <th>plot_keywords</th>\n",
       "      <th>language</th>\n",
       "      <th>country</th>\n",
       "      <th>content_rating</th>\n",
       "      <th>budget</th>\n",
       "      <th>title_year</th>\n",
       "      <th>actor_2_facebook_likes</th>\n",
       "      <th>imdb_score</th>\n",
       "      <th>aspect_ratio</th>\n",
       "    </tr>\n",
       "  </thead>\n",
       "  <tbody>\n",
       "    <tr>\n",
       "      <th>0</th>\n",
       "      <td>Color</td>\n",
       "      <td>178.0</td>\n",
       "      <td>0.0</td>\n",
       "      <td>855.0</td>\n",
       "      <td>1000.0</td>\n",
       "      <td>Action|Adventure|Fantasy|Sci-Fi</td>\n",
       "      <td>Avatar</td>\n",
       "      <td>4834</td>\n",
       "      <td>0.0</td>\n",
       "      <td>avatar|future|marine|native|paraplegic</td>\n",
       "      <td>English</td>\n",
       "      <td>USA</td>\n",
       "      <td>PG-13</td>\n",
       "      <td>237000000.0</td>\n",
       "      <td>2009.0</td>\n",
       "      <td>936.0</td>\n",
       "      <td>7.9</td>\n",
       "      <td>1.78</td>\n",
       "    </tr>\n",
       "    <tr>\n",
       "      <th>1</th>\n",
       "      <td>Color</td>\n",
       "      <td>169.0</td>\n",
       "      <td>563.0</td>\n",
       "      <td>1000.0</td>\n",
       "      <td>40000.0</td>\n",
       "      <td>Action|Adventure|Fantasy</td>\n",
       "      <td>Pirates of the Caribbean: At World's End</td>\n",
       "      <td>48350</td>\n",
       "      <td>0.0</td>\n",
       "      <td>goddess|marriage ceremony|marriage proposal|pirate|singapore</td>\n",
       "      <td>English</td>\n",
       "      <td>USA</td>\n",
       "      <td>PG-13</td>\n",
       "      <td>300000000.0</td>\n",
       "      <td>2007.0</td>\n",
       "      <td>5000.0</td>\n",
       "      <td>7.1</td>\n",
       "      <td>2.35</td>\n",
       "    </tr>\n",
       "    <tr>\n",
       "      <th>2</th>\n",
       "      <td>Color</td>\n",
       "      <td>148.0</td>\n",
       "      <td>0.0</td>\n",
       "      <td>161.0</td>\n",
       "      <td>11000.0</td>\n",
       "      <td>Action|Adventure|Thriller</td>\n",
       "      <td>Spectre</td>\n",
       "      <td>11700</td>\n",
       "      <td>1.0</td>\n",
       "      <td>bomb|espionage|sequel|spy|terrorist</td>\n",
       "      <td>English</td>\n",
       "      <td>UK</td>\n",
       "      <td>PG-13</td>\n",
       "      <td>245000000.0</td>\n",
       "      <td>2015.0</td>\n",
       "      <td>393.0</td>\n",
       "      <td>6.8</td>\n",
       "      <td>2.35</td>\n",
       "    </tr>\n",
       "    <tr>\n",
       "      <th>3</th>\n",
       "      <td>Color</td>\n",
       "      <td>164.0</td>\n",
       "      <td>22000.0</td>\n",
       "      <td>23000.0</td>\n",
       "      <td>27000.0</td>\n",
       "      <td>Action|Thriller</td>\n",
       "      <td>The Dark Knight Rises</td>\n",
       "      <td>106759</td>\n",
       "      <td>0.0</td>\n",
       "      <td>deception|imprisonment|lawlessness|police officer|terrorist plot</td>\n",
       "      <td>English</td>\n",
       "      <td>USA</td>\n",
       "      <td>PG-13</td>\n",
       "      <td>250000000.0</td>\n",
       "      <td>2012.0</td>\n",
       "      <td>23000.0</td>\n",
       "      <td>8.5</td>\n",
       "      <td>2.35</td>\n",
       "    </tr>\n",
       "    <tr>\n",
       "      <th>4</th>\n",
       "      <td>NaN</td>\n",
       "      <td>NaN</td>\n",
       "      <td>131.0</td>\n",
       "      <td>NaN</td>\n",
       "      <td>131.0</td>\n",
       "      <td>Documentary</td>\n",
       "      <td>Star Wars: Episode VII - The Force Awakens</td>\n",
       "      <td>143</td>\n",
       "      <td>0.0</td>\n",
       "      <td>NaN</td>\n",
       "      <td>NaN</td>\n",
       "      <td>NaN</td>\n",
       "      <td>NaN</td>\n",
       "      <td>NaN</td>\n",
       "      <td>NaN</td>\n",
       "      <td>12.0</td>\n",
       "      <td>7.1</td>\n",
       "      <td>NaN</td>\n",
       "    </tr>\n",
       "  </tbody>\n",
       "</table>\n",
       "</div>"
      ],
      "text/plain": [
       "   color  duration  director_facebook_likes  actor_3_facebook_likes  \\\n",
       "0  Color  178.0     0.0                      855.0                    \n",
       "1  Color  169.0     563.0                    1000.0                   \n",
       "2  Color  148.0     0.0                      161.0                    \n",
       "3  Color  164.0     22000.0                  23000.0                  \n",
       "4  NaN   NaN        131.0                   NaN                       \n",
       "\n",
       "   actor_1_facebook_likes                           genres  \\\n",
       "0  1000.0                  Action|Adventure|Fantasy|Sci-Fi   \n",
       "1  40000.0                 Action|Adventure|Fantasy          \n",
       "2  11000.0                 Action|Adventure|Thriller         \n",
       "3  27000.0                 Action|Thriller                   \n",
       "4  131.0                   Documentary                       \n",
       "\n",
       "                                               movie_title  \\\n",
       "0  Avatar                                                    \n",
       "1  Pirates of the Caribbean: At World's End                  \n",
       "2  Spectre                                                   \n",
       "3  The Dark Knight Rises                                     \n",
       "4  Star Wars: Episode VII - The Force Awakens                \n",
       "\n",
       "   cast_total_facebook_likes  facenumber_in_poster  \\\n",
       "0  4834                       0.0                    \n",
       "1  48350                      0.0                    \n",
       "2  11700                      1.0                    \n",
       "3  106759                     0.0                    \n",
       "4  143                        0.0                    \n",
       "\n",
       "                                                      plot_keywords language  \\\n",
       "0  avatar|future|marine|native|paraplegic                            English   \n",
       "1  goddess|marriage ceremony|marriage proposal|pirate|singapore      English   \n",
       "2  bomb|espionage|sequel|spy|terrorist                               English   \n",
       "3  deception|imprisonment|lawlessness|police officer|terrorist plot  English   \n",
       "4  NaN                                                               NaN       \n",
       "\n",
       "  country content_rating       budget  title_year  actor_2_facebook_likes  \\\n",
       "0  USA     PG-13          237000000.0  2009.0      936.0                    \n",
       "1  USA     PG-13          300000000.0  2007.0      5000.0                   \n",
       "2  UK      PG-13          245000000.0  2015.0      393.0                    \n",
       "3  USA     PG-13          250000000.0  2012.0      23000.0                  \n",
       "4  NaN     NaN           NaN          NaN          12.0                     \n",
       "\n",
       "   imdb_score  aspect_ratio  \n",
       "0  7.9         1.78          \n",
       "1  7.1         2.35          \n",
       "2  6.8         2.35          \n",
       "3  8.5         2.35          \n",
       "4  7.1        NaN            "
      ]
     },
     "execution_count": 420,
     "metadata": {},
     "output_type": "execute_result"
    }
   ],
   "source": [
    "#remove irrelevant columns\n",
    "df = df.drop(['num_user_for_reviews','movie_facebook_likes','num_critic_for_reviews', 'num_voted_users', 'movie_imdb_link', 'gross', 'director_name', 'actor_1_name', 'actor_2_name', 'actor_3_name'], axis=1)\n",
    "df.head()"
   ]
  },
  {
   "cell_type": "markdown",
   "metadata": {},
   "source": [
    "We can also drop variables that are unlikely to relate to IMDB prediction"
   ]
  },
  {
   "cell_type": "code",
   "execution_count": 421,
   "metadata": {},
   "outputs": [],
   "source": [
    "df = df.drop(['aspect_ratio', 'color', 'title_year', 'facenumber_in_poster', 'plot_keywords', 'plot_keywords', 'language', 'country'], axis=1)"
   ]
  },
  {
   "cell_type": "markdown",
   "metadata": {},
   "source": [
    "### Clean Data"
   ]
  },
  {
   "cell_type": "markdown",
   "metadata": {},
   "source": [
    "#### Drop Missing Values"
   ]
  },
  {
   "cell_type": "markdown",
   "metadata": {},
   "source": [
    "* Missing Numerical Values can be addressed by dropping the rows that have missing values\n",
    "* It is unlikely to be helpful to replace them in a model that predicts IMDB score"
   ]
  },
  {
   "cell_type": "code",
   "execution_count": 422,
   "metadata": {},
   "outputs": [],
   "source": [
    "#drop missing values\n",
    "df = df.dropna()"
   ]
  },
  {
   "cell_type": "code",
   "execution_count": 423,
   "metadata": {},
   "outputs": [
    {
     "name": "stdout",
     "output_type": "stream",
     "text": [
      "<class 'pandas.core.frame.DataFrame'>\n",
      "Int64Index: 4333 entries, 0 to 5042\n",
      "Data columns (total 11 columns):\n",
      "duration                     4333 non-null float64\n",
      "director_facebook_likes      4333 non-null float64\n",
      "actor_3_facebook_likes       4333 non-null float64\n",
      "actor_1_facebook_likes       4333 non-null float64\n",
      "genres                       4333 non-null object\n",
      "movie_title                  4333 non-null object\n",
      "cast_total_facebook_likes    4333 non-null int64\n",
      "content_rating               4333 non-null object\n",
      "budget                       4333 non-null float64\n",
      "actor_2_facebook_likes       4333 non-null float64\n",
      "imdb_score                   4333 non-null float64\n",
      "dtypes: float64(7), int64(1), object(3)\n",
      "memory usage: 406.2+ KB\n"
     ]
    }
   ],
   "source": [
    "#Confirm all variables have the same number of data points\n",
    "df.info()"
   ]
  },
  {
   "cell_type": "markdown",
   "metadata": {},
   "source": [
    "* Now all columns have 4333 data points with no missing values"
   ]
  },
  {
   "cell_type": "markdown",
   "metadata": {},
   "source": [
    "#### Correct Data Quality Issues"
   ]
  },
  {
   "cell_type": "markdown",
   "metadata": {},
   "source": [
    "* As mentioned above, some content rating values are outdated version of current content rating categories\n",
    "* In order to streamline results these older content ratings can be converted to updated content rating categories\n",
    "* Some content rating categories are in TV formats, which can be converted to movie equivalents"
   ]
  },
  {
   "cell_type": "code",
   "execution_count": 424,
   "metadata": {},
   "outputs": [],
   "source": [
    "#Replace outdated and tv content ratings\n",
    "df = df.replace({'content_rating': 'GP'}, {'content_rating': 'PG'})\n",
    "df = df.replace({'content_rating': 'M'}, {'content_rating': 'PG'})\n",
    "df = df.replace({'content_rating': 'TV-14'}, {'content_rating': 'PG-13'})\n",
    "df = df.replace({'content_rating': 'TV-G'}, {'content_rating': 'G'})\n",
    "df = df.replace({'content_rating': 'TV-PG'}, {'content_rating': 'PG'})\n",
    "df = df.replace({'content_rating': 'TV-MA'}, {'content_rating': 'R'})\n",
    "df = df.replace({'content_rating': 'X'}, {'content_rating': 'NC-17'})\n",
    "df = df.replace({'content_rating': 'TV-Y'}, {'content_rating': 'G'})\n",
    "df = df.replace({'content_rating': 'TV-Y7'}, {'content_rating': 'G'})"
   ]
  },
  {
   "cell_type": "markdown",
   "metadata": {},
   "source": [
    "## Data Transformation"
   ]
  },
  {
   "cell_type": "markdown",
   "metadata": {},
   "source": [
    "#### Categorial Values can be tranformed into dummy variables so that they can be included in analysis"
   ]
  },
  {
   "cell_type": "code",
   "execution_count": 425,
   "metadata": {},
   "outputs": [],
   "source": [
    "df1 = df['content_rating'].str.get_dummies()\n",
    "df = df.join(df1)"
   ]
  },
  {
   "cell_type": "markdown",
   "metadata": {},
   "source": [
    "Genres can be separated into separate columns as dummy variables"
   ]
  },
  {
   "cell_type": "code",
   "execution_count": 426,
   "metadata": {},
   "outputs": [],
   "source": [
    "#create categories from genre category\n",
    "df['genres'] = df['genres'].str.replace('|', ',')\n",
    "df['genres'] = df['genres'].str.split(',')\n",
    "from sklearn.preprocessing import MultiLabelBinarizer\n",
    "\n",
    "mlb = MultiLabelBinarizer()\n",
    "\n",
    "df1 = pd.DataFrame(mlb.fit_transform(df['genres']),columns=mlb.classes_, index=df1.index)\n",
    "df = df.join(df1)"
   ]
  },
  {
   "cell_type": "code",
   "execution_count": 427,
   "metadata": {},
   "outputs": [
    {
     "data": {
      "text/html": [
       "<div>\n",
       "<style scoped>\n",
       "    .dataframe tbody tr th:only-of-type {\n",
       "        vertical-align: middle;\n",
       "    }\n",
       "\n",
       "    .dataframe tbody tr th {\n",
       "        vertical-align: top;\n",
       "    }\n",
       "\n",
       "    .dataframe thead th {\n",
       "        text-align: right;\n",
       "    }\n",
       "</style>\n",
       "<table border=\"1\" class=\"dataframe\">\n",
       "  <thead>\n",
       "    <tr style=\"text-align: right;\">\n",
       "      <th></th>\n",
       "      <th>duration</th>\n",
       "      <th>director_facebook_likes</th>\n",
       "      <th>actor_3_facebook_likes</th>\n",
       "      <th>actor_1_facebook_likes</th>\n",
       "      <th>genres</th>\n",
       "      <th>movie_title</th>\n",
       "      <th>cast_total_facebook_likes</th>\n",
       "      <th>content_rating</th>\n",
       "      <th>budget</th>\n",
       "      <th>actor_2_facebook_likes</th>\n",
       "      <th>imdb_score</th>\n",
       "      <th>Approved</th>\n",
       "      <th>G</th>\n",
       "      <th>NC-17</th>\n",
       "      <th>Not Rated</th>\n",
       "      <th>PG</th>\n",
       "      <th>PG-13</th>\n",
       "      <th>Passed</th>\n",
       "      <th>R</th>\n",
       "      <th>Unrated</th>\n",
       "      <th>Action</th>\n",
       "      <th>Adventure</th>\n",
       "      <th>Animation</th>\n",
       "      <th>Biography</th>\n",
       "      <th>Comedy</th>\n",
       "      <th>Crime</th>\n",
       "      <th>Documentary</th>\n",
       "      <th>Drama</th>\n",
       "      <th>Family</th>\n",
       "      <th>Fantasy</th>\n",
       "      <th>Film-Noir</th>\n",
       "      <th>History</th>\n",
       "      <th>Horror</th>\n",
       "      <th>Music</th>\n",
       "      <th>Musical</th>\n",
       "      <th>Mystery</th>\n",
       "      <th>News</th>\n",
       "      <th>Romance</th>\n",
       "      <th>Sci-Fi</th>\n",
       "      <th>Sport</th>\n",
       "      <th>Thriller</th>\n",
       "      <th>War</th>\n",
       "      <th>Western</th>\n",
       "    </tr>\n",
       "  </thead>\n",
       "  <tbody>\n",
       "    <tr>\n",
       "      <th>0</th>\n",
       "      <td>178.0</td>\n",
       "      <td>0.0</td>\n",
       "      <td>855.0</td>\n",
       "      <td>1000.0</td>\n",
       "      <td>[Action, Adventure, Fantasy, Sci-Fi]</td>\n",
       "      <td>Avatar</td>\n",
       "      <td>4834</td>\n",
       "      <td>PG-13</td>\n",
       "      <td>237000000.0</td>\n",
       "      <td>936.0</td>\n",
       "      <td>7.9</td>\n",
       "      <td>0</td>\n",
       "      <td>0</td>\n",
       "      <td>0</td>\n",
       "      <td>0</td>\n",
       "      <td>0</td>\n",
       "      <td>1</td>\n",
       "      <td>0</td>\n",
       "      <td>0</td>\n",
       "      <td>0</td>\n",
       "      <td>1</td>\n",
       "      <td>1</td>\n",
       "      <td>0</td>\n",
       "      <td>0</td>\n",
       "      <td>0</td>\n",
       "      <td>0</td>\n",
       "      <td>0</td>\n",
       "      <td>0</td>\n",
       "      <td>0</td>\n",
       "      <td>1</td>\n",
       "      <td>0</td>\n",
       "      <td>0</td>\n",
       "      <td>0</td>\n",
       "      <td>0</td>\n",
       "      <td>0</td>\n",
       "      <td>0</td>\n",
       "      <td>0</td>\n",
       "      <td>0</td>\n",
       "      <td>1</td>\n",
       "      <td>0</td>\n",
       "      <td>0</td>\n",
       "      <td>0</td>\n",
       "      <td>0</td>\n",
       "    </tr>\n",
       "    <tr>\n",
       "      <th>1</th>\n",
       "      <td>169.0</td>\n",
       "      <td>563.0</td>\n",
       "      <td>1000.0</td>\n",
       "      <td>40000.0</td>\n",
       "      <td>[Action, Adventure, Fantasy]</td>\n",
       "      <td>Pirates of the Caribbean: At World's End</td>\n",
       "      <td>48350</td>\n",
       "      <td>PG-13</td>\n",
       "      <td>300000000.0</td>\n",
       "      <td>5000.0</td>\n",
       "      <td>7.1</td>\n",
       "      <td>0</td>\n",
       "      <td>0</td>\n",
       "      <td>0</td>\n",
       "      <td>0</td>\n",
       "      <td>0</td>\n",
       "      <td>1</td>\n",
       "      <td>0</td>\n",
       "      <td>0</td>\n",
       "      <td>0</td>\n",
       "      <td>1</td>\n",
       "      <td>1</td>\n",
       "      <td>0</td>\n",
       "      <td>0</td>\n",
       "      <td>0</td>\n",
       "      <td>0</td>\n",
       "      <td>0</td>\n",
       "      <td>0</td>\n",
       "      <td>0</td>\n",
       "      <td>1</td>\n",
       "      <td>0</td>\n",
       "      <td>0</td>\n",
       "      <td>0</td>\n",
       "      <td>0</td>\n",
       "      <td>0</td>\n",
       "      <td>0</td>\n",
       "      <td>0</td>\n",
       "      <td>0</td>\n",
       "      <td>0</td>\n",
       "      <td>0</td>\n",
       "      <td>0</td>\n",
       "      <td>0</td>\n",
       "      <td>0</td>\n",
       "    </tr>\n",
       "  </tbody>\n",
       "</table>\n",
       "</div>"
      ],
      "text/plain": [
       "   duration  director_facebook_likes  actor_3_facebook_likes  \\\n",
       "0  178.0     0.0                      855.0                    \n",
       "1  169.0     563.0                    1000.0                   \n",
       "\n",
       "   actor_1_facebook_likes                                genres  \\\n",
       "0  1000.0                  [Action, Adventure, Fantasy, Sci-Fi]   \n",
       "1  40000.0                 [Action, Adventure, Fantasy]           \n",
       "\n",
       "                                 movie_title  cast_total_facebook_likes  \\\n",
       "0  Avatar                                     4834                        \n",
       "1  Pirates of the Caribbean: At World's End   48350                       \n",
       "\n",
       "  content_rating       budget  actor_2_facebook_likes  imdb_score  Approved  \\\n",
       "0  PG-13          237000000.0  936.0                   7.9         0          \n",
       "1  PG-13          300000000.0  5000.0                  7.1         0          \n",
       "\n",
       "   G  NC-17  Not Rated  PG  PG-13  Passed  R  Unrated  Action  Adventure  \\\n",
       "0  0  0      0          0   1      0       0  0        1       1           \n",
       "1  0  0      0          0   1      0       0  0        1       1           \n",
       "\n",
       "   Animation  Biography  Comedy  Crime  Documentary  Drama  Family  Fantasy  \\\n",
       "0  0          0          0       0      0            0      0       1         \n",
       "1  0          0          0       0      0            0      0       1         \n",
       "\n",
       "   Film-Noir  History  Horror  Music  Musical  Mystery  News  Romance  Sci-Fi  \\\n",
       "0  0          0        0       0      0        0        0     0        1        \n",
       "1  0          0        0       0      0        0        0     0        0        \n",
       "\n",
       "   Sport  Thriller  War  Western  \n",
       "0  0      0         0    0        \n",
       "1  0      0         0    0        "
      ]
     },
     "execution_count": 427,
     "metadata": {},
     "output_type": "execute_result"
    }
   ],
   "source": [
    "#preview new columns\n",
    "df.head(2)"
   ]
  },
  {
   "cell_type": "markdown",
   "metadata": {},
   "source": [
    "Some of the genre categories can be removed to reduce the number of columns"
   ]
  },
  {
   "cell_type": "code",
   "execution_count": 428,
   "metadata": {},
   "outputs": [],
   "source": [
    "#remove unnecessary genre columns\n",
    "df = df.drop(['News'], axis=1)\n",
    "df = df.drop(['Sport'], axis=1)\n",
    "df = df.drop(['Western'], axis=1)\n",
    "df = df.drop(['Film-Noir'], axis=1)\n",
    "df = df.drop(['Musical'], axis=1)\n",
    "df = df.drop(['Music'], axis=1)\n",
    "df = df.drop(['Mystery'], axis=1)\n",
    "df = df.drop(['Crime'], axis=1)\n",
    "df = df.drop(['Romance'], axis=1)\n",
    "df = df.drop(['Animation'], axis=1)\n",
    "df = df.drop(['Family'], axis=1)\n",
    "df = df.drop(['Adventure'], axis=1)\n",
    "df = df.drop(['Action'], axis=1)\n",
    "df = df.drop(['Fantasy'], axis=1)\n",
    "df = df.drop(['Sci-Fi'], axis=1)"
   ]
  },
  {
   "cell_type": "markdown",
   "metadata": {},
   "source": [
    "Similar genre columns can be combined"
   ]
  },
  {
   "cell_type": "code",
   "execution_count": 429,
   "metadata": {},
   "outputs": [],
   "source": [
    "#combine genre columns\n",
    "df['Thrill_Horror'] = df1['Thriller'] + df['Horror']\n",
    "df['Bio_Hist_Doc_War'] = df1['Biography'] + df['History'] + df['Documentary'] + df['War']"
   ]
  },
  {
   "cell_type": "markdown",
   "metadata": {},
   "source": [
    "The columns that were combined above can now be removed"
   ]
  },
  {
   "cell_type": "code",
   "execution_count": 430,
   "metadata": {},
   "outputs": [],
   "source": [
    "#remove redundant columns\n",
    "df = df.drop(['Thriller'], axis=1)\n",
    "df = df.drop(['Biography'], axis=1)\n",
    "df = df.drop(['History'], axis=1)\n",
    "df = df.drop(['Documentary'], axis=1)\n",
    "df = df.drop(['War'], axis=1)\n",
    "df = df.drop(['Horror'], axis=1)"
   ]
  },
  {
   "cell_type": "code",
   "execution_count": 431,
   "metadata": {},
   "outputs": [
    {
     "data": {
      "text/html": [
       "<div>\n",
       "<style scoped>\n",
       "    .dataframe tbody tr th:only-of-type {\n",
       "        vertical-align: middle;\n",
       "    }\n",
       "\n",
       "    .dataframe tbody tr th {\n",
       "        vertical-align: top;\n",
       "    }\n",
       "\n",
       "    .dataframe thead th {\n",
       "        text-align: right;\n",
       "    }\n",
       "</style>\n",
       "<table border=\"1\" class=\"dataframe\">\n",
       "  <thead>\n",
       "    <tr style=\"text-align: right;\">\n",
       "      <th></th>\n",
       "      <th>duration</th>\n",
       "      <th>director_facebook_likes</th>\n",
       "      <th>actor_3_facebook_likes</th>\n",
       "      <th>actor_1_facebook_likes</th>\n",
       "      <th>genres</th>\n",
       "      <th>movie_title</th>\n",
       "      <th>cast_total_facebook_likes</th>\n",
       "      <th>content_rating</th>\n",
       "      <th>budget</th>\n",
       "      <th>actor_2_facebook_likes</th>\n",
       "      <th>imdb_score</th>\n",
       "      <th>Approved</th>\n",
       "      <th>G</th>\n",
       "      <th>NC-17</th>\n",
       "      <th>Not Rated</th>\n",
       "      <th>PG</th>\n",
       "      <th>PG-13</th>\n",
       "      <th>Passed</th>\n",
       "      <th>R</th>\n",
       "      <th>Unrated</th>\n",
       "      <th>Comedy</th>\n",
       "      <th>Drama</th>\n",
       "      <th>Thrill_Horror</th>\n",
       "      <th>Bio_Hist_Doc_War</th>\n",
       "    </tr>\n",
       "  </thead>\n",
       "  <tbody>\n",
       "    <tr>\n",
       "      <th>0</th>\n",
       "      <td>178.0</td>\n",
       "      <td>0.0</td>\n",
       "      <td>855.0</td>\n",
       "      <td>1000.0</td>\n",
       "      <td>[Action, Adventure, Fantasy, Sci-Fi]</td>\n",
       "      <td>Avatar</td>\n",
       "      <td>4834</td>\n",
       "      <td>PG-13</td>\n",
       "      <td>237000000.0</td>\n",
       "      <td>936.0</td>\n",
       "      <td>7.9</td>\n",
       "      <td>0</td>\n",
       "      <td>0</td>\n",
       "      <td>0</td>\n",
       "      <td>0</td>\n",
       "      <td>0</td>\n",
       "      <td>1</td>\n",
       "      <td>0</td>\n",
       "      <td>0</td>\n",
       "      <td>0</td>\n",
       "      <td>0</td>\n",
       "      <td>0</td>\n",
       "      <td>0</td>\n",
       "      <td>0</td>\n",
       "    </tr>\n",
       "    <tr>\n",
       "      <th>1</th>\n",
       "      <td>169.0</td>\n",
       "      <td>563.0</td>\n",
       "      <td>1000.0</td>\n",
       "      <td>40000.0</td>\n",
       "      <td>[Action, Adventure, Fantasy]</td>\n",
       "      <td>Pirates of the Caribbean: At World's End</td>\n",
       "      <td>48350</td>\n",
       "      <td>PG-13</td>\n",
       "      <td>300000000.0</td>\n",
       "      <td>5000.0</td>\n",
       "      <td>7.1</td>\n",
       "      <td>0</td>\n",
       "      <td>0</td>\n",
       "      <td>0</td>\n",
       "      <td>0</td>\n",
       "      <td>0</td>\n",
       "      <td>1</td>\n",
       "      <td>0</td>\n",
       "      <td>0</td>\n",
       "      <td>0</td>\n",
       "      <td>0</td>\n",
       "      <td>0</td>\n",
       "      <td>0</td>\n",
       "      <td>0</td>\n",
       "    </tr>\n",
       "  </tbody>\n",
       "</table>\n",
       "</div>"
      ],
      "text/plain": [
       "   duration  director_facebook_likes  actor_3_facebook_likes  \\\n",
       "0  178.0     0.0                      855.0                    \n",
       "1  169.0     563.0                    1000.0                   \n",
       "\n",
       "   actor_1_facebook_likes                                genres  \\\n",
       "0  1000.0                  [Action, Adventure, Fantasy, Sci-Fi]   \n",
       "1  40000.0                 [Action, Adventure, Fantasy]           \n",
       "\n",
       "                                 movie_title  cast_total_facebook_likes  \\\n",
       "0  Avatar                                     4834                        \n",
       "1  Pirates of the Caribbean: At World's End   48350                       \n",
       "\n",
       "  content_rating       budget  actor_2_facebook_likes  imdb_score  Approved  \\\n",
       "0  PG-13          237000000.0  936.0                   7.9         0          \n",
       "1  PG-13          300000000.0  5000.0                  7.1         0          \n",
       "\n",
       "   G  NC-17  Not Rated  PG  PG-13  Passed  R  Unrated  Comedy  Drama  \\\n",
       "0  0  0      0          0   1      0       0  0        0       0       \n",
       "1  0  0      0          0   1      0       0  0        0       0       \n",
       "\n",
       "   Thrill_Horror  Bio_Hist_Doc_War  \n",
       "0  0              0                 \n",
       "1  0              0                 "
      ]
     },
     "execution_count": 431,
     "metadata": {},
     "output_type": "execute_result"
    }
   ],
   "source": [
    "df.head(2)"
   ]
  },
  {
   "cell_type": "markdown",
   "metadata": {},
   "source": [
    "Reduce the number of Content Rating columns"
   ]
  },
  {
   "cell_type": "code",
   "execution_count": 432,
   "metadata": {},
   "outputs": [],
   "source": [
    "#content rating columns can also be reduced\n",
    "df = df.drop(['Passed'], axis=1)\n",
    "df = df.drop(['Unrated'], axis=1)\n",
    "df = df.drop(['Not Rated'], axis=1)\n",
    "df = df.drop(['Approved'], axis=1)\n",
    "df = df.drop(['NC-17'], axis=1)"
   ]
  },
  {
   "cell_type": "code",
   "execution_count": 433,
   "metadata": {},
   "outputs": [
    {
     "data": {
      "text/html": [
       "<div>\n",
       "<style scoped>\n",
       "    .dataframe tbody tr th:only-of-type {\n",
       "        vertical-align: middle;\n",
       "    }\n",
       "\n",
       "    .dataframe tbody tr th {\n",
       "        vertical-align: top;\n",
       "    }\n",
       "\n",
       "    .dataframe thead th {\n",
       "        text-align: right;\n",
       "    }\n",
       "</style>\n",
       "<table border=\"1\" class=\"dataframe\">\n",
       "  <thead>\n",
       "    <tr style=\"text-align: right;\">\n",
       "      <th></th>\n",
       "      <th>duration</th>\n",
       "      <th>director_facebook_likes</th>\n",
       "      <th>actor_3_facebook_likes</th>\n",
       "      <th>actor_1_facebook_likes</th>\n",
       "      <th>genres</th>\n",
       "      <th>movie_title</th>\n",
       "      <th>cast_total_facebook_likes</th>\n",
       "      <th>content_rating</th>\n",
       "      <th>budget</th>\n",
       "      <th>actor_2_facebook_likes</th>\n",
       "      <th>imdb_score</th>\n",
       "      <th>G</th>\n",
       "      <th>PG</th>\n",
       "      <th>PG-13</th>\n",
       "      <th>R</th>\n",
       "      <th>Comedy</th>\n",
       "      <th>Drama</th>\n",
       "      <th>Thrill_Horror</th>\n",
       "      <th>Bio_Hist_Doc_War</th>\n",
       "    </tr>\n",
       "  </thead>\n",
       "  <tbody>\n",
       "    <tr>\n",
       "      <th>0</th>\n",
       "      <td>178.0</td>\n",
       "      <td>0.0</td>\n",
       "      <td>855.0</td>\n",
       "      <td>1000.0</td>\n",
       "      <td>[Action, Adventure, Fantasy, Sci-Fi]</td>\n",
       "      <td>Avatar</td>\n",
       "      <td>4834</td>\n",
       "      <td>PG-13</td>\n",
       "      <td>237000000.0</td>\n",
       "      <td>936.0</td>\n",
       "      <td>7.9</td>\n",
       "      <td>0</td>\n",
       "      <td>0</td>\n",
       "      <td>1</td>\n",
       "      <td>0</td>\n",
       "      <td>0</td>\n",
       "      <td>0</td>\n",
       "      <td>0</td>\n",
       "      <td>0</td>\n",
       "    </tr>\n",
       "    <tr>\n",
       "      <th>1</th>\n",
       "      <td>169.0</td>\n",
       "      <td>563.0</td>\n",
       "      <td>1000.0</td>\n",
       "      <td>40000.0</td>\n",
       "      <td>[Action, Adventure, Fantasy]</td>\n",
       "      <td>Pirates of the Caribbean: At World's End</td>\n",
       "      <td>48350</td>\n",
       "      <td>PG-13</td>\n",
       "      <td>300000000.0</td>\n",
       "      <td>5000.0</td>\n",
       "      <td>7.1</td>\n",
       "      <td>0</td>\n",
       "      <td>0</td>\n",
       "      <td>1</td>\n",
       "      <td>0</td>\n",
       "      <td>0</td>\n",
       "      <td>0</td>\n",
       "      <td>0</td>\n",
       "      <td>0</td>\n",
       "    </tr>\n",
       "  </tbody>\n",
       "</table>\n",
       "</div>"
      ],
      "text/plain": [
       "   duration  director_facebook_likes  actor_3_facebook_likes  \\\n",
       "0  178.0     0.0                      855.0                    \n",
       "1  169.0     563.0                    1000.0                   \n",
       "\n",
       "   actor_1_facebook_likes                                genres  \\\n",
       "0  1000.0                  [Action, Adventure, Fantasy, Sci-Fi]   \n",
       "1  40000.0                 [Action, Adventure, Fantasy]           \n",
       "\n",
       "                                 movie_title  cast_total_facebook_likes  \\\n",
       "0  Avatar                                     4834                        \n",
       "1  Pirates of the Caribbean: At World's End   48350                       \n",
       "\n",
       "  content_rating       budget  actor_2_facebook_likes  imdb_score  G  PG  \\\n",
       "0  PG-13          237000000.0  936.0                   7.9         0  0    \n",
       "1  PG-13          300000000.0  5000.0                  7.1         0  0    \n",
       "\n",
       "   PG-13  R  Comedy  Drama  Thrill_Horror  Bio_Hist_Doc_War  \n",
       "0  1      0  0       0      0              0                 \n",
       "1  1      0  0       0      0              0                 "
      ]
     },
     "execution_count": 433,
     "metadata": {},
     "output_type": "execute_result"
    }
   ],
   "source": [
    "df.head(2)"
   ]
  },
  {
   "cell_type": "code",
   "execution_count": null,
   "metadata": {},
   "outputs": [],
   "source": []
  },
  {
   "cell_type": "markdown",
   "metadata": {},
   "source": [
    "Now all of our non-numerical variables have been changed into dummy variables"
   ]
  },
  {
   "cell_type": "markdown",
   "metadata": {},
   "source": [
    "#### Next we can consolidate some of the remaining columns into categories"
   ]
  },
  {
   "cell_type": "markdown",
   "metadata": {},
   "source": [
    "Actor likes columns can be combined into a total actor popularity column"
   ]
  },
  {
   "cell_type": "code",
   "execution_count": 434,
   "metadata": {},
   "outputs": [],
   "source": [
    "#crate actor popularity column\n",
    "df['Total_Actor_Likes'] = df['actor_1_facebook_likes'] + df['actor_2_facebook_likes'] + df['actor_2_facebook_likes']"
   ]
  },
  {
   "cell_type": "code",
   "execution_count": 435,
   "metadata": {
    "scrolled": true
   },
   "outputs": [
    {
     "data": {
      "text/plain": [
       "<matplotlib.axes._subplots.AxesSubplot at 0x1aec89e8>"
      ]
     },
     "execution_count": 435,
     "metadata": {},
     "output_type": "execute_result"
    },
    {
     "data": {
      "image/png": "[encoded data removed]",
      "text/plain": [
       "<Figure size 360x360 with 1 Axes>"
      ]
     },
     "metadata": {},
     "output_type": "display_data"
    }
   ],
   "source": [
    "#Histogram of Total Actor Likes\n",
    "df['Total_Actor_Likes'].hist(figsize=(5,5))"
   ]
  },
  {
   "cell_type": "code",
   "execution_count": 436,
   "metadata": {
    "scrolled": true
   },
   "outputs": [
    {
     "data": {
      "text/plain": [
       "count    4333.000000  \n",
       "mean     10770.924071 \n",
       "std      19912.259143 \n",
       "min      0.000000     \n",
       "25%      1434.000000  \n",
       "50%      2659.000000  \n",
       "75%      14476.000000 \n",
       "max      656000.000000\n",
       "Name: Total_Actor_Likes, dtype: float64"
      ]
     },
     "execution_count": 436,
     "metadata": {},
     "output_type": "execute_result"
    }
   ],
   "source": [
    "df['Total_Actor_Likes'].describe()"
   ]
  },
  {
   "cell_type": "code",
   "execution_count": null,
   "metadata": {},
   "outputs": [],
   "source": []
  },
  {
   "cell_type": "code",
   "execution_count": 437,
   "metadata": {},
   "outputs": [],
   "source": [
    "df['actor_popularity'] = 6\n",
    "df['actor_popularity'][df['Total_Actor_Likes'] > 50000] = 6\n",
    "df['actor_popularity'][(df['Total_Actor_Likes'] >20000 ) & (df['Total_Actor_Likes'] < 50000)] = 5\n",
    "df['actor_popularity'][(df['Total_Actor_Likes'] >4000 ) & (df['Total_Actor_Likes'] < 20000)] = 4\n",
    "df['actor_popularity'][(df['Total_Actor_Likes'] >1500 ) & (df['Total_Actor_Likes'] < 4000)] = 3\n",
    "df['actor_popularity'][(df['Total_Actor_Likes'] >500 ) & (df['Total_Actor_Likes'] < 1500)] = 2\n",
    "df['actor_popularity'][df['Total_Actor_Likes'] < 500] = 1"
   ]
  },
  {
   "cell_type": "code",
   "execution_count": 438,
   "metadata": {},
   "outputs": [
    {
     "data": {
      "text/plain": [
       "<matplotlib.axes._subplots.AxesSubplot at 0x26478b38>"
      ]
     },
     "execution_count": 438,
     "metadata": {},
     "output_type": "execute_result"
    },
    {
     "data": {
      "image/png": "[encoded data removed]",
      "text/plain": [
       "<Figure size 360x360 with 1 Axes>"
      ]
     },
     "metadata": {},
     "output_type": "display_data"
    }
   ],
   "source": [
    "#Histogram of Total Actor Likes\n",
    "df['actor_popularity'].hist(figsize=(5,5))"
   ]
  },
  {
   "cell_type": "markdown",
   "metadata": {},
   "source": [
    "Actor Popularity\n",
    "* 6=extrmely popular (over 50000)\n",
    "* 5=very popular (20000-50000)\n",
    "* 4=popular (4000-20000)\n",
    "* 3=somewhat popular (1500-4000)\n",
    "* 2=unpopular (500-1500)\n",
    "* 1=unknown (less than 500)"
   ]
  },
  {
   "cell_type": "markdown",
   "metadata": {},
   "source": [
    "After reviewing the data set, total cast facebook likes can be removed\n",
    "* It includes actor 1-3 facebook likes (popularity)\n",
    "* It is not as practical for stakeholders to measure, there could be a very large cast and tracking all their facebook likes could be difficult."
   ]
  },
  {
   "cell_type": "code",
   "execution_count": 439,
   "metadata": {},
   "outputs": [],
   "source": [
    "#create total cast popularity column\n",
    "df=df.drop(['cast_total_facebook_likes'], axis=1)"
   ]
  },
  {
   "cell_type": "markdown",
   "metadata": {},
   "source": [
    "Director popularity columns can also be created"
   ]
  },
  {
   "cell_type": "code",
   "execution_count": 440,
   "metadata": {
    "scrolled": true
   },
   "outputs": [
    {
     "data": {
      "text/plain": [
       "<matplotlib.axes._subplots.AxesSubplot at 0x26da9128>"
      ]
     },
     "execution_count": 440,
     "metadata": {},
     "output_type": "execute_result"
    },
    {
     "data": {
      "image/png": "[encoded data removed]",
      "text/plain": [
       "<Figure size 360x360 with 1 Axes>"
      ]
     },
     "metadata": {},
     "output_type": "display_data"
    }
   ],
   "source": [
    "#Histogram of Total Actor Likes\n",
    "df['director_facebook_likes'].hist(figsize=(5,5))"
   ]
  },
  {
   "cell_type": "code",
   "execution_count": 441,
   "metadata": {
    "scrolled": true
   },
   "outputs": [
    {
     "data": {
      "text/plain": [
       "count    4333.000000 \n",
       "mean     757.857604  \n",
       "std      2958.697086 \n",
       "min      0.000000    \n",
       "25%      9.000000    \n",
       "50%      56.000000   \n",
       "75%      218.000000  \n",
       "max      23000.000000\n",
       "Name: director_facebook_likes, dtype: float64"
      ]
     },
     "execution_count": 441,
     "metadata": {},
     "output_type": "execute_result"
    }
   ],
   "source": [
    "df['director_facebook_likes'].describe()"
   ]
  },
  {
   "cell_type": "code",
   "execution_count": 442,
   "metadata": {},
   "outputs": [],
   "source": [
    "##### director popularity categories\n",
    "df['director_popularity'] = 4\n",
    "df['director_popularity'][df['director_facebook_likes'] > 500] = 4\n",
    "df['director_popularity'][(df['director_facebook_likes'] >100 ) & (df['director_facebook_likes'] < 500)] = 3\n",
    "df['director_popularity'][(df['director_facebook_likes'] >1 ) & (df['director_facebook_likes'] < 100)] = 2\n",
    "df['director_popularity'][df['director_facebook_likes'] < 1] = 1"
   ]
  },
  {
   "cell_type": "code",
   "execution_count": 443,
   "metadata": {},
   "outputs": [
    {
     "data": {
      "text/plain": [
       "<matplotlib.axes._subplots.AxesSubplot at 0x27e54e10>"
      ]
     },
     "execution_count": 443,
     "metadata": {},
     "output_type": "execute_result"
    },
    {
     "data": {
      "image/png": "[encoded data removed]",
      "text/plain": [
       "<Figure size 360x360 with 1 Axes>"
      ]
     },
     "metadata": {},
     "output_type": "display_data"
    }
   ],
   "source": [
    "df['director_popularity'].hist(figsize=(5,5))"
   ]
  },
  {
   "cell_type": "markdown",
   "metadata": {},
   "source": [
    "Director Popularity\n",
    "* 4=very popular (over 500 likes)\n",
    "* 3=popular (100-500)\n",
    "* 2=unpopular (1-100)\n",
    "* 1=unknown (0)"
   ]
  },
  {
   "cell_type": "markdown",
   "metadata": {},
   "source": [
    "These popularity categories will help simplify stakeholder decisions when applying models\n",
    "* Stakeholders will unlikely want to track exact facebook likes because this is not a static number\n",
    "* Applying actor popularity categories is simplier"
   ]
  },
  {
   "cell_type": "markdown",
   "metadata": {},
   "source": [
    "All other Redundant columns can now be removed"
   ]
  },
  {
   "cell_type": "code",
   "execution_count": 444,
   "metadata": {},
   "outputs": [],
   "source": [
    "#remove redundate columns\n",
    "df = df.drop(['content_rating'], axis=1)\n",
    "df = df.drop(['genres'], axis=1)\n",
    "df = df.drop(['actor_1_facebook_likes'], axis=1)\n",
    "df = df.drop(['actor_2_facebook_likes'], axis=1)\n",
    "df = df.drop(['actor_3_facebook_likes'], axis=1)\n",
    "df = df.drop(['Total_Actor_Likes'], axis=1)\n",
    "df = df.drop(['director_facebook_likes'], axis=1)"
   ]
  },
  {
   "cell_type": "code",
   "execution_count": 445,
   "metadata": {},
   "outputs": [],
   "source": [
    "#movie title can calso be removed\n",
    "df = df.drop(['movie_title'], axis=1)"
   ]
  },
  {
   "cell_type": "code",
   "execution_count": 446,
   "metadata": {},
   "outputs": [
    {
     "data": {
      "text/html": [
       "<div>\n",
       "<style scoped>\n",
       "    .dataframe tbody tr th:only-of-type {\n",
       "        vertical-align: middle;\n",
       "    }\n",
       "\n",
       "    .dataframe tbody tr th {\n",
       "        vertical-align: top;\n",
       "    }\n",
       "\n",
       "    .dataframe thead th {\n",
       "        text-align: right;\n",
       "    }\n",
       "</style>\n",
       "<table border=\"1\" class=\"dataframe\">\n",
       "  <thead>\n",
       "    <tr style=\"text-align: right;\">\n",
       "      <th></th>\n",
       "      <th>duration</th>\n",
       "      <th>budget</th>\n",
       "      <th>imdb_score</th>\n",
       "      <th>G</th>\n",
       "      <th>PG</th>\n",
       "      <th>PG-13</th>\n",
       "      <th>R</th>\n",
       "      <th>Comedy</th>\n",
       "      <th>Drama</th>\n",
       "      <th>Thrill_Horror</th>\n",
       "      <th>Bio_Hist_Doc_War</th>\n",
       "      <th>actor_popularity</th>\n",
       "      <th>director_popularity</th>\n",
       "    </tr>\n",
       "  </thead>\n",
       "  <tbody>\n",
       "    <tr>\n",
       "      <th>0</th>\n",
       "      <td>178.0</td>\n",
       "      <td>237000000.0</td>\n",
       "      <td>7.9</td>\n",
       "      <td>0</td>\n",
       "      <td>0</td>\n",
       "      <td>1</td>\n",
       "      <td>0</td>\n",
       "      <td>0</td>\n",
       "      <td>0</td>\n",
       "      <td>0</td>\n",
       "      <td>0</td>\n",
       "      <td>3</td>\n",
       "      <td>1</td>\n",
       "    </tr>\n",
       "    <tr>\n",
       "      <th>1</th>\n",
       "      <td>169.0</td>\n",
       "      <td>300000000.0</td>\n",
       "      <td>7.1</td>\n",
       "      <td>0</td>\n",
       "      <td>0</td>\n",
       "      <td>1</td>\n",
       "      <td>0</td>\n",
       "      <td>0</td>\n",
       "      <td>0</td>\n",
       "      <td>0</td>\n",
       "      <td>0</td>\n",
       "      <td>6</td>\n",
       "      <td>4</td>\n",
       "    </tr>\n",
       "  </tbody>\n",
       "</table>\n",
       "</div>"
      ],
      "text/plain": [
       "   duration       budget  imdb_score  G  PG  PG-13  R  Comedy  Drama  \\\n",
       "0  178.0     237000000.0  7.9         0  0   1      0  0       0       \n",
       "1  169.0     300000000.0  7.1         0  0   1      0  0       0       \n",
       "\n",
       "   Thrill_Horror  Bio_Hist_Doc_War  actor_popularity  director_popularity  \n",
       "0  0              0                 3                 1                    \n",
       "1  0              0                 6                 4                    "
      ]
     },
     "execution_count": 446,
     "metadata": {},
     "output_type": "execute_result"
    }
   ],
   "source": [
    "df.head(2)"
   ]
  },
  {
   "cell_type": "markdown",
   "metadata": {},
   "source": [
    "#### Review the transformed dataset"
   ]
  },
  {
   "cell_type": "code",
   "execution_count": 447,
   "metadata": {},
   "outputs": [
    {
     "data": {
      "text/plain": [
       "(4333, 13)"
      ]
     },
     "execution_count": 447,
     "metadata": {},
     "output_type": "execute_result"
    }
   ],
   "source": [
    "#how many columns are in df1?\n",
    "df.shape"
   ]
  },
  {
   "cell_type": "markdown",
   "metadata": {},
   "source": [
    "* There are 13 columns in the data frame"
   ]
  },
  {
   "cell_type": "markdown",
   "metadata": {},
   "source": [
    "Now our first dataset is complete\n",
    "* Regression Models used in the next secion can help us choose which of these 13 variables are important"
   ]
  },
  {
   "cell_type": "markdown",
   "metadata": {},
   "source": [
    "### Correlation Analysis"
   ]
  },
  {
   "cell_type": "markdown",
   "metadata": {},
   "source": [
    "Correlation analysis can be used to determine which variables correlate directly with IMDB score"
   ]
  },
  {
   "cell_type": "code",
   "execution_count": 448,
   "metadata": {},
   "outputs": [
    {
     "data": {
      "text/html": [
       "<div>\n",
       "<style scoped>\n",
       "    .dataframe tbody tr th:only-of-type {\n",
       "        vertical-align: middle;\n",
       "    }\n",
       "\n",
       "    .dataframe tbody tr th {\n",
       "        vertical-align: top;\n",
       "    }\n",
       "\n",
       "    .dataframe thead th {\n",
       "        text-align: right;\n",
       "    }\n",
       "</style>\n",
       "<table border=\"1\" class=\"dataframe\">\n",
       "  <thead>\n",
       "    <tr style=\"text-align: right;\">\n",
       "      <th></th>\n",
       "      <th>imdb_score</th>\n",
       "    </tr>\n",
       "  </thead>\n",
       "  <tbody>\n",
       "    <tr>\n",
       "      <th>duration</th>\n",
       "      <td>0.366887</td>\n",
       "    </tr>\n",
       "    <tr>\n",
       "      <th>Drama</th>\n",
       "      <td>0.309294</td>\n",
       "    </tr>\n",
       "    <tr>\n",
       "      <th>Bio_Hist_Doc_War</th>\n",
       "      <td>0.203267</td>\n",
       "    </tr>\n",
       "    <tr>\n",
       "      <th>director_popularity</th>\n",
       "      <td>0.121185</td>\n",
       "    </tr>\n",
       "    <tr>\n",
       "      <th>R</th>\n",
       "      <td>0.093888</td>\n",
       "    </tr>\n",
       "    <tr>\n",
       "      <th>actor_popularity</th>\n",
       "      <td>0.087550</td>\n",
       "    </tr>\n",
       "    <tr>\n",
       "      <th>budget</th>\n",
       "      <td>0.030981</td>\n",
       "    </tr>\n",
       "    <tr>\n",
       "      <th>G</th>\n",
       "      <td>0.011201</td>\n",
       "    </tr>\n",
       "    <tr>\n",
       "      <th>PG</th>\n",
       "      <td>-0.048287</td>\n",
       "    </tr>\n",
       "    <tr>\n",
       "      <th>PG-13</th>\n",
       "      <td>-0.109254</td>\n",
       "    </tr>\n",
       "    <tr>\n",
       "      <th>Thrill_Horror</th>\n",
       "      <td>-0.146785</td>\n",
       "    </tr>\n",
       "    <tr>\n",
       "      <th>Comedy</th>\n",
       "      <td>-0.181628</td>\n",
       "    </tr>\n",
       "  </tbody>\n",
       "</table>\n",
       "</div>"
      ],
      "text/plain": [
       "                     imdb_score\n",
       "duration             0.366887  \n",
       "Drama                0.309294  \n",
       "Bio_Hist_Doc_War     0.203267  \n",
       "director_popularity  0.121185  \n",
       "R                    0.093888  \n",
       "actor_popularity     0.087550  \n",
       "budget               0.030981  \n",
       "G                    0.011201  \n",
       "PG                  -0.048287  \n",
       "PG-13               -0.109254  \n",
       "Thrill_Horror       -0.146785  \n",
       "Comedy              -0.181628  "
      ]
     },
     "execution_count": 448,
     "metadata": {},
     "output_type": "execute_result"
    }
   ],
   "source": [
    "#conduct IMDB correlation analysis\n",
    "corr= pd.DataFrame(df.corr()['imdb_score'].drop('imdb_score'))\n",
    "corr.sort_values(['imdb_score'], ascending = False)"
   ]
  },
  {
   "cell_type": "code",
   "execution_count": 449,
   "metadata": {},
   "outputs": [
    {
     "data": {
      "text/html": [
       "<div>\n",
       "<style scoped>\n",
       "    .dataframe tbody tr th:only-of-type {\n",
       "        vertical-align: middle;\n",
       "    }\n",
       "\n",
       "    .dataframe tbody tr th {\n",
       "        vertical-align: top;\n",
       "    }\n",
       "\n",
       "    .dataframe thead th {\n",
       "        text-align: right;\n",
       "    }\n",
       "</style>\n",
       "<table border=\"1\" class=\"dataframe\">\n",
       "  <thead>\n",
       "    <tr style=\"text-align: right;\">\n",
       "      <th></th>\n",
       "      <th>duration</th>\n",
       "      <th>budget</th>\n",
       "      <th>imdb_score</th>\n",
       "      <th>G</th>\n",
       "      <th>PG</th>\n",
       "      <th>PG-13</th>\n",
       "      <th>R</th>\n",
       "      <th>Comedy</th>\n",
       "      <th>Drama</th>\n",
       "      <th>Thrill_Horror</th>\n",
       "      <th>Bio_Hist_Doc_War</th>\n",
       "      <th>actor_popularity</th>\n",
       "      <th>director_popularity</th>\n",
       "    </tr>\n",
       "  </thead>\n",
       "  <tbody>\n",
       "    <tr>\n",
       "      <th>duration</th>\n",
       "      <td>1.000000</td>\n",
       "      <td>0.072644</td>\n",
       "      <td>0.366887</td>\n",
       "      <td>-0.076612</td>\n",
       "      <td>-0.078242</td>\n",
       "      <td>0.080314</td>\n",
       "      <td>0.009666</td>\n",
       "      <td>-0.293881</td>\n",
       "      <td>0.278663</td>\n",
       "      <td>-0.082473</td>\n",
       "      <td>0.287481</td>\n",
       "      <td>0.170829</td>\n",
       "      <td>0.117536</td>\n",
       "    </tr>\n",
       "    <tr>\n",
       "      <th>budget</th>\n",
       "      <td>0.072644</td>\n",
       "      <td>1.000000</td>\n",
       "      <td>0.030981</td>\n",
       "      <td>0.001253</td>\n",
       "      <td>0.013148</td>\n",
       "      <td>0.042446</td>\n",
       "      <td>-0.032375</td>\n",
       "      <td>-0.006681</td>\n",
       "      <td>-0.021792</td>\n",
       "      <td>-0.003024</td>\n",
       "      <td>-0.006838</td>\n",
       "      <td>0.036546</td>\n",
       "      <td>0.038925</td>\n",
       "    </tr>\n",
       "    <tr>\n",
       "      <th>imdb_score</th>\n",
       "      <td>0.366887</td>\n",
       "      <td>0.030981</td>\n",
       "      <td>1.000000</td>\n",
       "      <td>0.011201</td>\n",
       "      <td>-0.048287</td>\n",
       "      <td>-0.109254</td>\n",
       "      <td>0.093888</td>\n",
       "      <td>-0.181628</td>\n",
       "      <td>0.309294</td>\n",
       "      <td>-0.146785</td>\n",
       "      <td>0.203267</td>\n",
       "      <td>0.087550</td>\n",
       "      <td>0.121185</td>\n",
       "    </tr>\n",
       "    <tr>\n",
       "      <th>G</th>\n",
       "      <td>-0.076612</td>\n",
       "      <td>0.001253</td>\n",
       "      <td>0.011201</td>\n",
       "      <td>1.000000</td>\n",
       "      <td>-0.068641</td>\n",
       "      <td>-0.109931</td>\n",
       "      <td>-0.145857</td>\n",
       "      <td>0.064805</td>\n",
       "      <td>-0.061575</td>\n",
       "      <td>-0.106511</td>\n",
       "      <td>0.010401</td>\n",
       "      <td>-0.073565</td>\n",
       "      <td>-0.029453</td>\n",
       "    </tr>\n",
       "    <tr>\n",
       "      <th>PG</th>\n",
       "      <td>-0.078242</td>\n",
       "      <td>0.013148</td>\n",
       "      <td>-0.048287</td>\n",
       "      <td>-0.068641</td>\n",
       "      <td>1.000000</td>\n",
       "      <td>-0.292418</td>\n",
       "      <td>-0.387980</td>\n",
       "      <td>0.142634</td>\n",
       "      <td>-0.142940</td>\n",
       "      <td>-0.216303</td>\n",
       "      <td>-0.017721</td>\n",
       "      <td>0.003954</td>\n",
       "      <td>-0.031032</td>\n",
       "    </tr>\n",
       "    <tr>\n",
       "      <th>PG-13</th>\n",
       "      <td>0.080314</td>\n",
       "      <td>0.042446</td>\n",
       "      <td>-0.109254</td>\n",
       "      <td>-0.109931</td>\n",
       "      <td>-0.292418</td>\n",
       "      <td>1.000000</td>\n",
       "      <td>-0.621361</td>\n",
       "      <td>0.007804</td>\n",
       "      <td>-0.027675</td>\n",
       "      <td>-0.034438</td>\n",
       "      <td>-0.024485</td>\n",
       "      <td>0.141159</td>\n",
       "      <td>0.053124</td>\n",
       "    </tr>\n",
       "    <tr>\n",
       "      <th>R</th>\n",
       "      <td>0.009666</td>\n",
       "      <td>-0.032375</td>\n",
       "      <td>0.093888</td>\n",
       "      <td>-0.145857</td>\n",
       "      <td>-0.387980</td>\n",
       "      <td>-0.621361</td>\n",
       "      <td>1.000000</td>\n",
       "      <td>-0.110806</td>\n",
       "      <td>0.143755</td>\n",
       "      <td>0.230840</td>\n",
       "      <td>0.010921</td>\n",
       "      <td>-0.017169</td>\n",
       "      <td>-0.012173</td>\n",
       "    </tr>\n",
       "    <tr>\n",
       "      <th>Comedy</th>\n",
       "      <td>-0.293881</td>\n",
       "      <td>-0.006681</td>\n",
       "      <td>-0.181628</td>\n",
       "      <td>0.064805</td>\n",
       "      <td>0.142634</td>\n",
       "      <td>0.007804</td>\n",
       "      <td>-0.110806</td>\n",
       "      <td>1.000000</td>\n",
       "      <td>-0.251217</td>\n",
       "      <td>-0.368661</td>\n",
       "      <td>-0.197978</td>\n",
       "      <td>0.003784</td>\n",
       "      <td>-0.063582</td>\n",
       "    </tr>\n",
       "    <tr>\n",
       "      <th>Drama</th>\n",
       "      <td>0.278663</td>\n",
       "      <td>-0.021792</td>\n",
       "      <td>0.309294</td>\n",
       "      <td>-0.061575</td>\n",
       "      <td>-0.142940</td>\n",
       "      <td>-0.027675</td>\n",
       "      <td>0.143755</td>\n",
       "      <td>-0.251217</td>\n",
       "      <td>1.000000</td>\n",
       "      <td>-0.153163</td>\n",
       "      <td>0.245821</td>\n",
       "      <td>0.001287</td>\n",
       "      <td>0.049580</td>\n",
       "    </tr>\n",
       "    <tr>\n",
       "      <th>Thrill_Horror</th>\n",
       "      <td>-0.082473</td>\n",
       "      <td>-0.003024</td>\n",
       "      <td>-0.146785</td>\n",
       "      <td>-0.106511</td>\n",
       "      <td>-0.216303</td>\n",
       "      <td>-0.034438</td>\n",
       "      <td>0.230840</td>\n",
       "      <td>-0.368661</td>\n",
       "      <td>-0.153163</td>\n",
       "      <td>1.000000</td>\n",
       "      <td>-0.157417</td>\n",
       "      <td>-0.002232</td>\n",
       "      <td>-0.004947</td>\n",
       "    </tr>\n",
       "    <tr>\n",
       "      <th>Bio_Hist_Doc_War</th>\n",
       "      <td>0.287481</td>\n",
       "      <td>-0.006838</td>\n",
       "      <td>0.203267</td>\n",
       "      <td>0.010401</td>\n",
       "      <td>-0.017721</td>\n",
       "      <td>-0.024485</td>\n",
       "      <td>0.010921</td>\n",
       "      <td>-0.197978</td>\n",
       "      <td>0.245821</td>\n",
       "      <td>-0.157417</td>\n",
       "      <td>1.000000</td>\n",
       "      <td>-0.064206</td>\n",
       "      <td>0.047814</td>\n",
       "    </tr>\n",
       "    <tr>\n",
       "      <th>actor_popularity</th>\n",
       "      <td>0.170829</td>\n",
       "      <td>0.036546</td>\n",
       "      <td>0.087550</td>\n",
       "      <td>-0.073565</td>\n",
       "      <td>0.003954</td>\n",
       "      <td>0.141159</td>\n",
       "      <td>-0.017169</td>\n",
       "      <td>0.003784</td>\n",
       "      <td>0.001287</td>\n",
       "      <td>-0.002232</td>\n",
       "      <td>-0.064206</td>\n",
       "      <td>1.000000</td>\n",
       "      <td>0.110147</td>\n",
       "    </tr>\n",
       "    <tr>\n",
       "      <th>director_popularity</th>\n",
       "      <td>0.117536</td>\n",
       "      <td>0.038925</td>\n",
       "      <td>0.121185</td>\n",
       "      <td>-0.029453</td>\n",
       "      <td>-0.031032</td>\n",
       "      <td>0.053124</td>\n",
       "      <td>-0.012173</td>\n",
       "      <td>-0.063582</td>\n",
       "      <td>0.049580</td>\n",
       "      <td>-0.004947</td>\n",
       "      <td>0.047814</td>\n",
       "      <td>0.110147</td>\n",
       "      <td>1.000000</td>\n",
       "    </tr>\n",
       "  </tbody>\n",
       "</table>\n",
       "</div>"
      ],
      "text/plain": [
       "                     duration    budget  imdb_score         G        PG  \\\n",
       "duration             1.000000  0.072644  0.366887   -0.076612 -0.078242   \n",
       "budget               0.072644  1.000000  0.030981    0.001253  0.013148   \n",
       "imdb_score           0.366887  0.030981  1.000000    0.011201 -0.048287   \n",
       "G                   -0.076612  0.001253  0.011201    1.000000 -0.068641   \n",
       "PG                  -0.078242  0.013148 -0.048287   -0.068641  1.000000   \n",
       "PG-13                0.080314  0.042446 -0.109254   -0.109931 -0.292418   \n",
       "R                    0.009666 -0.032375  0.093888   -0.145857 -0.387980   \n",
       "Comedy              -0.293881 -0.006681 -0.181628    0.064805  0.142634   \n",
       "Drama                0.278663 -0.021792  0.309294   -0.061575 -0.142940   \n",
       "Thrill_Horror       -0.082473 -0.003024 -0.146785   -0.106511 -0.216303   \n",
       "Bio_Hist_Doc_War     0.287481 -0.006838  0.203267    0.010401 -0.017721   \n",
       "actor_popularity     0.170829  0.036546  0.087550   -0.073565  0.003954   \n",
       "director_popularity  0.117536  0.038925  0.121185   -0.029453 -0.031032   \n",
       "\n",
       "                        PG-13         R    Comedy     Drama  Thrill_Horror  \\\n",
       "duration             0.080314  0.009666 -0.293881  0.278663 -0.082473        \n",
       "budget               0.042446 -0.032375 -0.006681 -0.021792 -0.003024        \n",
       "imdb_score          -0.109254  0.093888 -0.181628  0.309294 -0.146785        \n",
       "G                   -0.109931 -0.145857  0.064805 -0.061575 -0.106511        \n",
       "PG                  -0.292418 -0.387980  0.142634 -0.142940 -0.216303        \n",
       "PG-13                1.000000 -0.621361  0.007804 -0.027675 -0.034438        \n",
       "R                   -0.621361  1.000000 -0.110806  0.143755  0.230840        \n",
       "Comedy               0.007804 -0.110806  1.000000 -0.251217 -0.368661        \n",
       "Drama               -0.027675  0.143755 -0.251217  1.000000 -0.153163        \n",
       "Thrill_Horror       -0.034438  0.230840 -0.368661 -0.153163  1.000000        \n",
       "Bio_Hist_Doc_War    -0.024485  0.010921 -0.197978  0.245821 -0.157417        \n",
       "actor_popularity     0.141159 -0.017169  0.003784  0.001287 -0.002232        \n",
       "director_popularity  0.053124 -0.012173 -0.063582  0.049580 -0.004947        \n",
       "\n",
       "                     Bio_Hist_Doc_War  actor_popularity  director_popularity  \n",
       "duration             0.287481          0.170829          0.117536             \n",
       "budget              -0.006838          0.036546          0.038925             \n",
       "imdb_score           0.203267          0.087550          0.121185             \n",
       "G                    0.010401         -0.073565         -0.029453             \n",
       "PG                  -0.017721          0.003954         -0.031032             \n",
       "PG-13               -0.024485          0.141159          0.053124             \n",
       "R                    0.010921         -0.017169         -0.012173             \n",
       "Comedy              -0.197978          0.003784         -0.063582             \n",
       "Drama                0.245821          0.001287          0.049580             \n",
       "Thrill_Horror       -0.157417         -0.002232         -0.004947             \n",
       "Bio_Hist_Doc_War     1.000000         -0.064206          0.047814             \n",
       "actor_popularity    -0.064206          1.000000          0.110147             \n",
       "director_popularity  0.047814          0.110147          1.000000             "
      ]
     },
     "execution_count": 449,
     "metadata": {},
     "output_type": "execute_result"
    }
   ],
   "source": [
    "#correlation between all variables\n",
    "df.corr()"
   ]
  },
  {
   "cell_type": "markdown",
   "metadata": {},
   "source": [
    "#### The corelation above can be visualized in the cluster map beloow"
   ]
  },
  {
   "cell_type": "code",
   "execution_count": 450,
   "metadata": {},
   "outputs": [
    {
     "data": {
      "text/plain": [
       "<seaborn.matrix.ClusterGrid at 0x27fc9780>"
      ]
     },
     "execution_count": 450,
     "metadata": {},
     "output_type": "execute_result"
    },
    {
     "data": {
      "image/png": "[encoded data removed]",
      "text/plain": [
       "<Figure size 720x720 with 4 Axes>"
      ]
     },
     "metadata": {},
     "output_type": "display_data"
    }
   ],
   "source": [
    "#visualize correlations\n",
    "corr = df.corr().mul(100).astype(int)\n",
    "cmap = sns.diverging_palette(h_neg=210, h_pos=350, s=90, l=30, as_cmap=True)\n",
    "sns.clustermap(data=corr, fmt='d', cmap=\"Blues\", annot_kws={\"size\": 16})"
   ]
  },
  {
   "cell_type": "markdown",
   "metadata": {},
   "source": [
    "#### The top variables in this correlation analysis are listed below (in order of strength):\n",
    "* Duration (+)\n",
    "* Drama (+)\n",
    "* Biography, History, Documentary, and War genres (+)\n",
    "* Comedy (-)\n",
    "* Thrill/Horror (-)\n",
    "* Director Popularity (+)"
   ]
  },
  {
   "cell_type": "markdown",
   "metadata": {},
   "source": [
    "#### Correlation Implications:\n",
    "\n",
    "Some genres highly correlate to IMDB score categories\n",
    "* People rate Dramas highly\n",
    "* Biographies, History, Documentary, and War movies are rated higher\n",
    "* Comedies are not rated highly\n",
    "* Thriller and Horro movies are not rated highly \n",
    "\n",
    "Generally\n",
    "* Longer movies are rated higher\n",
    "* Movies directed by popular directors are rated highly\n",
    "\n",
    "Content Rating\n",
    "* R movies are rated higher\n",
    "* PG-13 movies are rated lower"
   ]
  },
  {
   "cell_type": "markdown",
   "metadata": {},
   "source": [
    "### Save Data as new data set"
   ]
  },
  {
   "cell_type": "code",
   "execution_count": 451,
   "metadata": {},
   "outputs": [
    {
     "data": {
      "text/html": [
       "<div>\n",
       "<style scoped>\n",
       "    .dataframe tbody tr th:only-of-type {\n",
       "        vertical-align: middle;\n",
       "    }\n",
       "\n",
       "    .dataframe tbody tr th {\n",
       "        vertical-align: top;\n",
       "    }\n",
       "\n",
       "    .dataframe thead th {\n",
       "        text-align: right;\n",
       "    }\n",
       "</style>\n",
       "<table border=\"1\" class=\"dataframe\">\n",
       "  <thead>\n",
       "    <tr style=\"text-align: right;\">\n",
       "      <th></th>\n",
       "      <th>duration</th>\n",
       "      <th>budget</th>\n",
       "      <th>imdb_score</th>\n",
       "      <th>G</th>\n",
       "      <th>PG</th>\n",
       "      <th>PG-13</th>\n",
       "      <th>R</th>\n",
       "      <th>Comedy</th>\n",
       "      <th>Drama</th>\n",
       "      <th>Thrill_Horror</th>\n",
       "      <th>Bio_Hist_Doc_War</th>\n",
       "      <th>actor_popularity</th>\n",
       "      <th>director_popularity</th>\n",
       "    </tr>\n",
       "  </thead>\n",
       "  <tbody>\n",
       "    <tr>\n",
       "      <th>0</th>\n",
       "      <td>178.0</td>\n",
       "      <td>237000000.0</td>\n",
       "      <td>7.9</td>\n",
       "      <td>0</td>\n",
       "      <td>0</td>\n",
       "      <td>1</td>\n",
       "      <td>0</td>\n",
       "      <td>0</td>\n",
       "      <td>0</td>\n",
       "      <td>0</td>\n",
       "      <td>0</td>\n",
       "      <td>3</td>\n",
       "      <td>1</td>\n",
       "    </tr>\n",
       "    <tr>\n",
       "      <th>1</th>\n",
       "      <td>169.0</td>\n",
       "      <td>300000000.0</td>\n",
       "      <td>7.1</td>\n",
       "      <td>0</td>\n",
       "      <td>0</td>\n",
       "      <td>1</td>\n",
       "      <td>0</td>\n",
       "      <td>0</td>\n",
       "      <td>0</td>\n",
       "      <td>0</td>\n",
       "      <td>0</td>\n",
       "      <td>6</td>\n",
       "      <td>4</td>\n",
       "    </tr>\n",
       "    <tr>\n",
       "      <th>2</th>\n",
       "      <td>148.0</td>\n",
       "      <td>245000000.0</td>\n",
       "      <td>6.8</td>\n",
       "      <td>0</td>\n",
       "      <td>0</td>\n",
       "      <td>1</td>\n",
       "      <td>0</td>\n",
       "      <td>0</td>\n",
       "      <td>0</td>\n",
       "      <td>1</td>\n",
       "      <td>0</td>\n",
       "      <td>4</td>\n",
       "      <td>1</td>\n",
       "    </tr>\n",
       "    <tr>\n",
       "      <th>3</th>\n",
       "      <td>164.0</td>\n",
       "      <td>250000000.0</td>\n",
       "      <td>8.5</td>\n",
       "      <td>0</td>\n",
       "      <td>0</td>\n",
       "      <td>1</td>\n",
       "      <td>0</td>\n",
       "      <td>0</td>\n",
       "      <td>0</td>\n",
       "      <td>1</td>\n",
       "      <td>0</td>\n",
       "      <td>6</td>\n",
       "      <td>4</td>\n",
       "    </tr>\n",
       "    <tr>\n",
       "      <th>5</th>\n",
       "      <td>132.0</td>\n",
       "      <td>263700000.0</td>\n",
       "      <td>6.6</td>\n",
       "      <td>0</td>\n",
       "      <td>0</td>\n",
       "      <td>1</td>\n",
       "      <td>0</td>\n",
       "      <td>0</td>\n",
       "      <td>0</td>\n",
       "      <td>0</td>\n",
       "      <td>0</td>\n",
       "      <td>3</td>\n",
       "      <td>3</td>\n",
       "    </tr>\n",
       "  </tbody>\n",
       "</table>\n",
       "</div>"
      ],
      "text/plain": [
       "   duration       budget  imdb_score  G  PG  PG-13  R  Comedy  Drama  \\\n",
       "0  178.0     237000000.0  7.9         0  0   1      0  0       0       \n",
       "1  169.0     300000000.0  7.1         0  0   1      0  0       0       \n",
       "2  148.0     245000000.0  6.8         0  0   1      0  0       0       \n",
       "3  164.0     250000000.0  8.5         0  0   1      0  0       0       \n",
       "5  132.0     263700000.0  6.6         0  0   1      0  0       0       \n",
       "\n",
       "   Thrill_Horror  Bio_Hist_Doc_War  actor_popularity  director_popularity  \n",
       "0  0              0                 3                 1                    \n",
       "1  0              0                 6                 4                    \n",
       "2  1              0                 4                 1                    \n",
       "3  1              0                 6                 4                    \n",
       "5  0              0                 3                 3                    "
      ]
     },
     "execution_count": 451,
     "metadata": {},
     "output_type": "execute_result"
    }
   ],
   "source": [
    "#preview the dataset\n",
    "df.head()"
   ]
  },
  {
   "cell_type": "markdown",
   "metadata": {},
   "source": [
    "This data will be saved as a new data set so it can be used in further analysis"
   ]
  },
  {
   "cell_type": "code",
   "execution_count": 452,
   "metadata": {},
   "outputs": [],
   "source": [
    "#save the dataset\n",
    "df.to_csv('data/imdb_transformed')"
   ]
  },
  {
   "cell_type": "code",
   "execution_count": null,
   "metadata": {},
   "outputs": [],
   "source": []
  }
 ],
 "metadata": {
  "kernelspec": {
   "display_name": "Python 2",
   "language": "python",
   "name": "python2"
  },
  "language_info": {
   "codemirror_mode": {
    "name": "ipython",
    "version": 2
   },
   "file_extension": ".py",
   "mimetype": "text/x-python",
   "name": "python",
   "nbconvert_exporter": "python",
   "pygments_lexer": "ipython2",
   "version": "2.7.15"
  }
 },
 "nbformat": 4,
 "nbformat_minor": 2
}
