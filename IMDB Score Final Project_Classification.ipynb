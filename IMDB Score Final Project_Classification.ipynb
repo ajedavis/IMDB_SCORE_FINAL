{
 "cells": [
  {
   "cell_type": "markdown",
   "metadata": {},
   "source": [
    "# IMDB Score Final Project Classification Analysis\n",
    "\n",
    "\"On my honor, as a student, I have neither given nor received unauthorized aid on this academic work.\"\n",
    "Jessica Davis"
   ]
  },
  {
   "cell_type": "code",
   "execution_count": 28,
   "metadata": {},
   "outputs": [],
   "source": [
    "import numpy as np\n",
    "import pandas as pd\n",
    "import matplotlib.pyplot as plt\n",
    "import seaborn as sns\n",
    "%matplotlib inline\n",
    "\n",
    "#import decisiontreeclassifier\n",
    "from sklearn import tree\n",
    "from sklearn.tree import DecisionTreeClassifier\n",
    "#import logisticregression classifier\n",
    "from sklearn.linear_model import LogisticRegression\n",
    "import statsmodels.api as sm\n",
    "#import knn classifier\n",
    "from sklearn.neighbors import KNeighborsClassifier\n",
    "\n",
    "#for validating your classification model\n",
    "from sklearn.model_selection import train_test_split\n",
    "from sklearn.model_selection import cross_val_score\n",
    "from sklearn import metrics\n",
    "from sklearn.metrics import roc_curve, auc\n",
    "\n",
    "# feature selection\n",
    "from sklearn.feature_selection import RFE\n",
    "from sklearn.ensemble import ExtraTreesClassifier\n",
    "from sklearn.feature_selection import SelectKBest\n",
    "from sklearn.feature_selection import chi2"
   ]
  },
  {
   "cell_type": "markdown",
   "metadata": {},
   "source": [
    "## Load Data"
   ]
  },
  {
   "cell_type": "code",
   "execution_count": 29,
   "metadata": {},
   "outputs": [],
   "source": [
    "#Set Display Format\n",
    "pd.set_option('display.max_colwidth', -1)\n",
    "pd.set_option('display.max_columns', None)\n",
    "pd.set_option('display.max_rows', None)"
   ]
  },
  {
   "cell_type": "code",
   "execution_count": 30,
   "metadata": {},
   "outputs": [],
   "source": [
    "#remove warnings to keep dataset clean\n",
    "import warnings\n",
    "warnings.filterwarnings('ignore')"
   ]
  },
  {
   "cell_type": "code",
   "execution_count": 31,
   "metadata": {},
   "outputs": [],
   "source": [
    "#Set Display Format\n",
    "pd.set_option('display.max_colwidth', -1)\n",
    "pd.set_option('display.max_columns', None)\n",
    "pd.set_option('display.max_rows', None)"
   ]
  },
  {
   "cell_type": "code",
   "execution_count": 32,
   "metadata": {},
   "outputs": [],
   "source": [
    "#read dataset\n",
    "df = pd.read_csv('data/imdb_transformed')"
   ]
  },
  {
   "cell_type": "code",
   "execution_count": 33,
   "metadata": {},
   "outputs": [
    {
     "data": {
      "text/html": [
       "<div>\n",
       "<style scoped>\n",
       "    .dataframe tbody tr th:only-of-type {\n",
       "        vertical-align: middle;\n",
       "    }\n",
       "\n",
       "    .dataframe tbody tr th {\n",
       "        vertical-align: top;\n",
       "    }\n",
       "\n",
       "    .dataframe thead th {\n",
       "        text-align: right;\n",
       "    }\n",
       "</style>\n",
       "<table border=\"1\" class=\"dataframe\">\n",
       "  <thead>\n",
       "    <tr style=\"text-align: right;\">\n",
       "      <th></th>\n",
       "      <th>Unnamed: 0</th>\n",
       "      <th>duration</th>\n",
       "      <th>budget</th>\n",
       "      <th>imdb_score</th>\n",
       "      <th>G</th>\n",
       "      <th>PG</th>\n",
       "      <th>PG-13</th>\n",
       "      <th>R</th>\n",
       "      <th>Comedy</th>\n",
       "      <th>Drama</th>\n",
       "      <th>Thrill_Horror</th>\n",
       "      <th>Bio_Hist_Doc_War</th>\n",
       "      <th>actor_popularity</th>\n",
       "      <th>director_popularity</th>\n",
       "    </tr>\n",
       "  </thead>\n",
       "  <tbody>\n",
       "    <tr>\n",
       "      <th>0</th>\n",
       "      <td>0</td>\n",
       "      <td>178.0</td>\n",
       "      <td>237000000.0</td>\n",
       "      <td>7.9</td>\n",
       "      <td>0</td>\n",
       "      <td>0</td>\n",
       "      <td>1</td>\n",
       "      <td>0</td>\n",
       "      <td>0</td>\n",
       "      <td>0</td>\n",
       "      <td>0</td>\n",
       "      <td>0</td>\n",
       "      <td>3</td>\n",
       "      <td>1</td>\n",
       "    </tr>\n",
       "    <tr>\n",
       "      <th>1</th>\n",
       "      <td>1</td>\n",
       "      <td>169.0</td>\n",
       "      <td>300000000.0</td>\n",
       "      <td>7.1</td>\n",
       "      <td>0</td>\n",
       "      <td>0</td>\n",
       "      <td>1</td>\n",
       "      <td>0</td>\n",
       "      <td>0</td>\n",
       "      <td>0</td>\n",
       "      <td>0</td>\n",
       "      <td>0</td>\n",
       "      <td>6</td>\n",
       "      <td>4</td>\n",
       "    </tr>\n",
       "  </tbody>\n",
       "</table>\n",
       "</div>"
      ],
      "text/plain": [
       "   Unnamed: 0  duration       budget  imdb_score  G  PG  PG-13  R  Comedy  \\\n",
       "0  0           178.0     237000000.0  7.9         0  0   1      0  0        \n",
       "1  1           169.0     300000000.0  7.1         0  0   1      0  0        \n",
       "\n",
       "   Drama  Thrill_Horror  Bio_Hist_Doc_War  actor_popularity  \\\n",
       "0  0      0              0                 3                  \n",
       "1  0      0              0                 6                  \n",
       "\n",
       "   director_popularity  \n",
       "0  1                    \n",
       "1  4                    "
      ]
     },
     "execution_count": 33,
     "metadata": {},
     "output_type": "execute_result"
    }
   ],
   "source": [
    "#preview data\n",
    "df.head(2)"
   ]
  },
  {
   "cell_type": "code",
   "execution_count": 34,
   "metadata": {},
   "outputs": [],
   "source": [
    "#drop unnecessary column\n",
    "df = df.drop(['Unnamed: 0'], axis=1)"
   ]
  },
  {
   "cell_type": "markdown",
   "metadata": {},
   "source": [
    "## Classification"
   ]
  },
  {
   "cell_type": "markdown",
   "metadata": {},
   "source": [
    "## Different Classification Techniques"
   ]
  },
  {
   "cell_type": "markdown",
   "metadata": {},
   "source": [
    "This project will use three different techniques that can be used to run classification analysis\n",
    "* Decision Tree\n",
    "* KNN\n",
    "* Logistic"
   ]
  },
  {
   "cell_type": "markdown",
   "metadata": {},
   "source": [
    "Because we are trying to classify data into categories, IMDB score needs to be made into different categories."
   ]
  },
  {
   "cell_type": "code",
   "execution_count": 35,
   "metadata": {},
   "outputs": [],
   "source": [
    "#create IMDB score categories\n",
    "df['imdb_cat'] = 4\n",
    "df['imdb_cat'][df['imdb_score'] > 8] = 4\n",
    "df['imdb_cat'][(df['imdb_score'] >6 ) & (df['imdb_score'] < 8)] = 3\n",
    "df['imdb_cat'][(df['imdb_score'] >4 ) & (df['imdb_score'] < 6)] = 2\n",
    "df['imdb_cat'][df['imdb_score'] < 4] = 1"
   ]
  },
  {
   "cell_type": "markdown",
   "metadata": {},
   "source": [
    "IMDB score categories\n",
    "* less than 4: ok\n",
    "* 4-6: bad\n",
    "* 6-8: good\n",
    "* 8-10 excellent"
   ]
  },
  {
   "cell_type": "markdown",
   "metadata": {},
   "source": [
    "Because we are using imdb category as our y variable, we can drop IMDB score"
   ]
  },
  {
   "cell_type": "code",
   "execution_count": 36,
   "metadata": {},
   "outputs": [],
   "source": [
    "df = df.drop(['imdb_score'], axis=1)"
   ]
  },
  {
   "cell_type": "markdown",
   "metadata": {},
   "source": [
    "### Decision Tree"
   ]
  },
  {
   "cell_type": "markdown",
   "metadata": {},
   "source": [
    "#### Run the Model"
   ]
  },
  {
   "cell_type": "code",
   "execution_count": 37,
   "metadata": {},
   "outputs": [],
   "source": [
    "# declare X variables and y variable\n",
    "y = df['imdb_cat']\n",
    "X = df.drop(['imdb_cat'], axis=1)"
   ]
  },
  {
   "cell_type": "markdown",
   "metadata": {},
   "source": [
    "We can use split validation to separate our data into different parts. This way we can test our model with our own data to see how well it predicts IMDB category"
   ]
  },
  {
   "cell_type": "code",
   "execution_count": 38,
   "metadata": {},
   "outputs": [
    {
     "data": {
      "text/plain": [
       "DecisionTreeClassifier(class_weight=None, criterion='gini', max_depth=None,\n",
       "            max_features=None, max_leaf_nodes=None,\n",
       "            min_impurity_decrease=0.0, min_impurity_split=None,\n",
       "            min_samples_leaf=1, min_samples_split=2,\n",
       "            min_weight_fraction_leaf=0.0, presort=False, random_state=None,\n",
       "            splitter='best')"
      ]
     },
     "execution_count": 38,
     "metadata": {},
     "output_type": "execute_result"
    }
   ],
   "source": [
    "# split validation\n",
    "X_train, X_test, y_train, y_test = train_test_split(X, y, test_size=0.3, random_state=0)\n",
    "\n",
    "# Initialize DecisionTreeClassifier()\n",
    "dt=DecisionTreeClassifier()\n",
    "\n",
    "# Train a decision tree model\n",
    "dt.fit(X_train, y_train)"
   ]
  },
  {
   "cell_type": "code",
   "execution_count": 39,
   "metadata": {
    "scrolled": true
   },
   "outputs": [
    {
     "name": "stdout",
     "output_type": "stream",
     "text": [
      "3033 3033\n",
      "1300 1300\n"
     ]
    }
   ],
   "source": [
    "print len(X_train), len(y_train)\n",
    "print len(X_test), len(y_test)"
   ]
  },
  {
   "cell_type": "markdown",
   "metadata": {},
   "source": [
    "This model will use 3033 values to train and 1300 models to test"
   ]
  },
  {
   "cell_type": "markdown",
   "metadata": {},
   "source": [
    "#### Model Evaluation"
   ]
  },
  {
   "cell_type": "code",
   "execution_count": 40,
   "metadata": {},
   "outputs": [
    {
     "name": "stdout",
     "output_type": "stream",
     "text": [
      "0.5453846153846154\n",
      "--------------------------------------------------------\n",
      "[[  4  24  20   2]\n",
      " [ 16 161 135   7]\n",
      " [ 17 190 515  77]\n",
      " [  0  22  81  29]]\n",
      "--------------------------------------------------------\n",
      "             precision    recall  f1-score   support\n",
      "\n",
      "          1       0.11      0.08      0.09        50\n",
      "          2       0.41      0.50      0.45       319\n",
      "          3       0.69      0.64      0.66       799\n",
      "          4       0.25      0.22      0.23       132\n",
      "\n",
      "avg / total       0.55      0.55      0.55      1300\n",
      "\n"
     ]
    }
   ],
   "source": [
    "#Model evaluation\n",
    "print metrics.accuracy_score(y_test, dt.predict(X_test))\n",
    "print \"--------------------------------------------------------\"\n",
    "print metrics.confusion_matrix(y_test, dt.predict(X_test)) \n",
    "print \"--------------------------------------------------------\"\n",
    "print metrics.classification_report(y_test, dt.predict(X_test))\n"
   ]
  },
  {
   "cell_type": "code",
   "execution_count": 41,
   "metadata": {
    "scrolled": true
   },
   "outputs": [
    {
     "data": {
      "image/png": "[encoded data removed]",
      "text/plain": [
       "<Figure size 432x288 with 2 Axes>"
      ]
     },
     "metadata": {},
     "output_type": "display_data"
    }
   ],
   "source": [
    "# visualize the results\n",
    "import scikitplot as skplt\n",
    "\n",
    "skplt.metrics.plot_confusion_matrix(y_true=np.array(y_test), y_pred=dt.predict(X_test))\n",
    "plt.show()"
   ]
  },
  {
   "cell_type": "markdown",
   "metadata": {},
   "source": [
    "#### Interpreting the results"
   ]
  },
  {
   "cell_type": "markdown",
   "metadata": {},
   "source": [
    "* This model is only 54% accurate in predicting IMDB category\n",
    "* The model was 9% sucessful in predicting a score below 4 (1)\n",
    "* The model was 40% accurate in predicting a score between 4-6 (2)\n",
    "* The model was 67% accurate at predicting a score between 6-8 (3)\n",
    "* This model was 22% accurate in predicting a score above 8 (4)\n",
    "\n",
    "You can see this accuracy and inaccuracy in teh confusion matrix above. The dark blue square above shows that the model was able to predict an accurate category of 3 505 scores. The model could only predict 4 of category 1. However, there are very few movies in the dataset with a score of one, so these results make sense. Most scores fall in btween category 2-3, which had a higher rate of correct prediction in this model.\n"
   ]
  },
  {
   "cell_type": "markdown",
   "metadata": {},
   "source": [
    "#### Cross-Validation"
   ]
  },
  {
   "cell_type": "markdown",
   "metadata": {},
   "source": [
    "Now the decision tree results can be assessed with 10-fold cross validation."
   ]
  },
  {
   "cell_type": "code",
   "execution_count": 42,
   "metadata": {},
   "outputs": [
    {
     "name": "stdout",
     "output_type": "stream",
     "text": [
      "[0.52183908 0.45977011 0.54608295 0.56682028 0.57142857 0.51270208\n",
      " 0.4665127  0.51963048 0.44779582 0.51508121]\n",
      "0.5127663288388649\n"
     ]
    }
   ],
   "source": [
    "# evaluate the decision tree model using 10-fold cross-validation\n",
    "scores = cross_val_score(dt, X, y, scoring='accuracy', cv=10)\n",
    "print scores\n",
    "print scores.mean()"
   ]
  },
  {
   "cell_type": "markdown",
   "metadata": {},
   "source": [
    "On average this model is 51% accurate when assesed wtih 10-fold cross-validation."
   ]
  },
  {
   "cell_type": "markdown",
   "metadata": {},
   "source": [
    "### Random Forest"
   ]
  },
  {
   "cell_type": "markdown",
   "metadata": {},
   "source": [
    "Random forest models use multiple decision trees to develop a model,"
   ]
  },
  {
   "cell_type": "code",
   "execution_count": 43,
   "metadata": {},
   "outputs": [
    {
     "data": {
      "text/plain": [
       "0.6261538461538462"
      ]
     },
     "execution_count": 43,
     "metadata": {},
     "output_type": "execute_result"
    }
   ],
   "source": [
    "#run random forest model\n",
    "from sklearn.ensemble import RandomForestClassifier\n",
    "\n",
    "clf = RandomForestClassifier(n_estimators=20)    #building 20 decision trees\n",
    "clf=clf.fit(X_train, y_train)\n",
    "clf.score(X_test, y_test)"
   ]
  },
  {
   "cell_type": "markdown",
   "metadata": {},
   "source": [
    "This model has a 62.5% accuracy rate"
   ]
  },
  {
   "cell_type": "markdown",
   "metadata": {},
   "source": [
    "#### generate evaluation metrics"
   ]
  },
  {
   "cell_type": "code",
   "execution_count": 44,
   "metadata": {},
   "outputs": [
    {
     "name": "stdout",
     "output_type": "stream",
     "text": [
      "0.6261538461538462\n",
      "[[  2  28  20   0]\n",
      " [  6 146 166   1]\n",
      " [  3 132 654  10]\n",
      " [  1  15 104  12]]\n",
      "             precision    recall  f1-score   support\n",
      "\n",
      "          1       0.17      0.04      0.06        50\n",
      "          2       0.45      0.46      0.46       319\n",
      "          3       0.69      0.82      0.75       799\n",
      "          4       0.52      0.09      0.15       132\n",
      "\n",
      "avg / total       0.60      0.63      0.59      1300\n",
      "\n"
     ]
    }
   ],
   "source": [
    "#print evaluation results\n",
    "print metrics.accuracy_score(y_test, clf.predict(X_test)) #overall accuracy\n",
    "print metrics.confusion_matrix(y_test, clf.predict(X_test))\n",
    "print metrics.classification_report(y_test, clf.predict(X_test))"
   ]
  },
  {
   "cell_type": "markdown",
   "metadata": {},
   "source": [
    "* This model is 17% accurate in predicting category 1\n",
    "* 45% accurate in predicting category 2\n",
    "* 69% accurate in predicting category 3\n",
    "* 52% accurate in predicting category 4"
   ]
  },
  {
   "cell_type": "markdown",
   "metadata": {},
   "source": [
    "This model is significantly more accurate than the decision tree model."
   ]
  },
  {
   "cell_type": "markdown",
   "metadata": {},
   "source": [
    "### K-nearest Neighbors (KNN)"
   ]
  },
  {
   "cell_type": "code",
   "execution_count": 45,
   "metadata": {},
   "outputs": [],
   "source": [
    "#import necessary packages\n",
    "import numpy as np\n",
    "import pandas as pd\n",
    "import matplotlib.pyplot as plt\n",
    "import seaborn as sns\n",
    "%matplotlib inline\n",
    "\n",
    "#import decisiontreeclassifier\n",
    "from sklearn import tree\n",
    "from sklearn.tree import DecisionTreeClassifier\n",
    "#import logisticregression classifier\n",
    "from sklearn.linear_model import LogisticRegression\n",
    "import statsmodels.api as sm\n",
    "#import knn classifier\n",
    "from sklearn.neighbors import KNeighborsClassifier\n",
    "\n",
    "#for validating your classification model\n",
    "from sklearn.metrics import classification_report, f1_score, accuracy_score, confusion_matrix\n",
    "from sklearn.model_selection import StratifiedKFold, cross_val_score, train_test_split, GridSearchCV \n",
    "from sklearn import metrics\n",
    "from sklearn.metrics import roc_curve, auc\n",
    "\n",
    "# feature selection\n",
    "from sklearn.feature_selection import RFE\n",
    "from sklearn.ensemble import ExtraTreesClassifier\n",
    "from sklearn.feature_selection import SelectKBest\n",
    "from sklearn.feature_selection import chi2\n",
    "\n",
    "#pip install scikit-plot (optional)\n",
    "import scikitplot as skplt"
   ]
  },
  {
   "cell_type": "markdown",
   "metadata": {},
   "source": [
    "#### Run the model"
   ]
  },
  {
   "cell_type": "code",
   "execution_count": 46,
   "metadata": {},
   "outputs": [
    {
     "data": {
      "text/plain": [
       "KNeighborsClassifier(algorithm='auto', leaf_size=30, metric='minkowski',\n",
       "           metric_params=None, n_jobs=1, n_neighbors=3, p=2,\n",
       "           weights='uniform')"
      ]
     },
     "execution_count": 46,
     "metadata": {},
     "output_type": "execute_result"
    }
   ],
   "source": [
    "# split the model into a train and test set\n",
    "X_train, X_test, y_train, y_test = train_test_split(X, y, test_size=0.3, random_state=0)\n",
    "\n",
    "# initialize KNeighborsClassifier() and train a KNN Model\n",
    "knn= KNeighborsClassifier(n_neighbors=3)\n",
    "knn.fit(X_train, y_train)"
   ]
  },
  {
   "cell_type": "markdown",
   "metadata": {},
   "source": [
    "Now we can assess the model"
   ]
  },
  {
   "cell_type": "code",
   "execution_count": 49,
   "metadata": {},
   "outputs": [
    {
     "name": "stdout",
     "output_type": "stream",
     "text": [
      "0.5476923076923077\n",
      "[[  4  23  23   0]\n",
      " [ 22 124 170   3]\n",
      " [ 18 185 575  21]\n",
      " [  2  27  94   9]]\n",
      "             precision    recall  f1-score   support\n",
      "\n",
      "          1       0.09      0.08      0.08        50\n",
      "          2       0.35      0.39      0.37       319\n",
      "          3       0.67      0.72      0.69       799\n",
      "          4       0.27      0.07      0.11       132\n",
      "\n",
      "avg / total       0.53      0.55      0.53      1300\n",
      "\n"
     ]
    }
   ],
   "source": [
    "#Model evaluation without valdation\n",
    "print metrics.accuracy_score(y_test, knn.predict(X_test))\n",
    "print metrics.confusion_matrix(y_test, knn.predict(X_test))\n",
    "print metrics.classification_report(y_test, knn.predict(X_test))"
   ]
  },
  {
   "cell_type": "markdown",
   "metadata": {},
   "source": [
    "This model is 54% accurate and has a very similar prediction rate as the decision tree model."
   ]
  },
  {
   "cell_type": "markdown",
   "metadata": {},
   "source": [
    "We can also assess this model using cross-validation"
   ]
  },
  {
   "cell_type": "code",
   "execution_count": 50,
   "metadata": {},
   "outputs": [
    {
     "name": "stdout",
     "output_type": "stream",
     "text": [
      "[0.44597701 0.43908046 0.55529954 0.52534562 0.52764977 0.3556582\n",
      " 0.27944573 0.42725173 0.35730858 0.47795824]\n",
      "0.4390974881684266\n"
     ]
    }
   ],
   "source": [
    "# evaluate the knn model using 10-fold cross-validation\n",
    "scores = cross_val_score(knn, X, y, scoring='accuracy', cv=10)\n",
    "print scores\n",
    "print scores.mean()"
   ]
  },
  {
   "cell_type": "markdown",
   "metadata": {},
   "source": [
    "When assessed wtih 10-fold cross validation this model is only 44% accurate in predicting IMDB score categories"
   ]
  },
  {
   "cell_type": "markdown",
   "metadata": {},
   "source": [
    "#### Check for optimal K-value"
   ]
  },
  {
   "cell_type": "code",
   "execution_count": 51,
   "metadata": {},
   "outputs": [
    {
     "data": {
      "text/plain": [
       "Text(0,0.5,'accuracy')"
      ]
     },
     "execution_count": 51,
     "metadata": {},
     "output_type": "execute_result"
    },
    {
     "data": {
      "image/png": "[encoded data removed]",
      "text/plain": [
       "<Figure size 432x288 with 1 Axes>"
      ]
     },
     "metadata": {},
     "output_type": "display_data"
    }
   ],
   "source": [
    "# search for an optimal value of K\n",
    "k_range = range(1, 10)\n",
    "scores = []\n",
    "for k in k_range:\n",
    "    knn = KNeighborsClassifier(n_neighbors=k)\n",
    "    scores.append(np.mean(cross_val_score(knn, X, y, cv=10, scoring='accuracy')))\n",
    "\n",
    "# plot the K values (x-axis) versus the 10-fold CV score (y-axis)\n",
    "plt.figure()\n",
    "plt.plot(k_range, scores)\n",
    "plt.xlabel('k value')\n",
    "plt.ylabel('accuracy')"
   ]
  },
  {
   "cell_type": "code",
   "execution_count": 53,
   "metadata": {},
   "outputs": [
    {
     "data": {
      "image/png": "[encoded data removed]",
      "text/plain": [
       "<Figure size 432x288 with 1 Axes>"
      ]
     },
     "metadata": {},
     "output_type": "display_data"
    }
   ],
   "source": [
    "# automatic grid search for an optimal value of K\n",
    "from sklearn.grid_search import GridSearchCV\n",
    "\n",
    "knn = KNeighborsClassifier()\n",
    "k_range = range(1, 10)\n",
    "param_grid = dict(n_neighbors=k_range)\n",
    "grid = GridSearchCV(knn, param_grid, cv=10, scoring='accuracy')\n",
    "grid.fit(X, y)\n",
    "\n",
    "# check the results of the grid search\n",
    "grid.grid_scores_\n",
    "grid_mean_scores = [result[1] for result in grid.grid_scores_]\n",
    "plt.figure()\n",
    "plt.plot(k_range, grid_mean_scores)\n",
    "plt.show()"
   ]
  },
  {
   "cell_type": "code",
   "execution_count": 54,
   "metadata": {},
   "outputs": [
    {
     "name": "stdout",
     "output_type": "stream",
     "text": [
      "0.492499423033\n",
      "{'n_neighbors': 9}\n",
      "KNeighborsClassifier(algorithm='auto', leaf_size=30, metric='minkowski',\n",
      "           metric_params=None, n_jobs=1, n_neighbors=9, p=2,\n",
      "           weights='uniform')\n"
     ]
    }
   ],
   "source": [
    "print grid.best_score_\n",
    "print grid.best_params_\n",
    "print grid.best_estimator_"
   ]
  },
  {
   "cell_type": "markdown",
   "metadata": {},
   "source": [
    "The best k value 9 for this data set. So we can run a new model using 9 neighbors."
   ]
  },
  {
   "cell_type": "code",
   "execution_count": 55,
   "metadata": {},
   "outputs": [
    {
     "data": {
      "text/plain": [
       "KNeighborsClassifier(algorithm='auto', leaf_size=30, metric='minkowski',\n",
       "           metric_params=None, n_jobs=1, n_neighbors=9, p=2,\n",
       "           weights='uniform')"
      ]
     },
     "execution_count": 55,
     "metadata": {},
     "output_type": "execute_result"
    }
   ],
   "source": [
    "# develop a new knn model with k = 9\n",
    "X_train, X_test, y_train, y_test = train_test_split(X, y, test_size=0.3, random_state=0)\n",
    "knn = KNeighborsClassifier(n_neighbors=9)\n",
    "knn.fit(X_train, y_train)"
   ]
  },
  {
   "cell_type": "code",
   "execution_count": 56,
   "metadata": {},
   "outputs": [
    {
     "name": "stdout",
     "output_type": "stream",
     "text": [
      "0.6115384615384616\n",
      "[[  0  20  30   0]\n",
      " [  0 114 204   1]\n",
      " [  0 114 680   5]\n",
      " [  0  18 113   1]]\n",
      "             precision    recall  f1-score   support\n",
      "\n",
      "          1       0.00      0.00      0.00        50\n",
      "          2       0.43      0.36      0.39       319\n",
      "          3       0.66      0.85      0.74       799\n",
      "          4       0.14      0.01      0.01       132\n",
      "\n",
      "avg / total       0.53      0.61      0.55      1300\n",
      "\n"
     ]
    }
   ],
   "source": [
    "#Model evaluation\n",
    "print metrics.accuracy_score(y_test, knn.predict(X_test))\n",
    "print metrics.confusion_matrix(y_test, knn.predict(X_test))\n",
    "print metrics.classification_report(y_test, knn.predict(X_test))"
   ]
  },
  {
   "cell_type": "markdown",
   "metadata": {},
   "source": [
    "This model is signficantly more accurate than the knn model that only uses k=3. It is 61.2% accurate"
   ]
  },
  {
   "cell_type": "markdown",
   "metadata": {},
   "source": [
    "Now it can be evaluated wtih cross-fold validation."
   ]
  },
  {
   "cell_type": "code",
   "execution_count": 60,
   "metadata": {},
   "outputs": [
    {
     "name": "stdout",
     "output_type": "stream",
     "text": [
      "[0.57931034 0.48735632 0.5483871  0.58294931 0.51612903 0.47113164\n",
      " 0.31408776 0.52193995 0.43387471 0.46867749]\n",
      "0.4923843661979749\n"
     ]
    }
   ],
   "source": [
    "# evaluate the knn model using 10-fold cross-validation\n",
    "scores = cross_val_score(knn, X, y, scoring='accuracy', cv=10)\n",
    "print scores\n",
    "print scores.mean()"
   ]
  },
  {
   "cell_type": "markdown",
   "metadata": {},
   "source": [
    "On average this model is 49.2% when it is evaluated with cross-validation."
   ]
  },
  {
   "cell_type": "markdown",
   "metadata": {},
   "source": [
    "### Logistic Regression"
   ]
  },
  {
   "cell_type": "markdown",
   "metadata": {},
   "source": [
    "* Logistic Regression uses a non-linear regression model"
   ]
  },
  {
   "cell_type": "code",
   "execution_count": 61,
   "metadata": {},
   "outputs": [
    {
     "data": {
      "text/plain": [
       "LogisticRegression(C=1.0, class_weight=None, dual=False, fit_intercept=True,\n",
       "          intercept_scaling=1, max_iter=100, multi_class='ovr', n_jobs=1,\n",
       "          penalty='l2', random_state=None, solver='liblinear', tol=0.0001,\n",
       "          verbose=0, warm_start=False)"
      ]
     },
     "execution_count": 61,
     "metadata": {},
     "output_type": "execute_result"
    }
   ],
   "source": [
    "# evaluate the model by splitting into train and test sets and build a logistic regression model\n",
    "X_train, X_test, y_train, y_test = train_test_split(X, y, test_size=0.3, random_state=0)\n",
    "# name it as \"lr\"\n",
    "lr=LogisticRegression()\n",
    "lr.fit(X_train, y_train)"
   ]
  },
  {
   "cell_type": "code",
   "execution_count": 62,
   "metadata": {},
   "outputs": [
    {
     "name": "stdout",
     "output_type": "stream",
     "text": [
      "0.6146153846153846\n",
      "[[  0   0  50   0]\n",
      " [  0   0 319   0]\n",
      " [  0   0 799   0]\n",
      " [  0   0 132   0]]\n",
      "             precision    recall  f1-score   support\n",
      "\n",
      "          1       0.00      0.00      0.00        50\n",
      "          2       0.00      0.00      0.00       319\n",
      "          3       0.61      1.00      0.76       799\n",
      "          4       0.00      0.00      0.00       132\n",
      "\n",
      "avg / total       0.38      0.61      0.47      1300\n",
      "\n"
     ]
    }
   ],
   "source": [
    "#evaluate model accuracy\n",
    "print metrics.accuracy_score(y_test, lr.predict(X_test))\n",
    "print metrics.confusion_matrix(y_test, lr.predict(X_test))\n",
    "print metrics.classification_report(y_test, lr.predict(X_test))"
   ]
  },
  {
   "cell_type": "code",
   "execution_count": 63,
   "metadata": {},
   "outputs": [
    {
     "name": "stdout",
     "output_type": "stream",
     "text": [
      "[[1.49595070e-02 3.33192049e-01 4.16139806e-01 2.35708639e-01]\n",
      " [2.41441632e-01 2.52975834e-01 2.54325854e-01 2.51256681e-01]\n",
      " [7.17360109e-03 3.35644510e-01 4.39265601e-01 2.17916287e-01]\n",
      " ...\n",
      " [1.77466567e-01 2.75261324e-01 2.87332200e-01 2.59939909e-01]\n",
      " [7.72596456e-06 3.01735504e-01 6.21059735e-01 7.71970356e-02]\n",
      " [3.53182579e-04 3.29814530e-01 5.24230537e-01 1.45601750e-01]]\n"
     ]
    }
   ],
   "source": [
    "# generate class probabilities\n",
    "probs = lr.predict_proba(X_test)\n",
    "print probs"
   ]
  },
  {
   "cell_type": "markdown",
   "metadata": {},
   "source": [
    "These columns show us what the model predicts is the probability that each movie will fall into the IMDB score categories\n",
    "* Movie 1 has a 1.5% chance of being in score category 1\n",
    "* Movie 1 has a 33.3% chance of being in category 2\n",
    "* Movie 1 has a 41% chance of being in category 3\n",
    "* Movie 1 has a 23.6% chance of being in category 4"
   ]
  },
  {
   "cell_type": "code",
   "execution_count": 65,
   "metadata": {},
   "outputs": [
    {
     "data": {
      "text/html": [
       "<div>\n",
       "<style scoped>\n",
       "    .dataframe tbody tr th:only-of-type {\n",
       "        vertical-align: middle;\n",
       "    }\n",
       "\n",
       "    .dataframe tbody tr th {\n",
       "        vertical-align: top;\n",
       "    }\n",
       "\n",
       "    .dataframe thead th {\n",
       "        text-align: right;\n",
       "    }\n",
       "</style>\n",
       "<table border=\"1\" class=\"dataframe\">\n",
       "  <thead>\n",
       "    <tr style=\"text-align: right;\">\n",
       "      <th></th>\n",
       "      <th>duration</th>\n",
       "      <th>budget</th>\n",
       "      <th>G</th>\n",
       "      <th>PG</th>\n",
       "      <th>PG-13</th>\n",
       "      <th>R</th>\n",
       "      <th>Comedy</th>\n",
       "      <th>Drama</th>\n",
       "      <th>Thrill_Horror</th>\n",
       "      <th>Bio_Hist_Doc_War</th>\n",
       "      <th>actor_popularity</th>\n",
       "      <th>director_popularity</th>\n",
       "      <th>imdb_cat</th>\n",
       "    </tr>\n",
       "  </thead>\n",
       "  <tbody>\n",
       "    <tr>\n",
       "      <th>0</th>\n",
       "      <td>178.0</td>\n",
       "      <td>237000000.0</td>\n",
       "      <td>0</td>\n",
       "      <td>0</td>\n",
       "      <td>1</td>\n",
       "      <td>0</td>\n",
       "      <td>0</td>\n",
       "      <td>0</td>\n",
       "      <td>0</td>\n",
       "      <td>0</td>\n",
       "      <td>3</td>\n",
       "      <td>1</td>\n",
       "      <td>3</td>\n",
       "    </tr>\n",
       "  </tbody>\n",
       "</table>\n",
       "</div>"
      ],
      "text/plain": [
       "   duration       budget  G  PG  PG-13  R  Comedy  Drama  Thrill_Horror  \\\n",
       "0  178.0     237000000.0  0  0   1      0  0       0      0               \n",
       "\n",
       "   Bio_Hist_Doc_War  actor_popularity  director_popularity  imdb_cat  \n",
       "0  0                 3                 1                    3         "
      ]
     },
     "execution_count": 65,
     "metadata": {},
     "output_type": "execute_result"
    }
   ],
   "source": [
    "#check what category this movie is in\n",
    "df.head(1)"
   ]
  },
  {
   "cell_type": "markdown",
   "metadata": {},
   "source": [
    "* Movie 1 is in category 3, which had the highest lilkihood for this movie"
   ]
  },
  {
   "cell_type": "markdown",
   "metadata": {},
   "source": [
    "#### The most accurate classification model that was developed  in this section was the Random Forest Model, which had a prediction rate of 62.5%"
   ]
  }
 ],
 "metadata": {
  "kernelspec": {
   "display_name": "Python 2",
   "language": "python",
   "name": "python2"
  },
  "language_info": {
   "codemirror_mode": {
    "name": "ipython",
    "version": 2
   },
   "file_extension": ".py",
   "mimetype": "text/x-python",
   "name": "python",
   "nbconvert_exporter": "python",
   "pygments_lexer": "ipython2",
   "version": "2.7.15"
  }
 },
 "nbformat": 4,
 "nbformat_minor": 2
}
