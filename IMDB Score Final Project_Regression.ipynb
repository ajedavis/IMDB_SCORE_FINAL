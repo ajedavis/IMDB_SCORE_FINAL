{
 "cells": [
  {
   "cell_type": "markdown",
   "metadata": {},
   "source": [
    "# IMDB Score Final Project Regression Analysis\n",
    "\n",
    "\"On my honor, as a student, I have neither given nor received unauthorized aid on this academic work.\"\n",
    "Jessica Davis"
   ]
  },
  {
   "cell_type": "code",
   "execution_count": 4,
   "metadata": {},
   "outputs": [],
   "source": [
    "import pandas as pd\n",
    "import numpy as np\n",
    "from pandas.tools import plotting\n",
    "import matplotlib.pyplot as plt\n",
    "%matplotlib inline\n",
    "import seaborn as sns\n",
    "import matplotlib.pyplot as plt\n",
    "\n",
    "#regression packages\n",
    "import sklearn.linear_model as lm\n",
    "from sklearn.metrics import mean_squared_error\n",
    "from sklearn.metrics import explained_variance_score\n",
    "\n",
    "#lasso regression\n",
    "from sklearn import linear_model\n",
    "\n",
    "#f_regression (feature selection)\n",
    "from sklearn.feature_selection import f_regression\n",
    "from sklearn.feature_selection import SelectKBest\n",
    "\n",
    "# recursive feature selection (feature selection)\n",
    "from sklearn.feature_selection import RFE\n",
    "\n",
    "import statsmodels.api as sm\n",
    "from statsmodels.formula.api import ols"
   ]
  },
  {
   "cell_type": "code",
   "execution_count": 5,
   "metadata": {},
   "outputs": [],
   "source": [
    "#Set Display Format\n",
    "pd.set_option('display.max_colwidth', -1)\n",
    "pd.set_option('display.max_columns', None)\n",
    "pd.set_option('display.max_rows', None)"
   ]
  },
  {
   "cell_type": "code",
   "execution_count": 6,
   "metadata": {},
   "outputs": [],
   "source": [
    "#remove warnings to keep dataset clean\n",
    "import warnings\n",
    "warnings.filterwarnings('ignore')"
   ]
  },
  {
   "cell_type": "code",
   "execution_count": 7,
   "metadata": {},
   "outputs": [],
   "source": [
    "#read dataset\n",
    "df1 = pd.read_csv('data/imdb_transformed')"
   ]
  },
  {
   "cell_type": "code",
   "execution_count": 8,
   "metadata": {},
   "outputs": [
    {
     "data": {
      "text/html": [
       "<div>\n",
       "<style scoped>\n",
       "    .dataframe tbody tr th:only-of-type {\n",
       "        vertical-align: middle;\n",
       "    }\n",
       "\n",
       "    .dataframe tbody tr th {\n",
       "        vertical-align: top;\n",
       "    }\n",
       "\n",
       "    .dataframe thead th {\n",
       "        text-align: right;\n",
       "    }\n",
       "</style>\n",
       "<table border=\"1\" class=\"dataframe\">\n",
       "  <thead>\n",
       "    <tr style=\"text-align: right;\">\n",
       "      <th></th>\n",
       "      <th>Unnamed: 0</th>\n",
       "      <th>duration</th>\n",
       "      <th>budget</th>\n",
       "      <th>imdb_score</th>\n",
       "      <th>G</th>\n",
       "      <th>PG</th>\n",
       "      <th>PG-13</th>\n",
       "      <th>R</th>\n",
       "      <th>Comedy</th>\n",
       "      <th>Drama</th>\n",
       "      <th>Thrill_Horror</th>\n",
       "      <th>Bio_Hist_Doc_War</th>\n",
       "      <th>actor_popularity</th>\n",
       "      <th>director_popularity</th>\n",
       "    </tr>\n",
       "  </thead>\n",
       "  <tbody>\n",
       "    <tr>\n",
       "      <th>0</th>\n",
       "      <td>0</td>\n",
       "      <td>178.0</td>\n",
       "      <td>237000000.0</td>\n",
       "      <td>7.9</td>\n",
       "      <td>0</td>\n",
       "      <td>0</td>\n",
       "      <td>1</td>\n",
       "      <td>0</td>\n",
       "      <td>0</td>\n",
       "      <td>0</td>\n",
       "      <td>0</td>\n",
       "      <td>0</td>\n",
       "      <td>3</td>\n",
       "      <td>1</td>\n",
       "    </tr>\n",
       "    <tr>\n",
       "      <th>1</th>\n",
       "      <td>1</td>\n",
       "      <td>169.0</td>\n",
       "      <td>300000000.0</td>\n",
       "      <td>7.1</td>\n",
       "      <td>0</td>\n",
       "      <td>0</td>\n",
       "      <td>1</td>\n",
       "      <td>0</td>\n",
       "      <td>0</td>\n",
       "      <td>0</td>\n",
       "      <td>0</td>\n",
       "      <td>0</td>\n",
       "      <td>6</td>\n",
       "      <td>4</td>\n",
       "    </tr>\n",
       "  </tbody>\n",
       "</table>\n",
       "</div>"
      ],
      "text/plain": [
       "   Unnamed: 0  duration       budget  imdb_score  G  PG  PG-13  R  Comedy  \\\n",
       "0  0           178.0     237000000.0  7.9         0  0   1      0  0        \n",
       "1  1           169.0     300000000.0  7.1         0  0   1      0  0        \n",
       "\n",
       "   Drama  Thrill_Horror  Bio_Hist_Doc_War  actor_popularity  \\\n",
       "0  0      0              0                 3                  \n",
       "1  0      0              0                 6                  \n",
       "\n",
       "   director_popularity  \n",
       "0  1                    \n",
       "1  4                    "
      ]
     },
     "execution_count": 8,
     "metadata": {},
     "output_type": "execute_result"
    }
   ],
   "source": [
    "#preview dataset\n",
    "df1.head(2)"
   ]
  },
  {
   "cell_type": "code",
   "execution_count": 9,
   "metadata": {},
   "outputs": [],
   "source": [
    "#drop unnecessary column\n",
    "df1 = df1.drop(['Unnamed: 0'], axis=1)"
   ]
  },
  {
   "cell_type": "markdown",
   "metadata": {},
   "source": [
    "## Regression"
   ]
  },
  {
   "cell_type": "markdown",
   "metadata": {},
   "source": [
    "## Overview of Different Regression Techniques"
   ]
  },
  {
   "cell_type": "markdown",
   "metadata": {},
   "source": [
    "There are many different techniques that can be used to run regression analysis\n",
    "* Basic Scikit Regression\n",
    "* Ridge: Regularization\n",
    "* Lasso (Least Absolute Shrinkage and Selection Operation) Regression: minimizes SSE and includes regularization\n",
    "* f_Regression: Feature Selection\n",
    "* Recursive Feature Selection: Feature Selection\n",
    "* Random Forest Feature Selection"
   ]
  },
  {
   "cell_type": "markdown",
   "metadata": {},
   "source": [
    "### Basic Multilinear Regression"
   ]
  },
  {
   "cell_type": "code",
   "execution_count": 10,
   "metadata": {},
   "outputs": [],
   "source": [
    "#assigning columns to X and Y variables\n",
    "y = df1['imdb_score'] \n",
    "X = df1[['duration','budget', 'G', 'PG', 'PG-13', 'R', 'Comedy', 'Drama', 'Thrill_Horror', 'Bio_Hist_Doc_War', 'actor_popularity', 'director_popularity']]\n",
    "\n",
    "X = df1.drop(['imdb_score'], axis =1)"
   ]
  },
  {
   "cell_type": "code",
   "execution_count": 11,
   "metadata": {},
   "outputs": [],
   "source": [
    "#run a linear regression model\n",
    "model1 = lm.LinearRegression()\n",
    "model1.fit(X, y)   \n",
    "model1_y = model1.predict(X)"
   ]
  },
  {
   "cell_type": "code",
   "execution_count": 12,
   "metadata": {},
   "outputs": [
    {
     "name": "stdout",
     "output_type": "stream",
     "text": [
      "Coefficients:  [ 1.25703187e-02  1.01838625e-10 -2.16391654e-01 -5.37746975e-01\n",
      " -7.21839427e-01 -3.78410990e-01 -2.09914241e-01  3.74125766e-01\n",
      " -2.56506371e-01  9.51202473e-02  6.68898061e-02  8.84684215e-02]\n",
      "y-intercept  5.0932889794464025\n"
     ]
    }
   ],
   "source": [
    "#print coefficients and X intercepts\n",
    "print 'Coefficients: ', model1.coef_\n",
    "print \"y-intercept \", model1.intercept_"
   ]
  },
  {
   "cell_type": "markdown",
   "metadata": {},
   "source": [
    "The formular above tells us that an extremely short movie with a low budget that meets the following criteria will have around an IMDB score of 5:\n",
    "* Not rated G, PG, PG-13, or R\n",
    "* Not a Comedy, Drama, Thriller/Horror, Biography, Documentary, History, or War genre.\n",
    "* Very unpopular actors and directors"
   ]
  },
  {
   "cell_type": "code",
   "execution_count": 13,
   "metadata": {},
   "outputs": [
    {
     "data": {
      "text/html": [
       "<div>\n",
       "<style scoped>\n",
       "    .dataframe tbody tr th:only-of-type {\n",
       "        vertical-align: middle;\n",
       "    }\n",
       "\n",
       "    .dataframe tbody tr th {\n",
       "        vertical-align: top;\n",
       "    }\n",
       "\n",
       "    .dataframe thead th {\n",
       "        text-align: right;\n",
       "    }\n",
       "</style>\n",
       "<table border=\"1\" class=\"dataframe\">\n",
       "  <thead>\n",
       "    <tr style=\"text-align: right;\">\n",
       "      <th></th>\n",
       "      <th>0</th>\n",
       "      <th>1</th>\n",
       "    </tr>\n",
       "  </thead>\n",
       "  <tbody>\n",
       "    <tr>\n",
       "      <th>0</th>\n",
       "      <td>duration</td>\n",
       "      <td>1.257032e-02</td>\n",
       "    </tr>\n",
       "    <tr>\n",
       "      <th>1</th>\n",
       "      <td>budget</td>\n",
       "      <td>1.018386e-10</td>\n",
       "    </tr>\n",
       "    <tr>\n",
       "      <th>2</th>\n",
       "      <td>G</td>\n",
       "      <td>-2.163917e-01</td>\n",
       "    </tr>\n",
       "    <tr>\n",
       "      <th>3</th>\n",
       "      <td>PG</td>\n",
       "      <td>-5.377470e-01</td>\n",
       "    </tr>\n",
       "    <tr>\n",
       "      <th>4</th>\n",
       "      <td>PG-13</td>\n",
       "      <td>-7.218394e-01</td>\n",
       "    </tr>\n",
       "    <tr>\n",
       "      <th>5</th>\n",
       "      <td>R</td>\n",
       "      <td>-3.784110e-01</td>\n",
       "    </tr>\n",
       "    <tr>\n",
       "      <th>6</th>\n",
       "      <td>Comedy</td>\n",
       "      <td>-2.099142e-01</td>\n",
       "    </tr>\n",
       "    <tr>\n",
       "      <th>7</th>\n",
       "      <td>Drama</td>\n",
       "      <td>3.741258e-01</td>\n",
       "    </tr>\n",
       "    <tr>\n",
       "      <th>8</th>\n",
       "      <td>Thrill_Horror</td>\n",
       "      <td>-2.565064e-01</td>\n",
       "    </tr>\n",
       "    <tr>\n",
       "      <th>9</th>\n",
       "      <td>Bio_Hist_Doc_War</td>\n",
       "      <td>9.512025e-02</td>\n",
       "    </tr>\n",
       "    <tr>\n",
       "      <th>10</th>\n",
       "      <td>actor_popularity</td>\n",
       "      <td>6.688981e-02</td>\n",
       "    </tr>\n",
       "    <tr>\n",
       "      <th>11</th>\n",
       "      <td>director_popularity</td>\n",
       "      <td>8.846842e-02</td>\n",
       "    </tr>\n",
       "  </tbody>\n",
       "</table>\n",
       "</div>"
      ],
      "text/plain": [
       "                      0             1\n",
       "0   duration             1.257032e-02\n",
       "1   budget               1.018386e-10\n",
       "2   G                   -2.163917e-01\n",
       "3   PG                  -5.377470e-01\n",
       "4   PG-13               -7.218394e-01\n",
       "5   R                   -3.784110e-01\n",
       "6   Comedy              -2.099142e-01\n",
       "7   Drama                3.741258e-01\n",
       "8   Thrill_Horror       -2.565064e-01\n",
       "9   Bio_Hist_Doc_War     9.512025e-02\n",
       "10  actor_popularity     6.688981e-02\n",
       "11  director_popularity  8.846842e-02"
      ]
     },
     "execution_count": 13,
     "metadata": {},
     "output_type": "execute_result"
    }
   ],
   "source": [
    "#list the coefficients\n",
    "pd.DataFrame(zip(X.columns, np.transpose(model1.coef_)))"
   ]
  },
  {
   "cell_type": "code",
   "execution_count": 14,
   "metadata": {},
   "outputs": [
    {
     "data": {
      "text/plain": [
       "[('duration', '0.013'),\n",
       " ('budget', '0.000'),\n",
       " ('G', '-0.216'),\n",
       " ('PG', '-0.538'),\n",
       " ('PG-13', '-0.722'),\n",
       " ('R', '-0.378'),\n",
       " ('Comedy', '-0.210'),\n",
       " ('Drama', '0.374'),\n",
       " ('Thrill_Horror', '-0.257'),\n",
       " ('Bio_Hist_Doc_War', '0.095'),\n",
       " ('actor_popularity', '0.067'),\n",
       " ('director_popularity', '0.088')]"
      ]
     },
     "execution_count": 14,
     "metadata": {},
     "output_type": "execute_result"
    }
   ],
   "source": [
    "#Show the true numerical values for coefficients\n",
    "coef = [\"%.3f\" % i for i in model1.coef_]\n",
    "xcolumns = [ i for i in X.columns ]\n",
    "zip(xcolumns, coef)"
   ]
  },
  {
   "cell_type": "markdown",
   "metadata": {},
   "source": [
    "This model tells us that the following variables have the most weight in determining IMDB score:\n",
    "    * PG-13 (Y/N)\n",
    "    * R rating (Y/N)\n",
    "    * Drama (Y/N)\n",
    "    * Thriller/Horror (Y/N)"
   ]
  },
  {
   "cell_type": "code",
   "execution_count": 15,
   "metadata": {},
   "outputs": [
    {
     "name": "stdout",
     "output_type": "stream",
     "text": [
      "mean square error:  0.9377110285113476\n",
      "variance or r-squared:  0.23331301118972603\n"
     ]
    }
   ],
   "source": [
    "#assess the model\n",
    "print \"mean square error: \", mean_squared_error(y, model1_y)\n",
    "print \"variance or r-squared: \", explained_variance_score(y, model1_y)"
   ]
  },
  {
   "cell_type": "markdown",
   "metadata": {},
   "source": [
    "This model has a very high mean square error of .93 and an r-squared of .23, meaning it only describes 23% of the model"
   ]
  },
  {
   "cell_type": "code",
   "execution_count": 16,
   "metadata": {},
   "outputs": [],
   "source": [
    "# Choose a smaller set of multiple variables\n",
    "y = df1['imdb_score'] \n",
    "X = df1[['PG-13', 'Drama', 'duration']]"
   ]
  },
  {
   "cell_type": "code",
   "execution_count": 17,
   "metadata": {},
   "outputs": [],
   "source": [
    "#fit the model\n",
    "model2 = lm.LinearRegression()\n",
    "model2.fit(X, y)   \n",
    "model2_y = model2.predict(X)"
   ]
  },
  {
   "cell_type": "code",
   "execution_count": 18,
   "metadata": {},
   "outputs": [
    {
     "data": {
      "text/plain": [
       "[('PG-13', '-0.305'), ('Drama', '0.481'), ('duration', '0.016')]"
      ]
     },
     "execution_count": 18,
     "metadata": {},
     "output_type": "execute_result"
    }
   ],
   "source": [
    "#print coefficients\n",
    "coef = [\"%.3f\" % i for i in model2.coef_]\n",
    "xcolumns = [ i for i in X.columns ]\n",
    "zip(xcolumns, coef)"
   ]
  },
  {
   "cell_type": "code",
   "execution_count": 19,
   "metadata": {},
   "outputs": [
    {
     "name": "stdout",
     "output_type": "stream",
     "text": [
      "y-intercept  4.589846109471635\n"
     ]
    }
   ],
   "source": [
    "#print y intercept\n",
    "print \"y-intercept \", model2.intercept_"
   ]
  },
  {
   "cell_type": "code",
   "execution_count": 20,
   "metadata": {},
   "outputs": [
    {
     "name": "stdout",
     "output_type": "stream",
     "text": [
      "mean square error:  0.9815248658370738\n",
      "variance or r-squared:  0.19749014253816288\n"
     ]
    }
   ],
   "source": [
    "#assess the model\n",
    "print \"mean square error: \", mean_squared_error(y, model2_y)\n",
    "print \"variance or r-squared: \", explained_variance_score(y, model2_y)"
   ]
  },
  {
   "cell_type": "markdown",
   "metadata": {},
   "source": [
    "This model is even worse and barely represents most of the data."
   ]
  },
  {
   "cell_type": "markdown",
   "metadata": {},
   "source": [
    "Let's look at the residuals for model1"
   ]
  },
  {
   "cell_type": "code",
   "execution_count": 21,
   "metadata": {},
   "outputs": [
    {
     "data": {
      "image/png": "[encoded data removed]",
      "text/plain": [
       "<Figure size 576x396 with 2 Axes>"
      ]
     },
     "metadata": {},
     "output_type": "display_data"
    }
   ],
   "source": [
    "from yellowbrick.regressor import ResidualsPlot\n",
    "\n",
    "y = df1['imdb_score'] \n",
    "X = df1[['duration','budget', 'G', 'PG', 'PG-13', 'R', 'Comedy', 'Drama', 'Thrill_Horror', 'Bio_Hist_Doc_War', 'actor_popularity', 'director_popularity']]\n",
    "\n",
    "# Instantiate the linear model and visualizer\n",
    "regre = lm.LinearRegression()\n",
    "visualizer = ResidualsPlot(regre)\n",
    "\n",
    "visualizer.fit(X, y)  # Fit the training data to the model\n",
    "#visualizer.score(X_test, y_test)  # Evaluate the model on the test data\n",
    "visualizer.poof()                 # Draw/show/poof the data"
   ]
  },
  {
   "cell_type": "markdown",
   "metadata": {},
   "source": [
    "The residual plot above shows us that heteroskedasticity occurs\n",
    "* this is represented by the funnel like shape of the residuals\n",
    "* this tells us that a large portion of the data is not predicted by the linear model, and that non linear models should be explored."
   ]
  },
  {
   "cell_type": "markdown",
   "metadata": {},
   "source": [
    "### Ridge "
   ]
  },
  {
   "cell_type": "code",
   "execution_count": 22,
   "metadata": {},
   "outputs": [],
   "source": [
    "#Fit the model \n",
    "rig = lm.Ridge(alpha=.01)          \n",
    "rig.fit(X, y)\n",
    "rig_y = model1.predict(X)"
   ]
  },
  {
   "cell_type": "code",
   "execution_count": 23,
   "metadata": {},
   "outputs": [
    {
     "name": "stdout",
     "output_type": "stream",
     "text": [
      "Coefficients:  [ 1.25703770e-02  1.01834557e-10 -2.16282122e-01 -5.37647537e-01\n",
      " -7.21742591e-01 -3.78318739e-01 -2.09913490e-01  3.74123686e-01\n",
      " -2.56503546e-01  9.51213076e-02  6.68860252e-02  8.84684403e-02]\n",
      "y-intercept  5.09320393582218\n"
     ]
    }
   ],
   "source": [
    "#display coefficients and y intercept\n",
    "print 'Coefficients: ', rig.coef_\n",
    "print \"y-intercept \", rig.intercept_"
   ]
  },
  {
   "cell_type": "code",
   "execution_count": 24,
   "metadata": {},
   "outputs": [
    {
     "data": {
      "text/plain": [
       "[('duration', '0.013'),\n",
       " ('budget', '0.000'),\n",
       " ('G', '-0.216'),\n",
       " ('PG', '-0.538'),\n",
       " ('PG-13', '-0.722'),\n",
       " ('R', '-0.378'),\n",
       " ('Comedy', '-0.210'),\n",
       " ('Drama', '0.374'),\n",
       " ('Thrill_Horror', '-0.257'),\n",
       " ('Bio_Hist_Doc_War', '0.095'),\n",
       " ('actor_popularity', '0.067'),\n",
       " ('director_popularity', '0.088')]"
      ]
     },
     "execution_count": 24,
     "metadata": {},
     "output_type": "execute_result"
    }
   ],
   "source": [
    "#use regularization\n",
    "coef = [\"%.3f\" % i for i in rig.coef_]\n",
    "xcolumns = [ i for i in X.columns ]\n",
    "zip(xcolumns, coef)"
   ]
  },
  {
   "cell_type": "markdown",
   "metadata": {},
   "source": [
    "Interestingly enough, regularization did not change our coefficients, even when the alpha variable was adjusted to be smaaller and larger. It appears as though budget is not a good variable to predict IMDB score."
   ]
  },
  {
   "cell_type": "code",
   "execution_count": 25,
   "metadata": {},
   "outputs": [
    {
     "name": "stdout",
     "output_type": "stream",
     "text": [
      "mean square error:  0.9377110285113476\n",
      "variance or r-squared:  0.23331301118972603\n"
     ]
    }
   ],
   "source": [
    "print \"mean square error: \", mean_squared_error(y, rig_y)\n",
    "print \"variance or r-squared: \", explained_variance_score(y, rig_y)"
   ]
  },
  {
   "cell_type": "markdown",
   "metadata": {},
   "source": [
    "Because our coefficients didn't change, ridge regression did not change the MSE or R-squared values."
   ]
  },
  {
   "cell_type": "markdown",
   "metadata": {},
   "source": [
    "### Lasso"
   ]
  },
  {
   "cell_type": "markdown",
   "metadata": {},
   "source": [
    "* Lasso also uses regularization methods\n",
    "* However, lasso also uses feature selection to determine which fatures are the most important."
   ]
  },
  {
   "cell_type": "code",
   "execution_count": 26,
   "metadata": {},
   "outputs": [],
   "source": [
    "#assigning columns to X and Y variables\n",
    "y = df1['imdb_score'] \n",
    "X = df1[['duration','budget', 'G', 'PG', 'PG-13', 'R', 'Comedy', 'Drama', 'Thrill_Horror', 'Bio_Hist_Doc_War', 'actor_popularity', 'director_popularity']]\n",
    "\n",
    "X = df1.drop(['imdb_score'], axis =1)"
   ]
  },
  {
   "cell_type": "code",
   "execution_count": 27,
   "metadata": {},
   "outputs": [],
   "source": [
    "#Fit the model\n",
    "model3 = lm.Lasso(alpha=0.1)            #higher alpha (penality parameter), fewer predictors\n",
    "model3.fit(X, y)\n",
    "model3_y = model3.predict(X)"
   ]
  },
  {
   "cell_type": "code",
   "execution_count": 28,
   "metadata": {},
   "outputs": [
    {
     "name": "stdout",
     "output_type": "stream",
     "text": [
      "Coefficients:  [ 1.73498677e-02  3.09868716e-11  0.00000000e+00 -0.00000000e+00\n",
      " -0.00000000e+00  0.00000000e+00 -0.00000000e+00  6.61222791e-02\n",
      " -0.00000000e+00  0.00000000e+00  0.00000000e+00  0.00000000e+00]\n",
      "y-intercept  4.499396280224462\n"
     ]
    }
   ],
   "source": [
    "#print the coefficients and the y intercept\n",
    "print 'Coefficients: ', model3.coef_\n",
    "print \"y-intercept \", model3.intercept_"
   ]
  },
  {
   "cell_type": "code",
   "execution_count": 29,
   "metadata": {},
   "outputs": [
    {
     "data": {
      "text/plain": [
       "[('duration', '0.017'),\n",
       " ('budget', '0.000'),\n",
       " ('G', '0.000'),\n",
       " ('PG', '-0.000'),\n",
       " ('PG-13', '-0.000'),\n",
       " ('R', '0.000'),\n",
       " ('Comedy', '-0.000'),\n",
       " ('Drama', '0.066'),\n",
       " ('Thrill_Horror', '-0.000'),\n",
       " ('Bio_Hist_Doc_War', '0.000'),\n",
       " ('actor_popularity', '0.000'),\n",
       " ('director_popularity', '0.000')]"
      ]
     },
     "execution_count": 29,
     "metadata": {},
     "output_type": "execute_result"
    }
   ],
   "source": [
    "#show the coefficients after regualization and feature selection.\n",
    "coef = [\"%.3f\" % i for i in model3.coef_]\n",
    "xcolumns = [ i for i in X.columns ]\n",
    "zip(xcolumns, coef)"
   ]
  },
  {
   "cell_type": "code",
   "execution_count": 30,
   "metadata": {},
   "outputs": [
    {
     "data": {
      "text/plain": [
       "[('0.066', 'Drama'),\n",
       " ('0.017', 'duration'),\n",
       " ('0.000', 'director_popularity'),\n",
       " ('0.000', 'budget'),\n",
       " ('0.000', 'actor_popularity'),\n",
       " ('0.000', 'R'),\n",
       " ('0.000', 'G'),\n",
       " ('0.000', 'Bio_Hist_Doc_War'),\n",
       " ('-0.000', 'Thrill_Horror'),\n",
       " ('-0.000', 'PG-13'),\n",
       " ('-0.000', 'PG'),\n",
       " ('-0.000', 'Comedy')]"
      ]
     },
     "execution_count": 30,
     "metadata": {},
     "output_type": "execute_result"
    }
   ],
   "source": [
    "#sort the coefficients from highest to lowest\n",
    "sorted(zip(coef, xcolumns), reverse=True)"
   ]
  },
  {
   "cell_type": "code",
   "execution_count": 31,
   "metadata": {},
   "outputs": [
    {
     "data": {
      "text/html": [
       "<div>\n",
       "<style scoped>\n",
       "    .dataframe tbody tr th:only-of-type {\n",
       "        vertical-align: middle;\n",
       "    }\n",
       "\n",
       "    .dataframe tbody tr th {\n",
       "        vertical-align: top;\n",
       "    }\n",
       "\n",
       "    .dataframe thead th {\n",
       "        text-align: right;\n",
       "    }\n",
       "</style>\n",
       "<table border=\"1\" class=\"dataframe\">\n",
       "  <thead>\n",
       "    <tr style=\"text-align: right;\">\n",
       "      <th></th>\n",
       "      <th>0</th>\n",
       "      <th>1</th>\n",
       "    </tr>\n",
       "  </thead>\n",
       "  <tbody>\n",
       "    <tr>\n",
       "      <th>7</th>\n",
       "      <td>Drama</td>\n",
       "      <td>0.066</td>\n",
       "    </tr>\n",
       "    <tr>\n",
       "      <th>0</th>\n",
       "      <td>duration</td>\n",
       "      <td>0.017</td>\n",
       "    </tr>\n",
       "    <tr>\n",
       "      <th>1</th>\n",
       "      <td>budget</td>\n",
       "      <td>0.000</td>\n",
       "    </tr>\n",
       "    <tr>\n",
       "      <th>2</th>\n",
       "      <td>G</td>\n",
       "      <td>0.000</td>\n",
       "    </tr>\n",
       "    <tr>\n",
       "      <th>5</th>\n",
       "      <td>R</td>\n",
       "      <td>0.000</td>\n",
       "    </tr>\n",
       "    <tr>\n",
       "      <th>9</th>\n",
       "      <td>Bio_Hist_Doc_War</td>\n",
       "      <td>0.000</td>\n",
       "    </tr>\n",
       "    <tr>\n",
       "      <th>10</th>\n",
       "      <td>actor_popularity</td>\n",
       "      <td>0.000</td>\n",
       "    </tr>\n",
       "    <tr>\n",
       "      <th>11</th>\n",
       "      <td>director_popularity</td>\n",
       "      <td>0.000</td>\n",
       "    </tr>\n",
       "    <tr>\n",
       "      <th>3</th>\n",
       "      <td>PG</td>\n",
       "      <td>-0.000</td>\n",
       "    </tr>\n",
       "    <tr>\n",
       "      <th>4</th>\n",
       "      <td>PG-13</td>\n",
       "      <td>-0.000</td>\n",
       "    </tr>\n",
       "    <tr>\n",
       "      <th>6</th>\n",
       "      <td>Comedy</td>\n",
       "      <td>-0.000</td>\n",
       "    </tr>\n",
       "    <tr>\n",
       "      <th>8</th>\n",
       "      <td>Thrill_Horror</td>\n",
       "      <td>-0.000</td>\n",
       "    </tr>\n",
       "  </tbody>\n",
       "</table>\n",
       "</div>"
      ],
      "text/plain": [
       "                      0       1\n",
       "7   Drama                0.066 \n",
       "0   duration             0.017 \n",
       "1   budget               0.000 \n",
       "2   G                    0.000 \n",
       "5   R                    0.000 \n",
       "9   Bio_Hist_Doc_War     0.000 \n",
       "10  actor_popularity     0.000 \n",
       "11  director_popularity  0.000 \n",
       "3   PG                   -0.000\n",
       "4   PG-13                -0.000\n",
       "6   Comedy               -0.000\n",
       "8   Thrill_Horror        -0.000"
      ]
     },
     "execution_count": 31,
     "metadata": {},
     "output_type": "execute_result"
    }
   ],
   "source": [
    "#show sorted coefficients in a table\n",
    "a= zip(xcolumns, coef)\n",
    "df=pd.DataFrame(a)\n",
    "df.sort_values(1, ascending=False)"
   ]
  },
  {
   "cell_type": "markdown",
   "metadata": {},
   "source": [
    "This lasso method tells us that Drama and Duration are the most important variables in this model."
   ]
  },
  {
   "cell_type": "code",
   "execution_count": 32,
   "metadata": {},
   "outputs": [
    {
     "name": "stdout",
     "output_type": "stream",
     "text": [
      "mean square error:  1.0442852132700577\n",
      "variance or r-squared:  0.23331301118972603\n"
     ]
    }
   ],
   "source": [
    "print \"mean square error: \", mean_squared_error(y, model3_y)\n",
    "print \"variance or r-squared: \", explained_variance_score(y, model1_y)"
   ]
  },
  {
   "cell_type": "markdown",
   "metadata": {},
   "source": [
    "With the lasso method our model performed worse than with ridge or linear regression."
   ]
  },
  {
   "cell_type": "markdown",
   "metadata": {},
   "source": [
    "### f_Regression (Feature Selection)"
   ]
  },
  {
   "cell_type": "markdown",
   "metadata": {},
   "source": [
    "* f_regression is another method of feature selection\n",
    "* Let's look for three variables"
   ]
  },
  {
   "cell_type": "code",
   "execution_count": 33,
   "metadata": {},
   "outputs": [
    {
     "data": {
      "text/plain": [
       "array([[178.,   0.,   0.],\n",
       "       [169.,   0.,   0.],\n",
       "       [148.,   0.,   0.],\n",
       "       ...,\n",
       "       [ 84.,   1.,   0.],\n",
       "       [ 95.,   1.,   0.],\n",
       "       [ 90.,   0.,   1.]])"
      ]
     },
     "execution_count": 33,
     "metadata": {},
     "output_type": "execute_result"
    }
   ],
   "source": [
    "X_new = SelectKBest(f_regression, k=3).fit_transform(X, y)\n",
    "X_new"
   ]
  },
  {
   "cell_type": "code",
   "execution_count": 34,
   "metadata": {},
   "outputs": [
    {
     "data": {
      "text/html": [
       "<div>\n",
       "<style scoped>\n",
       "    .dataframe tbody tr th:only-of-type {\n",
       "        vertical-align: middle;\n",
       "    }\n",
       "\n",
       "    .dataframe tbody tr th {\n",
       "        vertical-align: top;\n",
       "    }\n",
       "\n",
       "    .dataframe thead th {\n",
       "        text-align: right;\n",
       "    }\n",
       "</style>\n",
       "<table border=\"1\" class=\"dataframe\">\n",
       "  <thead>\n",
       "    <tr style=\"text-align: right;\">\n",
       "      <th></th>\n",
       "      <th>duration</th>\n",
       "      <th>budget</th>\n",
       "      <th>imdb_score</th>\n",
       "      <th>G</th>\n",
       "      <th>PG</th>\n",
       "      <th>PG-13</th>\n",
       "      <th>R</th>\n",
       "      <th>Comedy</th>\n",
       "      <th>Drama</th>\n",
       "      <th>Thrill_Horror</th>\n",
       "      <th>Bio_Hist_Doc_War</th>\n",
       "      <th>actor_popularity</th>\n",
       "      <th>director_popularity</th>\n",
       "    </tr>\n",
       "  </thead>\n",
       "  <tbody>\n",
       "    <tr>\n",
       "      <th>4330</th>\n",
       "      <td>84.0</td>\n",
       "      <td>3250.0</td>\n",
       "      <td>7.8</td>\n",
       "      <td>0</td>\n",
       "      <td>0</td>\n",
       "      <td>1</td>\n",
       "      <td>0</td>\n",
       "      <td>0</td>\n",
       "      <td>1</td>\n",
       "      <td>0</td>\n",
       "      <td>0</td>\n",
       "      <td>1</td>\n",
       "      <td>2</td>\n",
       "    </tr>\n",
       "    <tr>\n",
       "      <th>4331</th>\n",
       "      <td>95.0</td>\n",
       "      <td>9000.0</td>\n",
       "      <td>6.4</td>\n",
       "      <td>0</td>\n",
       "      <td>0</td>\n",
       "      <td>0</td>\n",
       "      <td>0</td>\n",
       "      <td>1</td>\n",
       "      <td>1</td>\n",
       "      <td>0</td>\n",
       "      <td>0</td>\n",
       "      <td>2</td>\n",
       "      <td>1</td>\n",
       "    </tr>\n",
       "    <tr>\n",
       "      <th>4332</th>\n",
       "      <td>90.0</td>\n",
       "      <td>1100.0</td>\n",
       "      <td>6.6</td>\n",
       "      <td>0</td>\n",
       "      <td>1</td>\n",
       "      <td>0</td>\n",
       "      <td>0</td>\n",
       "      <td>0</td>\n",
       "      <td>0</td>\n",
       "      <td>0</td>\n",
       "      <td>1</td>\n",
       "      <td>1</td>\n",
       "      <td>2</td>\n",
       "    </tr>\n",
       "  </tbody>\n",
       "</table>\n",
       "</div>"
      ],
      "text/plain": [
       "      duration  budget  imdb_score  G  PG  PG-13  R  Comedy  Drama  \\\n",
       "4330  84.0      3250.0  7.8         0  0   1      0  0       1       \n",
       "4331  95.0      9000.0  6.4         0  0   0      0  1       1       \n",
       "4332  90.0      1100.0  6.6         0  1   0      0  0       0       \n",
       "\n",
       "      Thrill_Horror  Bio_Hist_Doc_War  actor_popularity  director_popularity  \n",
       "4330  0              0                 1                 2                    \n",
       "4331  0              0                 2                 1                    \n",
       "4332  0              1                 1                 2                    "
      ]
     },
     "execution_count": 34,
     "metadata": {},
     "output_type": "execute_result"
    }
   ],
   "source": [
    "df1.tail(3)"
   ]
  },
  {
   "cell_type": "markdown",
   "metadata": {},
   "source": [
    "f_regresion shows that duration, Darama, And Thrill_Horror are the three most important variables"
   ]
  },
  {
   "cell_type": "code",
   "execution_count": 35,
   "metadata": {},
   "outputs": [
    {
     "name": "stdout",
     "output_type": "stream",
     "text": [
      "mean square error:  0.9965265694326932\n",
      "variance or r-squared:  0.18522451847377597\n"
     ]
    }
   ],
   "source": [
    "# fit model using three variables f_variable chose (drmam, duration, thrill/horror)\n",
    "model4 = lm.LinearRegression()\n",
    "model4.fit(X_new, y)\n",
    "model4_y = model4.predict(X_new)\n",
    "\n",
    "print \"mean square error: \", mean_squared_error(y, model4_y)\n",
    "print \"variance or r-squared: \", explained_variance_score(y, model4_y)"
   ]
  },
  {
   "cell_type": "markdown",
   "metadata": {},
   "source": [
    "This model has an MSE of .99 and a varience of .185. It is very inaccurate."
   ]
  },
  {
   "cell_type": "code",
   "execution_count": 36,
   "metadata": {},
   "outputs": [],
   "source": [
    "#run f_regression with two varaibles (drama, duration)\n",
    "X_new = SelectKBest(f_regression, k=2).fit_transform(X, y)\n",
    "model5 = lm.LinearRegression()\n",
    "model5.fit(X_new, y)\n",
    "model5_y = model5.predict(X_new)"
   ]
  },
  {
   "cell_type": "code",
   "execution_count": 37,
   "metadata": {},
   "outputs": [
    {
     "name": "stdout",
     "output_type": "stream",
     "text": [
      "mean square error:  1.0015860452167162\n",
      "variance or r-squared:  0.18108781309667366\n"
     ]
    }
   ],
   "source": [
    "print \"mean square error: \", mean_squared_error(y, model5_y)\n",
    "print \"variance or r-squared: \", explained_variance_score(y, model5_y)"
   ]
  },
  {
   "cell_type": "markdown",
   "metadata": {},
   "source": [
    "Using 2 variables is less accurate than using 3."
   ]
  },
  {
   "cell_type": "markdown",
   "metadata": {},
   "source": [
    "### Recursive Feature Selection"
   ]
  },
  {
   "cell_type": "markdown",
   "metadata": {},
   "source": [
    "* Let's see if recursive feature selection helps with feature selection"
   ]
  },
  {
   "cell_type": "code",
   "execution_count": 38,
   "metadata": {},
   "outputs": [
    {
     "name": "stdout",
     "output_type": "stream",
     "text": [
      "Features sorted by their rank:\n",
      "[(1, 'Comedy'), (1, 'Drama'), (2, 'Thrill_Horror'), (3, 'PG-13'), (4, 'PG'), (5, 'R'), (6, 'G'), (7, 'Bio_Hist_Doc_War'), (8, 'director_popularity'), (9, 'actor_popularity'), (10, 'duration'), (11, 'budget')]\n"
     ]
    }
   ],
   "source": [
    "#run recursive feature selection\n",
    "lr = lm.LinearRegression()\n",
    "rfe = RFE(lr, n_features_to_select=2)\n",
    "rfe_y = rfe.fit(X,y)\n",
    "\n",
    "print \"Features sorted by their rank:\"\n",
    "print sorted(zip(map(lambda x: x, rfe.ranking_), X.columns)) "
   ]
  },
  {
   "cell_type": "markdown",
   "metadata": {},
   "source": [
    "Interestingly, recursive feature selection ranked Comedy, Drama, and Thrill_Horror as the number 1 most important variables."
   ]
  },
  {
   "cell_type": "markdown",
   "metadata": {},
   "source": [
    "### Random Forest for Feature Selection"
   ]
  },
  {
   "cell_type": "markdown",
   "metadata": {},
   "source": [
    "* Random forrest is another feature selection model"
   ]
  },
  {
   "cell_type": "code",
   "execution_count": 39,
   "metadata": {},
   "outputs": [
    {
     "name": "stdout",
     "output_type": "stream",
     "text": [
      "mean square error:  0.17972935262759615\n",
      "variance or r-squared:  0.8532068019909884\n"
     ]
    }
   ],
   "source": [
    "#import random forrest\n",
    "from sklearn.ensemble import RandomForestRegressor\n",
    "from sklearn.datasets import make_regression\n",
    "\n",
    "#assigning columns to X and Y variables\n",
    "y = df1['imdb_score'] \n",
    "X = df1[['duration','budget', 'G', 'PG', 'PG-13', 'R', 'Comedy', 'Drama', 'Thrill_Horror', 'Bio_Hist_Doc_War', 'actor_popularity', 'director_popularity']]\n",
    "X = df1.drop(['imdb_score'], axis =1)\n",
    "\n",
    "#run the model\n",
    "regr = RandomForestRegressor(random_state=0)\n",
    "regr.fit(X, y)\n",
    "regr_predicted = regr.predict(X)\n",
    "\n",
    "#print coefficient and y intercept\n",
    "print \"mean square error: \", mean_squared_error(y, regr_predicted)\n",
    "print \"variance or r-squared: \", explained_variance_score(y, regr_predicted)"
   ]
  },
  {
   "cell_type": "markdown",
   "metadata": {},
   "source": [
    "This model resulted in an R-squared of .85 which means the model is 85% accurate in predicting IMDB score. The mean square error is .18, which is also relatively low. This means that on average the error of this model is .18, so if the score is 5, the model will most likely predict within 4.82 and 5.18."
   ]
  },
  {
   "cell_type": "code",
   "execution_count": 40,
   "metadata": {},
   "outputs": [
    {
     "data": {
      "text/plain": [
       "[(0.011844842470369108, 'G'),\n",
       " (0.01568041835843737, 'PG'),\n",
       " (0.019860724204540672, 'R'),\n",
       " (0.025730514958458427, 'PG-13'),\n",
       " (0.028000604821214393, 'Comedy'),\n",
       " (0.028640864700906626, 'Bio_Hist_Doc_War'),\n",
       " (0.044453192892667526, 'Thrill_Horror'),\n",
       " (0.05323137755075917, 'Drama'),\n",
       " (0.07271682040152982, 'director_popularity'),\n",
       " (0.08287014795932876, 'actor_popularity'),\n",
       " (0.27232005892260125, 'budget'),\n",
       " (0.3446504327591869, 'duration')]"
      ]
     },
     "execution_count": 40,
     "metadata": {},
     "output_type": "execute_result"
    }
   ],
   "source": [
    "#list the coefficients\n",
    "sorted(zip(regr.feature_importances_, X.columns))"
   ]
  },
  {
   "cell_type": "markdown",
   "metadata": {},
   "source": [
    "In this model the imporance of variables is very different. The top variables are:\n",
    "* duration\n",
    "* budget\n",
    "* actor_popularity\n",
    "* director popularity\n",
    "* Drama"
   ]
  },
  {
   "cell_type": "markdown",
   "metadata": {},
   "source": [
    "The model can be rerun with these variables"
   ]
  },
  {
   "cell_type": "code",
   "execution_count": 41,
   "metadata": {},
   "outputs": [
    {
     "name": "stdout",
     "output_type": "stream",
     "text": [
      "mean square error:  0.2063862747908918\n",
      "variance or r-squared:  0.8313248405908475\n"
     ]
    }
   ],
   "source": [
    "#define x and y\n",
    "y = df1['imdb_score'] \n",
    "X = df1[['duration','budget', 'Drama', 'actor_popularity', 'director_popularity']]\n",
    "\n",
    "#fit the model\n",
    "regr = RandomForestRegressor(random_state=0)\n",
    "regr.fit(X, y)\n",
    "regr_predicted = regr.predict(X)\n",
    "\n",
    "#print the coefficients and y intercept\n",
    "print \"mean square error: \", mean_squared_error(y, regr_predicted)\n",
    "print \"variance or r-squared: \", explained_variance_score(y, regr_predicted)"
   ]
  },
  {
   "cell_type": "markdown",
   "metadata": {},
   "source": [
    "The accuracy of this model is still very high with an r-squared of .83 and a MSE of .206"
   ]
  },
  {
   "cell_type": "code",
   "execution_count": 42,
   "metadata": {},
   "outputs": [
    {
     "data": {
      "text/plain": [
       "[(0.0568794741693894, 'Drama'),\n",
       " (0.08122737761723024, 'director_popularity'),\n",
       " (0.10094260023650428, 'actor_popularity'),\n",
       " (0.3534886531465755, 'budget'),\n",
       " (0.4074618948303006, 'duration')]"
      ]
     },
     "execution_count": 42,
     "metadata": {},
     "output_type": "execute_result"
    }
   ],
   "source": [
    "#display feature importance\n",
    "sorted(zip(regr.feature_importances_, X.columns))"
   ]
  },
  {
   "cell_type": "markdown",
   "metadata": {},
   "source": [
    "* duration, budget, and actor popularity are the most important variables in this model"
   ]
  },
  {
   "cell_type": "code",
   "execution_count": 43,
   "metadata": {},
   "outputs": [
    {
     "name": "stdout",
     "output_type": "stream",
     "text": [
      "mean square error:  0.22436545710433742\n",
      "variance or r-squared:  0.816586063834304\n"
     ]
    }
   ],
   "source": [
    "#define x and y\n",
    "y = df1['imdb_score'] \n",
    "X = df1[['duration','budget', 'actor_popularity', 'director_popularity']]\n",
    "\n",
    "#fit the model\n",
    "regr = RandomForestRegressor(random_state=0)\n",
    "regr.fit(X, y)\n",
    "regr_predicted = regr.predict(X)\n",
    "\n",
    "#print the coefficients and y intercept\n",
    "print \"mean square error: \", mean_squared_error(y, regr_predicted)\n",
    "print \"variance or r-squared: \", explained_variance_score(y, regr_predicted)"
   ]
  },
  {
   "cell_type": "markdown",
   "metadata": {},
   "source": [
    "#### The most accurate model we used in this section was Random Forest with a prediction accuracy of 85.3% with all the variables included."
   ]
  },
  {
   "cell_type": "markdown",
   "metadata": {},
   "source": [
    "#### When the model is reduced to four variables: duration, budget, actor popularity, and director popularity the model is 81.7% accurate"
   ]
  }
 ],
 "metadata": {
  "kernelspec": {
   "display_name": "Python 2",
   "language": "python",
   "name": "python2"
  },
  "language_info": {
   "codemirror_mode": {
    "name": "ipython",
    "version": 2
   },
   "file_extension": ".py",
   "mimetype": "text/x-python",
   "name": "python",
   "nbconvert_exporter": "python",
   "pygments_lexer": "ipython2",
   "version": "2.7.15"
  }
 },
 "nbformat": 4,
 "nbformat_minor": 2
}
